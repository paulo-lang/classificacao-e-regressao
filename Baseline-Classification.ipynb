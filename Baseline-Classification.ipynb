{
 "cells": [
  {
   "cell_type": "markdown",
   "id": "86169f25",
   "metadata": {},
   "source": [
    "# Classificadores"
   ]
  },
  {
   "cell_type": "code",
   "execution_count": 140,
   "id": "845c9ed2",
   "metadata": {},
   "outputs": [],
   "source": [
    "from sklearn.datasets import load_digits, load_breast_cancer, load_wine\n",
    "\n",
    "#Digits\n",
    "digits = load_digits()\n",
    "xdig, ydig = digits.data, digits.target\n",
    "\n",
    "#Breast Cancer\n",
    "breast_cancer = load_breast_cancer()\n",
    "xbre, ybre = breast_cancer.data, breast_cancer.target\n",
    "\n",
    "#Wine\n",
    "wine = load_wine()\n",
    "xwine, ywine = wine.data, wine.target\n",
    "\n"
   ]
  },
  {
   "cell_type": "code",
   "execution_count": 141,
   "id": "16559090",
   "metadata": {},
   "outputs": [
    {
     "name": "stdout",
     "output_type": "stream",
     "text": [
      "Digits: \n",
      "[ 0.  0.  0. 12. 13.  5.  0.  0.  0.  0.  0. 11. 16.  9.  0.  0.  0.  0.\n",
      "  3. 15. 16.  6.  0.  0.  0.  7. 15. 16. 16.  2.  0.  0.  0.  0.  1. 16.\n",
      " 16.  3.  0.  0.  0.  0.  1. 16. 16.  6.  0.  0.  0.  0.  1. 16. 16.  6.\n",
      "  0.  0.  0.  0.  0. 11. 16. 10.  0.  0.]\n",
      "----------------------------------\n",
      "Breast Cancer: \n",
      "[2.057e+01 1.777e+01 1.329e+02 1.326e+03 8.474e-02 7.864e-02 8.690e-02\n",
      " 7.017e-02 1.812e-01 5.667e-02 5.435e-01 7.339e-01 3.398e+00 7.408e+01\n",
      " 5.225e-03 1.308e-02 1.860e-02 1.340e-02 1.389e-02 3.532e-03 2.499e+01\n",
      " 2.341e+01 1.588e+02 1.956e+03 1.238e-01 1.866e-01 2.416e-01 1.860e-01\n",
      " 2.750e-01 8.902e-02]\n",
      "----------------------------------\n",
      "Wine: \n",
      "[1.32e+01 1.78e+00 2.14e+00 1.12e+01 1.00e+02 2.65e+00 2.76e+00 2.60e-01\n",
      " 1.28e+00 4.38e+00 1.05e+00 3.40e+00 1.05e+03]\n",
      "----------------------------------\n"
     ]
    }
   ],
   "source": [
    "#Digits\n",
    "print(\"Digits: \")\n",
    "print(xdig[1])\n",
    "print(\"----------------------------------\")\n",
    "\n",
    "#Breast Cancer\n",
    "print(\"Breast Cancer: \")\n",
    "print(xbre[1])\n",
    "print(\"----------------------------------\")\n",
    "\n",
    "#Wine\n",
    "print(\"Wine: \")\n",
    "print(xwine[1])\n",
    "print(\"----------------------------------\")"
   ]
  },
  {
   "cell_type": "code",
   "execution_count": 142,
   "id": "676c24ae",
   "metadata": {},
   "outputs": [
    {
     "name": "stdout",
     "output_type": "stream",
     "text": [
      "Digits: \n",
      "[0 1 2 ... 8 9 8]\n",
      "----------------------------------\n",
      "Breast Cancer: \n",
      "[0 0 0 0 0 0 0 0 0 0 0 0 0 0 0 0 0 0 0 1 1 1 0 0 0 0 0 0 0 0 0 0 0 0 0 0 0\n",
      " 1 0 0 0 0 0 0 0 0 1 0 1 1 1 1 1 0 0 1 0 0 1 1 1 1 0 1 0 0 1 1 1 1 0 1 0 0\n",
      " 1 0 1 0 0 1 1 1 0 0 1 0 0 0 1 1 1 0 1 1 0 0 1 1 1 0 0 1 1 1 1 0 1 1 0 1 1\n",
      " 1 1 1 1 1 1 0 0 0 1 0 0 1 1 1 0 0 1 0 1 0 0 1 0 0 1 1 0 1 1 0 1 1 1 1 0 1\n",
      " 1 1 1 1 1 1 1 1 0 1 1 1 1 0 0 1 0 1 1 0 0 1 1 0 0 1 1 1 1 0 1 1 0 0 0 1 0\n",
      " 1 0 1 1 1 0 1 1 0 0 1 0 0 0 0 1 0 0 0 1 0 1 0 1 1 0 1 0 0 0 0 1 1 0 0 1 1\n",
      " 1 0 1 1 1 1 1 0 0 1 1 0 1 1 0 0 1 0 1 1 1 1 0 1 1 1 1 1 0 1 0 0 0 0 0 0 0\n",
      " 0 0 0 0 0 0 0 1 1 1 1 1 1 0 1 0 1 1 0 1 1 0 1 0 0 1 1 1 1 1 1 1 1 1 1 1 1\n",
      " 1 0 1 1 0 1 0 1 1 1 1 1 1 1 1 1 1 1 1 1 1 0 1 1 1 0 1 0 1 1 1 1 0 0 0 1 1\n",
      " 1 1 0 1 0 1 0 1 1 1 0 1 1 1 1 1 1 1 0 0 0 1 1 1 1 1 1 1 1 1 1 1 0 0 1 0 0\n",
      " 0 1 0 0 1 1 1 1 1 0 1 1 1 1 1 0 1 1 1 0 1 1 0 0 1 1 1 1 1 1 0 1 1 1 1 1 1\n",
      " 1 0 1 1 1 1 1 0 1 1 0 1 1 1 1 1 1 1 1 1 1 1 1 0 1 0 0 1 0 1 1 1 1 1 0 1 1\n",
      " 0 1 0 1 1 0 1 0 1 1 1 1 1 1 1 1 0 0 1 1 1 1 1 1 0 1 1 1 1 1 1 1 1 1 1 0 1\n",
      " 1 1 1 1 1 1 0 1 0 1 1 0 1 1 1 1 1 0 0 1 0 1 0 1 1 1 1 1 0 1 1 0 1 0 1 0 0\n",
      " 1 1 1 0 1 1 1 1 1 1 1 1 1 1 1 0 1 0 0 1 1 1 1 1 1 1 1 1 1 1 1 1 1 1 1 1 1\n",
      " 1 1 1 1 1 1 1 0 0 0 0 0 0 1]\n",
      "----------------------------------\n",
      "Wine: \n",
      "[0 0 0 0 0 0 0 0 0 0 0 0 0 0 0 0 0 0 0 0 0 0 0 0 0 0 0 0 0 0 0 0 0 0 0 0 0\n",
      " 0 0 0 0 0 0 0 0 0 0 0 0 0 0 0 0 0 0 0 0 0 0 1 1 1 1 1 1 1 1 1 1 1 1 1 1 1\n",
      " 1 1 1 1 1 1 1 1 1 1 1 1 1 1 1 1 1 1 1 1 1 1 1 1 1 1 1 1 1 1 1 1 1 1 1 1 1\n",
      " 1 1 1 1 1 1 1 1 1 1 1 1 1 1 1 1 1 1 1 2 2 2 2 2 2 2 2 2 2 2 2 2 2 2 2 2 2\n",
      " 2 2 2 2 2 2 2 2 2 2 2 2 2 2 2 2 2 2 2 2 2 2 2 2 2 2 2 2 2 2]\n",
      "----------------------------------\n"
     ]
    }
   ],
   "source": [
    "#Digits\n",
    "print(\"Digits: \")\n",
    "print(ydig)\n",
    "print(\"----------------------------------\")\n",
    "#Breast Cancer\n",
    "print(\"Breast Cancer: \")\n",
    "print(ybre)\n",
    "print(\"----------------------------------\")\n",
    "#Wine\n",
    "print(\"Wine: \")\n",
    "print(ywine)\n",
    "print(\"----------------------------------\")"
   ]
  },
  {
   "cell_type": "code",
   "execution_count": 143,
   "id": "344b1445",
   "metadata": {},
   "outputs": [],
   "source": [
    "results_dig = {}\n",
    "results_bre = {}\n",
    "results_wine = {}"
   ]
  },
  {
   "cell_type": "markdown",
   "id": "769241d9",
   "metadata": {},
   "source": [
    "# DecisionTree\n",
    "#However scikit-learn implementation does not support categorical variables for now"
   ]
  },
  {
   "cell_type": "code",
   "execution_count": 144,
   "id": "49415a88",
   "metadata": {},
   "outputs": [],
   "source": [
    "from sklearn.tree import DecisionTreeClassifier\n",
    "\n",
    "clf_tree = DecisionTreeClassifier(random_state=0)"
   ]
  },
  {
   "cell_type": "code",
   "execution_count": 145,
   "id": "23cd8c6f",
   "metadata": {},
   "outputs": [
    {
     "name": "stdout",
     "output_type": "stream",
     "text": [
      "Digits: \n",
      "[0.74453567 0.81254834 0.75393027]\n",
      "----------------------------------\n",
      "Breast Cancer: \n",
      "[0.88962696 0.94184084 0.8646422 ]\n",
      "----------------------------------\n",
      "Wine: \n",
      "[0.77468631 0.83042814 0.93163825]\n",
      "----------------------------------\n"
     ]
    }
   ],
   "source": [
    "from sklearn.model_selection import cross_val_score\n",
    "\n",
    "#Digits\n",
    "print(\"Digits: \")\n",
    "scores_dig = cross_val_score(clf_tree, xdig, ydig, cv=3, scoring='f1_weighted')\n",
    "print(scores_dig)\n",
    "print(\"----------------------------------\")\n",
    "#Breast Cancer\n",
    "print(\"Breast Cancer: \")\n",
    "scores_bre = cross_val_score(clf_tree, xbre, ybre, cv=3, scoring='f1_weighted')\n",
    "print(scores_bre)\n",
    "print(\"----------------------------------\")\n",
    "#Wine\n",
    "print(\"Wine: \")\n",
    "scores_wine = cross_val_score(clf_tree, xwine, ywine, cv=3, scoring='f1_weighted')\n",
    "print(scores_wine)\n",
    "print(\"----------------------------------\")"
   ]
  },
  {
   "cell_type": "code",
   "execution_count": 146,
   "id": "bbe34968",
   "metadata": {},
   "outputs": [],
   "source": [
    "import numpy as np\n",
    "\n",
    "results_dig[\"tree\"] = np.mean(scores_dig)\n",
    "results_bre[\"tree\"] = np.mean(scores_bre)\n",
    "results_wine[\"tree\"] = np.mean(scores_wine)"
   ]
  },
  {
   "cell_type": "code",
   "execution_count": 147,
   "id": "ff184a79",
   "metadata": {},
   "outputs": [],
   "source": [
    "from sklearn.model_selection import cross_validate\n",
    "\n",
    "scores_dig = cross_validate(clf_tree, xdig, ydig, cv=3, scoring=('f1_weighted', 'precision_weighted', 'recall_weighted'), return_train_score=True)\n",
    "scores_bre = cross_validate(clf_tree, xbre, ybre, cv=3, scoring=('f1_weighted', 'precision_weighted', 'recall_weighted'), return_train_score=True)\n",
    "scores_wine = cross_validate(clf_tree, xwine, ywine, cv=3, scoring=('f1_weighted', 'precision_weighted', 'recall_weighted'), return_train_score=True)"
   ]
  },
  {
   "cell_type": "code",
   "execution_count": 148,
   "id": "67d9e467",
   "metadata": {},
   "outputs": [
    {
     "name": "stdout",
     "output_type": "stream",
     "text": [
      "Digits: \n",
      "test_f1_weighted\n",
      "0.7703380959648253 [0.74453567 0.81254834 0.75393027]\n",
      "\n",
      "test_precision_weighted\n",
      "0.7769341419978434 [0.74868978 0.82067877 0.76143387]\n",
      "\n",
      "test_recall_weighted\n",
      "0.7707289927657207 [0.74457429 0.8130217  0.75459098]\n",
      "----------------------------------\n",
      "Breast Cancer: \n",
      "test_f1_weighted\n",
      "0.8987033350306769 [0.88962696 0.94184084 0.8646422 ]\n",
      "\n",
      "test_precision_weighted\n",
      "0.9047952506451478 [0.88983175 0.94208242 0.88247158]\n",
      "\n",
      "test_recall_weighted\n",
      "0.8980042699340944 [0.88947368 0.94210526 0.86243386]\n",
      "----------------------------------\n",
      "Wine: \n",
      "test_f1_weighted\n",
      "0.8455842322485002 [0.77468631 0.83042814 0.93163825]\n",
      "\n",
      "test_precision_weighted\n",
      "0.8717270278009318 [0.79995706 0.88186954 0.93335448]\n",
      "\n",
      "test_recall_weighted\n",
      "0.8486817325800375 [0.78333333 0.83050847 0.93220339]\n",
      "----------------------------------\n"
     ]
    }
   ],
   "source": [
    "print(\"Digits: \")\n",
    "print('test_f1_weighted')\n",
    "print(np.mean(scores_dig['test_f1_weighted']),scores_dig['test_f1_weighted'])\n",
    "print()\n",
    "\n",
    "print('test_precision_weighted')\n",
    "print(np.mean(scores_dig['test_precision_weighted']),scores_dig['test_precision_weighted'])\n",
    "print()\n",
    "\n",
    "print('test_recall_weighted')\n",
    "print(np.mean(scores_dig['test_recall_weighted']),scores_dig['test_recall_weighted'])\n",
    "print(\"----------------------------------\")\n",
    "\n",
    "print(\"Breast Cancer: \")\n",
    "print('test_f1_weighted')\n",
    "print(np.mean(scores_bre['test_f1_weighted']),scores_bre['test_f1_weighted'])\n",
    "print()\n",
    "\n",
    "print('test_precision_weighted')\n",
    "print(np.mean(scores_bre['test_precision_weighted']),scores_bre['test_precision_weighted'])\n",
    "print()\n",
    "\n",
    "print('test_recall_weighted')\n",
    "print(np.mean(scores_bre['test_recall_weighted']),scores_bre['test_recall_weighted'])\n",
    "print(\"----------------------------------\")\n",
    "\n",
    "print(\"Wine: \")\n",
    "print('test_f1_weighted')\n",
    "print(np.mean(scores_wine['test_f1_weighted']),scores_wine['test_f1_weighted'])\n",
    "print()\n",
    "\n",
    "print('test_precision_weighted')\n",
    "print(np.mean(scores_wine['test_precision_weighted']),scores_wine['test_precision_weighted'])\n",
    "print()\n",
    "\n",
    "print('test_recall_weighted')\n",
    "print(np.mean(scores_wine['test_recall_weighted']),scores_wine['test_recall_weighted'])\n",
    "print(\"----------------------------------\")"
   ]
  },
  {
   "cell_type": "code",
   "execution_count": 149,
   "id": "ec24dfec",
   "metadata": {},
   "outputs": [
    {
     "name": "stdout",
     "output_type": "stream",
     "text": [
      "Digits: \n",
      "train_f1_weighted\n",
      "1.0 [1. 1. 1.]\n",
      "train_precision_weighted\n",
      "1.0 [1. 1. 1.]\n",
      "train_recall_weighted\n",
      "1.0 [1. 1. 1.]\n",
      "----------------------------------\n",
      "Breast Cancer: \n",
      "train_f1_weighted\n",
      "1.0 [1. 1. 1.]\n",
      "train_precision_weighted\n",
      "1.0 [1. 1. 1.]\n",
      "train_recall_weighted\n",
      "1.0 [1. 1. 1.]\n",
      "----------------------------------\n",
      "Wine: \n",
      "train_f1_weighted\n",
      "1.0 [1. 1. 1.]\n",
      "train_precision_weighted\n",
      "1.0 [1. 1. 1.]\n",
      "train_recall_weighted\n",
      "1.0 [1. 1. 1.]\n",
      "----------------------------------\n"
     ]
    }
   ],
   "source": [
    "print(\"Digits: \")\n",
    "print('train_f1_weighted')\n",
    "print(np.mean(scores_dig['train_f1_weighted']),scores_dig['train_f1_weighted'])\n",
    "\n",
    "print('train_precision_weighted')\n",
    "print(np.mean(scores_dig['train_precision_weighted']),scores_dig['train_precision_weighted'])\n",
    "\n",
    "print('train_recall_weighted')\n",
    "print(np.mean(scores_dig['train_recall_weighted']),scores_dig['train_recall_weighted'])\n",
    "print(\"----------------------------------\")\n",
    "\n",
    "print(\"Breast Cancer: \")\n",
    "print('train_f1_weighted')\n",
    "print(np.mean(scores_bre['train_f1_weighted']),scores_bre['train_f1_weighted'])\n",
    "\n",
    "print('train_precision_weighted')\n",
    "print(np.mean(scores_bre['train_precision_weighted']),scores_bre['train_precision_weighted'])\n",
    "\n",
    "print('train_recall_weighted')\n",
    "print(np.mean(scores_bre['train_recall_weighted']),scores_bre['train_recall_weighted'])\n",
    "print(\"----------------------------------\")\n",
    "\n",
    "print(\"Wine: \")\n",
    "print('train_f1_weighted')\n",
    "print(np.mean(scores_wine['train_f1_weighted']),scores_wine['train_f1_weighted'])\n",
    "\n",
    "print('train_precision_weighted')\n",
    "print(np.mean(scores_wine['train_precision_weighted']),scores_wine['train_precision_weighted'])\n",
    "\n",
    "print('train_recall_weighted')\n",
    "print(np.mean(scores_wine['train_recall_weighted']),scores_wine['train_recall_weighted'])\n",
    "print(\"----------------------------------\")"
   ]
  },
  {
   "cell_type": "code",
   "execution_count": 150,
   "id": "ddf6e4f5",
   "metadata": {},
   "outputs": [],
   "source": [
    "#Digits\n",
    "model_trees_dig = clf_tree.fit(xdig, ydig)\n",
    "#Breast Cancer\n",
    "model_trees_bre = clf_tree.fit(xbre, ybre)\n",
    "#Wine\n",
    "model_trees_wine = clf_tree.fit(xwine, ywine)"
   ]
  },
  {
   "cell_type": "code",
   "execution_count": 151,
   "id": "3502ce5d",
   "metadata": {},
   "outputs": [
    {
     "name": "stdout",
     "output_type": "stream",
     "text": [
      "Digits: \n"
     ]
    },
    {
     "ename": "ValueError",
     "evalue": "X has 64 features, but DecisionTreeClassifier is expecting 13 features as input.",
     "output_type": "error",
     "traceback": [
      "\u001b[0;31m---------------------------------------------------------------------------\u001b[0m",
      "\u001b[0;31mValueError\u001b[0m                                Traceback (most recent call last)",
      "\u001b[1;32m/home/paulosantos/Downloads/ex veron/python/classificacao-e-regressao/Baseline-Classification.ipynb Cell 14'\u001b[0m in \u001b[0;36m<cell line: 2>\u001b[0;34m()\u001b[0m\n\u001b[1;32m      <a href='vscode-notebook-cell:/home/paulosantos/Downloads/ex%20veron/python/classificacao-e-regressao/Baseline-Classification.ipynb#ch0000013?line=0'>1</a>\u001b[0m \u001b[39mprint\u001b[39m(\u001b[39m\"\u001b[39m\u001b[39mDigits: \u001b[39m\u001b[39m\"\u001b[39m)\n\u001b[0;32m----> <a href='vscode-notebook-cell:/home/paulosantos/Downloads/ex%20veron/python/classificacao-e-regressao/Baseline-Classification.ipynb#ch0000013?line=1'>2</a>\u001b[0m model_trees_dig\u001b[39m.\u001b[39;49mpredict(xdig, \u001b[39mTrue\u001b[39;49;00m)\n\u001b[1;32m      <a href='vscode-notebook-cell:/home/paulosantos/Downloads/ex%20veron/python/classificacao-e-regressao/Baseline-Classification.ipynb#ch0000013?line=2'>3</a>\u001b[0m \u001b[39mprint\u001b[39m(\u001b[39m\"\u001b[39m\u001b[39m----------------------------------\u001b[39m\u001b[39m\"\u001b[39m)\n\u001b[1;32m      <a href='vscode-notebook-cell:/home/paulosantos/Downloads/ex%20veron/python/classificacao-e-regressao/Baseline-Classification.ipynb#ch0000013?line=4'>5</a>\u001b[0m \u001b[39mprint\u001b[39m(\u001b[39m\"\u001b[39m\u001b[39mBreast Cancer: \u001b[39m\u001b[39m\"\u001b[39m)\n",
      "File \u001b[0;32m~/.local/lib/python3.8/site-packages/sklearn/tree/_classes.py:467\u001b[0m, in \u001b[0;36mBaseDecisionTree.predict\u001b[0;34m(self, X, check_input)\u001b[0m\n\u001b[1;32m    444\u001b[0m \u001b[39m\"\"\"Predict class or regression value for X.\u001b[39;00m\n\u001b[1;32m    445\u001b[0m \n\u001b[1;32m    446\u001b[0m \u001b[39mFor a classification model, the predicted class for each sample in X is\u001b[39;00m\n\u001b[0;32m   (...)\u001b[0m\n\u001b[1;32m    464\u001b[0m \u001b[39m    The predicted classes, or the predict values.\u001b[39;00m\n\u001b[1;32m    465\u001b[0m \u001b[39m\"\"\"\u001b[39;00m\n\u001b[1;32m    466\u001b[0m check_is_fitted(\u001b[39mself\u001b[39m)\n\u001b[0;32m--> 467\u001b[0m X \u001b[39m=\u001b[39m \u001b[39mself\u001b[39;49m\u001b[39m.\u001b[39;49m_validate_X_predict(X, check_input)\n\u001b[1;32m    468\u001b[0m proba \u001b[39m=\u001b[39m \u001b[39mself\u001b[39m\u001b[39m.\u001b[39mtree_\u001b[39m.\u001b[39mpredict(X)\n\u001b[1;32m    469\u001b[0m n_samples \u001b[39m=\u001b[39m X\u001b[39m.\u001b[39mshape[\u001b[39m0\u001b[39m]\n",
      "File \u001b[0;32m~/.local/lib/python3.8/site-packages/sklearn/tree/_classes.py:433\u001b[0m, in \u001b[0;36mBaseDecisionTree._validate_X_predict\u001b[0;34m(self, X, check_input)\u001b[0m\n\u001b[1;32m    431\u001b[0m \u001b[39m\"\"\"Validate the training data on predict (probabilities).\"\"\"\u001b[39;00m\n\u001b[1;32m    432\u001b[0m \u001b[39mif\u001b[39;00m check_input:\n\u001b[0;32m--> 433\u001b[0m     X \u001b[39m=\u001b[39m \u001b[39mself\u001b[39;49m\u001b[39m.\u001b[39;49m_validate_data(X, dtype\u001b[39m=\u001b[39;49mDTYPE, accept_sparse\u001b[39m=\u001b[39;49m\u001b[39m\"\u001b[39;49m\u001b[39mcsr\u001b[39;49m\u001b[39m\"\u001b[39;49m, reset\u001b[39m=\u001b[39;49m\u001b[39mFalse\u001b[39;49;00m)\n\u001b[1;32m    434\u001b[0m     \u001b[39mif\u001b[39;00m issparse(X) \u001b[39mand\u001b[39;00m (\n\u001b[1;32m    435\u001b[0m         X\u001b[39m.\u001b[39mindices\u001b[39m.\u001b[39mdtype \u001b[39m!=\u001b[39m np\u001b[39m.\u001b[39mintc \u001b[39mor\u001b[39;00m X\u001b[39m.\u001b[39mindptr\u001b[39m.\u001b[39mdtype \u001b[39m!=\u001b[39m np\u001b[39m.\u001b[39mintc\n\u001b[1;32m    436\u001b[0m     ):\n\u001b[1;32m    437\u001b[0m         \u001b[39mraise\u001b[39;00m \u001b[39mValueError\u001b[39;00m(\u001b[39m\"\u001b[39m\u001b[39mNo support for np.int64 index based sparse matrices\u001b[39m\u001b[39m\"\u001b[39m)\n",
      "File \u001b[0;32m~/.local/lib/python3.8/site-packages/sklearn/base.py:585\u001b[0m, in \u001b[0;36mBaseEstimator._validate_data\u001b[0;34m(self, X, y, reset, validate_separately, **check_params)\u001b[0m\n\u001b[1;32m    582\u001b[0m     out \u001b[39m=\u001b[39m X, y\n\u001b[1;32m    584\u001b[0m \u001b[39mif\u001b[39;00m \u001b[39mnot\u001b[39;00m no_val_X \u001b[39mand\u001b[39;00m check_params\u001b[39m.\u001b[39mget(\u001b[39m\"\u001b[39m\u001b[39mensure_2d\u001b[39m\u001b[39m\"\u001b[39m, \u001b[39mTrue\u001b[39;00m):\n\u001b[0;32m--> 585\u001b[0m     \u001b[39mself\u001b[39;49m\u001b[39m.\u001b[39;49m_check_n_features(X, reset\u001b[39m=\u001b[39;49mreset)\n\u001b[1;32m    587\u001b[0m \u001b[39mreturn\u001b[39;00m out\n",
      "File \u001b[0;32m~/.local/lib/python3.8/site-packages/sklearn/base.py:400\u001b[0m, in \u001b[0;36mBaseEstimator._check_n_features\u001b[0;34m(self, X, reset)\u001b[0m\n\u001b[1;32m    397\u001b[0m     \u001b[39mreturn\u001b[39;00m\n\u001b[1;32m    399\u001b[0m \u001b[39mif\u001b[39;00m n_features \u001b[39m!=\u001b[39m \u001b[39mself\u001b[39m\u001b[39m.\u001b[39mn_features_in_:\n\u001b[0;32m--> 400\u001b[0m     \u001b[39mraise\u001b[39;00m \u001b[39mValueError\u001b[39;00m(\n\u001b[1;32m    401\u001b[0m         \u001b[39mf\u001b[39m\u001b[39m\"\u001b[39m\u001b[39mX has \u001b[39m\u001b[39m{\u001b[39;00mn_features\u001b[39m}\u001b[39;00m\u001b[39m features, but \u001b[39m\u001b[39m{\u001b[39;00m\u001b[39mself\u001b[39m\u001b[39m.\u001b[39m\u001b[39m__class__\u001b[39m\u001b[39m.\u001b[39m\u001b[39m__name__\u001b[39m\u001b[39m}\u001b[39;00m\u001b[39m \u001b[39m\u001b[39m\"\u001b[39m\n\u001b[1;32m    402\u001b[0m         \u001b[39mf\u001b[39m\u001b[39m\"\u001b[39m\u001b[39mis expecting \u001b[39m\u001b[39m{\u001b[39;00m\u001b[39mself\u001b[39m\u001b[39m.\u001b[39mn_features_in_\u001b[39m}\u001b[39;00m\u001b[39m features as input.\u001b[39m\u001b[39m\"\u001b[39m\n\u001b[1;32m    403\u001b[0m     )\n",
      "\u001b[0;31mValueError\u001b[0m: X has 64 features, but DecisionTreeClassifier is expecting 13 features as input."
     ]
    }
   ],
   "source": [
    "\n",
    "print(\"Digits: \")\n",
    "model_trees_dig.predict(xdig, True)\n",
    "print(\"----------------------------------\")\n",
    "\n",
    "print(\"Breast Cancer: \")\n",
    "model_trees_bre.predict(xbre, True)\n",
    "print(\"----------------------------------\")\n",
    "\n",
    "print(\"Wine: \")\n",
    "model_trees_wine.predict(xwine, True)\n",
    "print(\"----------------------------------\")\n"
   ]
  },
  {
   "cell_type": "code",
   "execution_count": null,
   "id": "58fa310c",
   "metadata": {},
   "outputs": [
    {
     "ename": "ValueError",
     "evalue": "X has 4 features, but DecisionTreeClassifier is expecting 64 features as input.",
     "output_type": "error",
     "traceback": [
      "\u001b[0;31m---------------------------------------------------------------------------\u001b[0m",
      "\u001b[0;31mValueError\u001b[0m                                Traceback (most recent call last)",
      "\u001b[1;32m/home/paulosantos/Downloads/ex veron/python/classificacao-e-regressao/Baseline-Classification.ipynb Cell 15'\u001b[0m in \u001b[0;36m<cell line: 1>\u001b[0;34m()\u001b[0m\n\u001b[0;32m----> <a href='vscode-notebook-cell:/home/paulosantos/Downloads/ex%20veron/python/classificacao-e-regressao/Baseline-Classification.ipynb#ch0000014?line=0'>1</a>\u001b[0m model_trees_dig\u001b[39m.\u001b[39;49mpredict_proba([[\u001b[39m2.\u001b[39;49m, \u001b[39m2.\u001b[39;49m, \u001b[39m3.\u001b[39;49m, \u001b[39m3.\u001b[39;49m]])\n",
      "File \u001b[0;32m~/.local/lib/python3.8/site-packages/sklearn/tree/_classes.py:971\u001b[0m, in \u001b[0;36mDecisionTreeClassifier.predict_proba\u001b[0;34m(self, X, check_input)\u001b[0m\n\u001b[1;32m    947\u001b[0m \u001b[39m\"\"\"Predict class probabilities of the input samples X.\u001b[39;00m\n\u001b[1;32m    948\u001b[0m \n\u001b[1;32m    949\u001b[0m \u001b[39mThe predicted class probability is the fraction of samples of the same\u001b[39;00m\n\u001b[0;32m   (...)\u001b[0m\n\u001b[1;32m    968\u001b[0m \u001b[39m    classes corresponds to that in the attribute :term:`classes_`.\u001b[39;00m\n\u001b[1;32m    969\u001b[0m \u001b[39m\"\"\"\u001b[39;00m\n\u001b[1;32m    970\u001b[0m check_is_fitted(\u001b[39mself\u001b[39m)\n\u001b[0;32m--> 971\u001b[0m X \u001b[39m=\u001b[39m \u001b[39mself\u001b[39;49m\u001b[39m.\u001b[39;49m_validate_X_predict(X, check_input)\n\u001b[1;32m    972\u001b[0m proba \u001b[39m=\u001b[39m \u001b[39mself\u001b[39m\u001b[39m.\u001b[39mtree_\u001b[39m.\u001b[39mpredict(X)\n\u001b[1;32m    974\u001b[0m \u001b[39mif\u001b[39;00m \u001b[39mself\u001b[39m\u001b[39m.\u001b[39mn_outputs_ \u001b[39m==\u001b[39m \u001b[39m1\u001b[39m:\n",
      "File \u001b[0;32m~/.local/lib/python3.8/site-packages/sklearn/tree/_classes.py:433\u001b[0m, in \u001b[0;36mBaseDecisionTree._validate_X_predict\u001b[0;34m(self, X, check_input)\u001b[0m\n\u001b[1;32m    431\u001b[0m \u001b[39m\"\"\"Validate the training data on predict (probabilities).\"\"\"\u001b[39;00m\n\u001b[1;32m    432\u001b[0m \u001b[39mif\u001b[39;00m check_input:\n\u001b[0;32m--> 433\u001b[0m     X \u001b[39m=\u001b[39m \u001b[39mself\u001b[39;49m\u001b[39m.\u001b[39;49m_validate_data(X, dtype\u001b[39m=\u001b[39;49mDTYPE, accept_sparse\u001b[39m=\u001b[39;49m\u001b[39m\"\u001b[39;49m\u001b[39mcsr\u001b[39;49m\u001b[39m\"\u001b[39;49m, reset\u001b[39m=\u001b[39;49m\u001b[39mFalse\u001b[39;49;00m)\n\u001b[1;32m    434\u001b[0m     \u001b[39mif\u001b[39;00m issparse(X) \u001b[39mand\u001b[39;00m (\n\u001b[1;32m    435\u001b[0m         X\u001b[39m.\u001b[39mindices\u001b[39m.\u001b[39mdtype \u001b[39m!=\u001b[39m np\u001b[39m.\u001b[39mintc \u001b[39mor\u001b[39;00m X\u001b[39m.\u001b[39mindptr\u001b[39m.\u001b[39mdtype \u001b[39m!=\u001b[39m np\u001b[39m.\u001b[39mintc\n\u001b[1;32m    436\u001b[0m     ):\n\u001b[1;32m    437\u001b[0m         \u001b[39mraise\u001b[39;00m \u001b[39mValueError\u001b[39;00m(\u001b[39m\"\u001b[39m\u001b[39mNo support for np.int64 index based sparse matrices\u001b[39m\u001b[39m\"\u001b[39m)\n",
      "File \u001b[0;32m~/.local/lib/python3.8/site-packages/sklearn/base.py:585\u001b[0m, in \u001b[0;36mBaseEstimator._validate_data\u001b[0;34m(self, X, y, reset, validate_separately, **check_params)\u001b[0m\n\u001b[1;32m    582\u001b[0m     out \u001b[39m=\u001b[39m X, y\n\u001b[1;32m    584\u001b[0m \u001b[39mif\u001b[39;00m \u001b[39mnot\u001b[39;00m no_val_X \u001b[39mand\u001b[39;00m check_params\u001b[39m.\u001b[39mget(\u001b[39m\"\u001b[39m\u001b[39mensure_2d\u001b[39m\u001b[39m\"\u001b[39m, \u001b[39mTrue\u001b[39;00m):\n\u001b[0;32m--> 585\u001b[0m     \u001b[39mself\u001b[39;49m\u001b[39m.\u001b[39;49m_check_n_features(X, reset\u001b[39m=\u001b[39;49mreset)\n\u001b[1;32m    587\u001b[0m \u001b[39mreturn\u001b[39;00m out\n",
      "File \u001b[0;32m~/.local/lib/python3.8/site-packages/sklearn/base.py:400\u001b[0m, in \u001b[0;36mBaseEstimator._check_n_features\u001b[0;34m(self, X, reset)\u001b[0m\n\u001b[1;32m    397\u001b[0m     \u001b[39mreturn\u001b[39;00m\n\u001b[1;32m    399\u001b[0m \u001b[39mif\u001b[39;00m n_features \u001b[39m!=\u001b[39m \u001b[39mself\u001b[39m\u001b[39m.\u001b[39mn_features_in_:\n\u001b[0;32m--> 400\u001b[0m     \u001b[39mraise\u001b[39;00m \u001b[39mValueError\u001b[39;00m(\n\u001b[1;32m    401\u001b[0m         \u001b[39mf\u001b[39m\u001b[39m\"\u001b[39m\u001b[39mX has \u001b[39m\u001b[39m{\u001b[39;00mn_features\u001b[39m}\u001b[39;00m\u001b[39m features, but \u001b[39m\u001b[39m{\u001b[39;00m\u001b[39mself\u001b[39m\u001b[39m.\u001b[39m\u001b[39m__class__\u001b[39m\u001b[39m.\u001b[39m\u001b[39m__name__\u001b[39m\u001b[39m}\u001b[39;00m\u001b[39m \u001b[39m\u001b[39m\"\u001b[39m\n\u001b[1;32m    402\u001b[0m         \u001b[39mf\u001b[39m\u001b[39m\"\u001b[39m\u001b[39mis expecting \u001b[39m\u001b[39m{\u001b[39;00m\u001b[39mself\u001b[39m\u001b[39m.\u001b[39mn_features_in_\u001b[39m}\u001b[39;00m\u001b[39m features as input.\u001b[39m\u001b[39m\"\u001b[39m\n\u001b[1;32m    403\u001b[0m     )\n",
      "\u001b[0;31mValueError\u001b[0m: X has 4 features, but DecisionTreeClassifier is expecting 64 features as input."
     ]
    }
   ],
   "source": [
    "model_trees_dig.predict_proba_proba([[2., 2., 3., 3.]])\n",
    "\n",
    "\n",
    "print(\"Digits: \")\n",
    "model_trees_dig.predict_proba([[2., 2., 3., 3.]])\n",
    "print(\"----------------------------------\")\n",
    "\n",
    "print(\"Breast Cancer: \")\n",
    "model_trees_bre.predict_proba([[2., 2., 3., 3.]])\n",
    "print(\"----------------------------------\")\n",
    "\n",
    "print(\"Wine: \")\n",
    "model_trees_wine.predict_proba([[2., 2., 3., 3.]])\n",
    "print(\"----------------------------------\")"
   ]
  },
  {
   "cell_type": "code",
   "execution_count": null,
   "id": "a009df37",
   "metadata": {},
   "outputs": [
    {
     "data": {
      "image/png": "[encoded data removed]",
      "text/plain": [
       "<Figure size 1440x1440 with 1 Axes>"
      ]
     },
     "metadata": {
      "needs_background": "light"
     },
     "output_type": "display_data"
    }
   ],
   "source": [
    "#Digits\n",
    "from sklearn.tree import plot_tree\n",
    "import matplotlib.pyplot as plt\n",
    "\n",
    "plt.figure()\n",
    "plt.rcParams[\"figure.figsize\"] = (20,20)\n",
    "plot_tree(model_trees_dig, filled=True)\n",
    "plt.title(\"Decision tree trained on all the digits features\")\n",
    "plt.show()"
   ]
  },
  {
   "cell_type": "code",
   "execution_count": null,
   "id": "ee6ff532",
   "metadata": {},
   "outputs": [],
   "source": [
    "#Breast Cancer\n",
    "from sklearn.tree import plot_tree\n",
    "import matplotlib.pyplot as plt\n",
    "\n",
    "plt.figure()\n",
    "plt.rcParams[\"figure.figsize\"] = (20,20)\n",
    "plot_tree(model_trees_bre, filled=True)\n",
    "plt.title(\"Decision tree trained on all the Breast_Cancer features\")\n",
    "plt.show()"
   ]
  },
  {
   "cell_type": "code",
   "execution_count": null,
   "id": "c5eca921",
   "metadata": {},
   "outputs": [],
   "source": [
    "#Wine\n",
    "from sklearn.tree import plot_tree\n",
    "import matplotlib.pyplot as plt\n",
    "\n",
    "plt.figure()\n",
    "plt.rcParams[\"figure.figsize\"] = (20,20)\n",
    "plot_tree(model_trees_wine, filled=True)\n",
    "plt.title(\"Decision tree trained on all the Wine features\")\n",
    "plt.show()"
   ]
  },
  {
   "cell_type": "code",
   "execution_count": null,
   "id": "6fc864ad",
   "metadata": {},
   "outputs": [
    {
     "data": {
      "text/plain": [
       "GridSearchCV(cv=3, estimator=DecisionTreeClassifier(random_state=0),\n",
       "             param_grid={'criterion': ['entropy'], 'max_depth': [3, 7, 9]},\n",
       "             scoring='f1_weighted')"
      ]
     },
     "execution_count": 52,
     "metadata": {},
     "output_type": "execute_result"
    }
   ],
   "source": [
    "#Digits\n",
    "from sklearn.model_selection import GridSearchCV\n",
    "\n",
    "param_grid = {'criterion':['gini', 'entropy'], 'max_depth':[3, 7, 9]}\n",
    "best_tree_dig = GridSearchCV(clf_tree, param_grid, scoring=('f1_weighted'), cv=3, refit=True)\n",
    "best_tree_dig.fit(xdig, ydig)\n"
   ]
  },
  {
   "cell_type": "code",
   "execution_count": null,
   "id": "8a549907",
   "metadata": {},
   "outputs": [],
   "source": [
    "#Breast Cancer\n",
    "from sklearn.model_selection import GridSearchCV\n",
    "\n",
    "param_grid = {'criterion':['gini', 'entropy'], 'max_depth':[3, 7, 9]}\n",
    "best_tree_bre = GridSearchCV(clf_tree_bre, param_grid, scoring=('f1_weighted'), cv=3, refit=True)\n",
    "best_tree_bre.fit(xbre, ybre)"
   ]
  },
  {
   "cell_type": "code",
   "execution_count": null,
   "id": "eceaedd4",
   "metadata": {},
   "outputs": [],
   "source": [
    "#Wine\n",
    "from sklearn.model_selection import GridSearchCV\n",
    "\n",
    "param_grid = {'criterion':['gini', 'entropy'], 'max_depth':[3, 7, 9]}\n",
    "best_tree_wine = GridSearchCV(clf_tree_wine, param_grid, scoring=('f1_weighted'), cv=3, refit=True)\n",
    "best_tree_wine.fit(xwine, ywine)"
   ]
  },
  {
   "cell_type": "markdown",
   "id": "a2e9de89",
   "metadata": {},
   "source": [
    "# Digits"
   ]
  },
  {
   "cell_type": "code",
   "execution_count": null,
   "id": "68c2e2c2",
   "metadata": {},
   "outputs": [],
   "source": [
    "import pandas as pd\n",
    "\n",
    "df_dig = pd.DataFrame(best_tree_dig.cv_results_)\n",
    "df_dig"
   ]
  },
  {
   "cell_type": "code",
   "execution_count": null,
   "id": "6066e02c",
   "metadata": {},
   "outputs": [
    {
     "data": {
      "text/html": [
       "<div>\n",
       "<style scoped>\n",
       "    .dataframe tbody tr th:only-of-type {\n",
       "        vertical-align: middle;\n",
       "    }\n",
       "\n",
       "    .dataframe tbody tr th {\n",
       "        vertical-align: top;\n",
       "    }\n",
       "\n",
       "    .dataframe thead th {\n",
       "        text-align: right;\n",
       "    }\n",
       "</style>\n",
       "<table border=\"1\" class=\"dataframe\">\n",
       "  <thead>\n",
       "    <tr style=\"text-align: right;\">\n",
       "      <th></th>\n",
       "      <th>mean_fit_time</th>\n",
       "      <th>std_fit_time</th>\n",
       "      <th>mean_score_time</th>\n",
       "      <th>std_score_time</th>\n",
       "      <th>param_criterion</th>\n",
       "      <th>param_max_depth</th>\n",
       "      <th>params</th>\n",
       "      <th>split0_test_score</th>\n",
       "      <th>split1_test_score</th>\n",
       "      <th>split2_test_score</th>\n",
       "      <th>mean_test_score</th>\n",
       "      <th>std_test_score</th>\n",
       "      <th>rank_test_score</th>\n",
       "    </tr>\n",
       "  </thead>\n",
       "  <tbody>\n",
       "    <tr>\n",
       "      <th>0</th>\n",
       "      <td>0.001668</td>\n",
       "      <td>1.248021e-03</td>\n",
       "      <td>0.001662</td>\n",
       "      <td>0.000467</td>\n",
       "      <td>entropy</td>\n",
       "      <td>3</td>\n",
       "      <td>{'criterion': 'entropy', 'max_depth': 3}</td>\n",
       "      <td>0.942857</td>\n",
       "      <td>0.971478</td>\n",
       "      <td>0.941723</td>\n",
       "      <td>0.952020</td>\n",
       "      <td>0.013767</td>\n",
       "      <td>3</td>\n",
       "    </tr>\n",
       "    <tr>\n",
       "      <th>1</th>\n",
       "      <td>0.001001</td>\n",
       "      <td>9.798072e-07</td>\n",
       "      <td>0.001334</td>\n",
       "      <td>0.000473</td>\n",
       "      <td>entropy</td>\n",
       "      <td>7</td>\n",
       "      <td>{'criterion': 'entropy', 'max_depth': 7}</td>\n",
       "      <td>0.942857</td>\n",
       "      <td>1.000000</td>\n",
       "      <td>0.941723</td>\n",
       "      <td>0.961527</td>\n",
       "      <td>0.027209</td>\n",
       "      <td>1</td>\n",
       "    </tr>\n",
       "    <tr>\n",
       "      <th>2</th>\n",
       "      <td>0.001668</td>\n",
       "      <td>1.248446e-03</td>\n",
       "      <td>0.001008</td>\n",
       "      <td>0.000011</td>\n",
       "      <td>entropy</td>\n",
       "      <td>9</td>\n",
       "      <td>{'criterion': 'entropy', 'max_depth': 9}</td>\n",
       "      <td>0.942857</td>\n",
       "      <td>1.000000</td>\n",
       "      <td>0.941723</td>\n",
       "      <td>0.961527</td>\n",
       "      <td>0.027209</td>\n",
       "      <td>1</td>\n",
       "    </tr>\n",
       "  </tbody>\n",
       "</table>\n",
       "</div>"
      ],
      "text/plain": [
       "   mean_fit_time  std_fit_time  mean_score_time  std_score_time  \\\n",
       "0       0.001668  1.248021e-03         0.001662        0.000467   \n",
       "1       0.001001  9.798072e-07         0.001334        0.000473   \n",
       "2       0.001668  1.248446e-03         0.001008        0.000011   \n",
       "\n",
       "  param_criterion param_max_depth                                    params  \\\n",
       "0         entropy               3  {'criterion': 'entropy', 'max_depth': 3}   \n",
       "1         entropy               7  {'criterion': 'entropy', 'max_depth': 7}   \n",
       "2         entropy               9  {'criterion': 'entropy', 'max_depth': 9}   \n",
       "\n",
       "   split0_test_score  split1_test_score  split2_test_score  mean_test_score  \\\n",
       "0           0.942857           0.971478           0.941723         0.952020   \n",
       "1           0.942857           1.000000           0.941723         0.961527   \n",
       "2           0.942857           1.000000           0.941723         0.961527   \n",
       "\n",
       "   std_test_score  rank_test_score  \n",
       "0        0.013767                3  \n",
       "1        0.027209                1  \n",
       "2        0.027209                1  "
      ]
     },
     "execution_count": 51,
     "metadata": {},
     "output_type": "execute_result"
    }
   ],
   "source": [
    "best_model_dig = best_tree_dig.best_estimator_\n",
    "best_model_dig.fit(xdig, ydig)\n",
    "\n",
    "df_dig = pd.DataFrame(best_tree_dig.cv_results_)\n",
    "df_dig"
   ]
  },
  {
   "cell_type": "code",
   "execution_count": null,
   "id": "3516e73e",
   "metadata": {},
   "outputs": [
    {
     "name": "stdout",
     "output_type": "stream",
     "text": [
      "[0.95325017 0.95322239 0.95322239]\n",
      "DecisionTreeClassifier(criterion='entropy', max_depth=3, random_state=0)\n",
      "{'criterion': 'entropy', 'max_depth': 3}\n",
      "0.95325017067759\n"
     ]
    }
   ],
   "source": [
    "print(best_tree_dig.cv_results_['mean_test_score'])\n",
    "print(best_tree_dig.best_estimator_)\n",
    "print(best_tree_dig.best_params_)\n",
    "print(best_tree_dig.best_score_)"
   ]
  },
  {
   "cell_type": "markdown",
   "id": "150ff6b9",
   "metadata": {},
   "source": [
    "# Breast_Cancer"
   ]
  },
  {
   "cell_type": "code",
   "execution_count": null,
   "id": "68c2e2c2",
   "metadata": {},
   "outputs": [],
   "source": [
    "import pandas as pd\n",
    "\n",
    "df_bre = pd.DataFrame(best_tree_bre.cv_results_)\n",
    "df_bre"
   ]
  },
  {
   "cell_type": "code",
   "execution_count": null,
   "id": "6066e02c",
   "metadata": {},
   "outputs": [
    {
     "data": {
      "text/html": [
       "<div>\n",
       "<style scoped>\n",
       "    .dataframe tbody tr th:only-of-type {\n",
       "        vertical-align: middle;\n",
       "    }\n",
       "\n",
       "    .dataframe tbody tr th {\n",
       "        vertical-align: top;\n",
       "    }\n",
       "\n",
       "    .dataframe thead th {\n",
       "        text-align: right;\n",
       "    }\n",
       "</style>\n",
       "<table border=\"1\" class=\"dataframe\">\n",
       "  <thead>\n",
       "    <tr style=\"text-align: right;\">\n",
       "      <th></th>\n",
       "      <th>mean_fit_time</th>\n",
       "      <th>std_fit_time</th>\n",
       "      <th>mean_score_time</th>\n",
       "      <th>std_score_time</th>\n",
       "      <th>param_criterion</th>\n",
       "      <th>param_max_depth</th>\n",
       "      <th>params</th>\n",
       "      <th>split0_test_score</th>\n",
       "      <th>split1_test_score</th>\n",
       "      <th>split2_test_score</th>\n",
       "      <th>mean_test_score</th>\n",
       "      <th>std_test_score</th>\n",
       "      <th>rank_test_score</th>\n",
       "    </tr>\n",
       "  </thead>\n",
       "  <tbody>\n",
       "    <tr>\n",
       "      <th>0</th>\n",
       "      <td>0.001668</td>\n",
       "      <td>1.248021e-03</td>\n",
       "      <td>0.001662</td>\n",
       "      <td>0.000467</td>\n",
       "      <td>entropy</td>\n",
       "      <td>3</td>\n",
       "      <td>{'criterion': 'entropy', 'max_depth': 3}</td>\n",
       "      <td>0.942857</td>\n",
       "      <td>0.971478</td>\n",
       "      <td>0.941723</td>\n",
       "      <td>0.952020</td>\n",
       "      <td>0.013767</td>\n",
       "      <td>3</td>\n",
       "    </tr>\n",
       "    <tr>\n",
       "      <th>1</th>\n",
       "      <td>0.001001</td>\n",
       "      <td>9.798072e-07</td>\n",
       "      <td>0.001334</td>\n",
       "      <td>0.000473</td>\n",
       "      <td>entropy</td>\n",
       "      <td>7</td>\n",
       "      <td>{'criterion': 'entropy', 'max_depth': 7}</td>\n",
       "      <td>0.942857</td>\n",
       "      <td>1.000000</td>\n",
       "      <td>0.941723</td>\n",
       "      <td>0.961527</td>\n",
       "      <td>0.027209</td>\n",
       "      <td>1</td>\n",
       "    </tr>\n",
       "    <tr>\n",
       "      <th>2</th>\n",
       "      <td>0.001668</td>\n",
       "      <td>1.248446e-03</td>\n",
       "      <td>0.001008</td>\n",
       "      <td>0.000011</td>\n",
       "      <td>entropy</td>\n",
       "      <td>9</td>\n",
       "      <td>{'criterion': 'entropy', 'max_depth': 9}</td>\n",
       "      <td>0.942857</td>\n",
       "      <td>1.000000</td>\n",
       "      <td>0.941723</td>\n",
       "      <td>0.961527</td>\n",
       "      <td>0.027209</td>\n",
       "      <td>1</td>\n",
       "    </tr>\n",
       "  </tbody>\n",
       "</table>\n",
       "</div>"
      ],
      "text/plain": [
       "   mean_fit_time  std_fit_time  mean_score_time  std_score_time  \\\n",
       "0       0.001668  1.248021e-03         0.001662        0.000467   \n",
       "1       0.001001  9.798072e-07         0.001334        0.000473   \n",
       "2       0.001668  1.248446e-03         0.001008        0.000011   \n",
       "\n",
       "  param_criterion param_max_depth                                    params  \\\n",
       "0         entropy               3  {'criterion': 'entropy', 'max_depth': 3}   \n",
       "1         entropy               7  {'criterion': 'entropy', 'max_depth': 7}   \n",
       "2         entropy               9  {'criterion': 'entropy', 'max_depth': 9}   \n",
       "\n",
       "   split0_test_score  split1_test_score  split2_test_score  mean_test_score  \\\n",
       "0           0.942857           0.971478           0.941723         0.952020   \n",
       "1           0.942857           1.000000           0.941723         0.961527   \n",
       "2           0.942857           1.000000           0.941723         0.961527   \n",
       "\n",
       "   std_test_score  rank_test_score  \n",
       "0        0.013767                3  \n",
       "1        0.027209                1  \n",
       "2        0.027209                1  "
      ]
     },
     "metadata": {},
     "output_type": "display_data"
    }
   ],
   "source": [
    "best_model_bre = best_tree_bre.best_estimator_\n",
    "best_model_bre.fit(xbre, ybre)\n",
    "\n",
    "df_bre = pd.DataFrame(best_tree_bre.cv_results_)\n",
    "df_bre"
   ]
  },
  {
   "cell_type": "code",
   "execution_count": null,
   "id": "3516e73e",
   "metadata": {},
   "outputs": [
    {
     "name": "stdout",
     "output_type": "stream",
     "text": [
      "[0.95325017 0.95322239 0.95322239]\n",
      "DecisionTreeClassifier(criterion='entropy', max_depth=3, random_state=0)\n",
      "{'criterion': 'entropy', 'max_depth': 3}\n",
      "0.95325017067759\n"
     ]
    }
   ],
   "source": [
    "print(best_tree_bre.cv_results_['mean_test_score'])\n",
    "print(best_tree_bre.best_estimator_)\n",
    "print(best_tree_bre.best_params_)\n",
    "print(best_tree_bre.best_score_)"
   ]
  },
  {
   "cell_type": "markdown",
   "id": "cec196b8",
   "metadata": {},
   "source": [
    "# Wine"
   ]
  },
  {
   "cell_type": "code",
   "execution_count": null,
   "id": "68c2e2c2",
   "metadata": {},
   "outputs": [],
   "source": [
    "import pandas as pd\n",
    "\n",
    "df_dig = pd.DataFrame(best_tree_dig.cv_results_)\n",
    "df_dig"
   ]
  },
  {
   "cell_type": "code",
   "execution_count": null,
   "id": "6066e02c",
   "metadata": {},
   "outputs": [
    {
     "data": {
      "text/html": [
       "<div>\n",
       "<style scoped>\n",
       "    .dataframe tbody tr th:only-of-type {\n",
       "        vertical-align: middle;\n",
       "    }\n",
       "\n",
       "    .dataframe tbody tr th {\n",
       "        vertical-align: top;\n",
       "    }\n",
       "\n",
       "    .dataframe thead th {\n",
       "        text-align: right;\n",
       "    }\n",
       "</style>\n",
       "<table border=\"1\" class=\"dataframe\">\n",
       "  <thead>\n",
       "    <tr style=\"text-align: right;\">\n",
       "      <th></th>\n",
       "      <th>mean_fit_time</th>\n",
       "      <th>std_fit_time</th>\n",
       "      <th>mean_score_time</th>\n",
       "      <th>std_score_time</th>\n",
       "      <th>param_criterion</th>\n",
       "      <th>param_max_depth</th>\n",
       "      <th>params</th>\n",
       "      <th>split0_test_score</th>\n",
       "      <th>split1_test_score</th>\n",
       "      <th>split2_test_score</th>\n",
       "      <th>mean_test_score</th>\n",
       "      <th>std_test_score</th>\n",
       "      <th>rank_test_score</th>\n",
       "    </tr>\n",
       "  </thead>\n",
       "  <tbody>\n",
       "    <tr>\n",
       "      <th>0</th>\n",
       "      <td>0.001668</td>\n",
       "      <td>1.248021e-03</td>\n",
       "      <td>0.001662</td>\n",
       "      <td>0.000467</td>\n",
       "      <td>entropy</td>\n",
       "      <td>3</td>\n",
       "      <td>{'criterion': 'entropy', 'max_depth': 3}</td>\n",
       "      <td>0.942857</td>\n",
       "      <td>0.971478</td>\n",
       "      <td>0.941723</td>\n",
       "      <td>0.952020</td>\n",
       "      <td>0.013767</td>\n",
       "      <td>3</td>\n",
       "    </tr>\n",
       "    <tr>\n",
       "      <th>1</th>\n",
       "      <td>0.001001</td>\n",
       "      <td>9.798072e-07</td>\n",
       "      <td>0.001334</td>\n",
       "      <td>0.000473</td>\n",
       "      <td>entropy</td>\n",
       "      <td>7</td>\n",
       "      <td>{'criterion': 'entropy', 'max_depth': 7}</td>\n",
       "      <td>0.942857</td>\n",
       "      <td>1.000000</td>\n",
       "      <td>0.941723</td>\n",
       "      <td>0.961527</td>\n",
       "      <td>0.027209</td>\n",
       "      <td>1</td>\n",
       "    </tr>\n",
       "    <tr>\n",
       "      <th>2</th>\n",
       "      <td>0.001668</td>\n",
       "      <td>1.248446e-03</td>\n",
       "      <td>0.001008</td>\n",
       "      <td>0.000011</td>\n",
       "      <td>entropy</td>\n",
       "      <td>9</td>\n",
       "      <td>{'criterion': 'entropy', 'max_depth': 9}</td>\n",
       "      <td>0.942857</td>\n",
       "      <td>1.000000</td>\n",
       "      <td>0.941723</td>\n",
       "      <td>0.961527</td>\n",
       "      <td>0.027209</td>\n",
       "      <td>1</td>\n",
       "    </tr>\n",
       "  </tbody>\n",
       "</table>\n",
       "</div>"
      ],
      "text/plain": [
       "   mean_fit_time  std_fit_time  mean_score_time  std_score_time  \\\n",
       "0       0.001668  1.248021e-03         0.001662        0.000467   \n",
       "1       0.001001  9.798072e-07         0.001334        0.000473   \n",
       "2       0.001668  1.248446e-03         0.001008        0.000011   \n",
       "\n",
       "  param_criterion param_max_depth                                    params  \\\n",
       "0         entropy               3  {'criterion': 'entropy', 'max_depth': 3}   \n",
       "1         entropy               7  {'criterion': 'entropy', 'max_depth': 7}   \n",
       "2         entropy               9  {'criterion': 'entropy', 'max_depth': 9}   \n",
       "\n",
       "   split0_test_score  split1_test_score  split2_test_score  mean_test_score  \\\n",
       "0           0.942857           0.971478           0.941723         0.952020   \n",
       "1           0.942857           1.000000           0.941723         0.961527   \n",
       "2           0.942857           1.000000           0.941723         0.961527   \n",
       "\n",
       "   std_test_score  rank_test_score  \n",
       "0        0.013767                3  \n",
       "1        0.027209                1  \n",
       "2        0.027209                1  "
      ]
     },
     "metadata": {},
     "output_type": "display_data"
    }
   ],
   "source": [
    "best_model_wine = best_tree_wine.best_estimator_\n",
    "best_model_wine.fit(xwine, ywine)\n",
    "\n",
    "df_wine = pd.DataFrame(best_tree_wine.cv_results_)\n",
    "df_wine"
   ]
  },
  {
   "cell_type": "code",
   "execution_count": null,
   "id": "3516e73e",
   "metadata": {},
   "outputs": [
    {
     "name": "stdout",
     "output_type": "stream",
     "text": [
      "[0.95325017 0.95322239 0.95322239]\n",
      "DecisionTreeClassifier(criterion='entropy', max_depth=3, random_state=0)\n",
      "{'criterion': 'entropy', 'max_depth': 3}\n",
      "0.95325017067759\n"
     ]
    }
   ],
   "source": [
    "print(best_tree_wine.cv_results_['mean_test_score'])\n",
    "print(best_tree_wine.best_estimator_)\n",
    "print(best_tree_wine.best_params_)\n",
    "print(best_tree_wine.best_score_)"
   ]
  },
  {
   "cell_type": "markdown",
   "id": "70c6c934",
   "metadata": {},
   "source": [
    "# Seleção e avaliação no teste"
   ]
  },
  {
   "cell_type": "markdown",
   "id": "ff904857",
   "metadata": {},
   "source": [
    "# Digits"
   ]
  },
  {
   "cell_type": "code",
   "execution_count": null,
   "id": "9b141d89",
   "metadata": {},
   "outputs": [
    {
     "data": {
      "text/plain": [
       "GridSearchCV(cv=3, estimator=DecisionTreeClassifier(random_state=0),\n",
       "             param_grid={'criterion': ['gini', 'entropy'],\n",
       "                         'max_depth': [3, 7, 9]},\n",
       "             scoring='f1_weighted')"
      ]
     },
     "execution_count": 124,
     "metadata": {},
     "output_type": "execute_result"
    }
   ],
   "source": [
    "from sklearn.model_selection import train_test_split\n",
    "\n",
    "X_train_dig, X_test_dig, y_train_dig, y_test_dig = train_test_split(xdig, ydig, test_size=0.3, random_state=0)\n",
    "\n",
    "param_grid_dig = {'criterion':['gini', 'entropy'], 'max_depth':[3, 7, 9]}\n",
    "best_tree_dig = GridSearchCV(clf_tree, param_grid_dig, scoring=('f1_weighted'), cv=3)\n",
    "best_tree_dig.fit(X_train_dig, y_train_dig)"
   ]
  },
  {
   "cell_type": "code",
   "execution_count": null,
   "id": "5716d932",
   "metadata": {},
   "outputs": [
    {
     "data": {
      "text/html": [
       "<div>\n",
       "<style scoped>\n",
       "    .dataframe tbody tr th:only-of-type {\n",
       "        vertical-align: middle;\n",
       "    }\n",
       "\n",
       "    .dataframe tbody tr th {\n",
       "        vertical-align: top;\n",
       "    }\n",
       "\n",
       "    .dataframe thead th {\n",
       "        text-align: right;\n",
       "    }\n",
       "</style>\n",
       "<table border=\"1\" class=\"dataframe\">\n",
       "  <thead>\n",
       "    <tr style=\"text-align: right;\">\n",
       "      <th></th>\n",
       "      <th>mean_fit_time</th>\n",
       "      <th>std_fit_time</th>\n",
       "      <th>mean_score_time</th>\n",
       "      <th>std_score_time</th>\n",
       "      <th>param_criterion</th>\n",
       "      <th>param_max_depth</th>\n",
       "      <th>params</th>\n",
       "      <th>split0_test_score</th>\n",
       "      <th>split1_test_score</th>\n",
       "      <th>split2_test_score</th>\n",
       "      <th>mean_test_score</th>\n",
       "      <th>std_test_score</th>\n",
       "      <th>rank_test_score</th>\n",
       "    </tr>\n",
       "  </thead>\n",
       "  <tbody>\n",
       "    <tr>\n",
       "      <th>0</th>\n",
       "      <td>0.004134</td>\n",
       "      <td>0.000373</td>\n",
       "      <td>0.001567</td>\n",
       "      <td>0.000296</td>\n",
       "      <td>gini</td>\n",
       "      <td>3</td>\n",
       "      <td>{'criterion': 'gini', 'max_depth': 3}</td>\n",
       "      <td>0.392302</td>\n",
       "      <td>0.399268</td>\n",
       "      <td>0.335068</td>\n",
       "      <td>0.375546</td>\n",
       "      <td>0.028763</td>\n",
       "      <td>6</td>\n",
       "    </tr>\n",
       "    <tr>\n",
       "      <th>1</th>\n",
       "      <td>0.006280</td>\n",
       "      <td>0.000894</td>\n",
       "      <td>0.001168</td>\n",
       "      <td>0.000536</td>\n",
       "      <td>gini</td>\n",
       "      <td>7</td>\n",
       "      <td>{'criterion': 'gini', 'max_depth': 7}</td>\n",
       "      <td>0.804895</td>\n",
       "      <td>0.832615</td>\n",
       "      <td>0.763954</td>\n",
       "      <td>0.800488</td>\n",
       "      <td>0.028204</td>\n",
       "      <td>4</td>\n",
       "    </tr>\n",
       "    <tr>\n",
       "      <th>2</th>\n",
       "      <td>0.006988</td>\n",
       "      <td>0.000543</td>\n",
       "      <td>0.001123</td>\n",
       "      <td>0.000267</td>\n",
       "      <td>gini</td>\n",
       "      <td>9</td>\n",
       "      <td>{'criterion': 'gini', 'max_depth': 9}</td>\n",
       "      <td>0.818441</td>\n",
       "      <td>0.825838</td>\n",
       "      <td>0.819734</td>\n",
       "      <td>0.821338</td>\n",
       "      <td>0.003226</td>\n",
       "      <td>3</td>\n",
       "    </tr>\n",
       "    <tr>\n",
       "      <th>3</th>\n",
       "      <td>0.003495</td>\n",
       "      <td>0.000031</td>\n",
       "      <td>0.000788</td>\n",
       "      <td>0.000058</td>\n",
       "      <td>entropy</td>\n",
       "      <td>3</td>\n",
       "      <td>{'criterion': 'entropy', 'max_depth': 3}</td>\n",
       "      <td>0.476919</td>\n",
       "      <td>0.472255</td>\n",
       "      <td>0.505168</td>\n",
       "      <td>0.484781</td>\n",
       "      <td>0.014541</td>\n",
       "      <td>5</td>\n",
       "    </tr>\n",
       "    <tr>\n",
       "      <th>4</th>\n",
       "      <td>0.007621</td>\n",
       "      <td>0.000586</td>\n",
       "      <td>0.000888</td>\n",
       "      <td>0.000074</td>\n",
       "      <td>entropy</td>\n",
       "      <td>7</td>\n",
       "      <td>{'criterion': 'entropy', 'max_depth': 7}</td>\n",
       "      <td>0.843832</td>\n",
       "      <td>0.839254</td>\n",
       "      <td>0.825670</td>\n",
       "      <td>0.836252</td>\n",
       "      <td>0.007712</td>\n",
       "      <td>1</td>\n",
       "    </tr>\n",
       "    <tr>\n",
       "      <th>5</th>\n",
       "      <td>0.007531</td>\n",
       "      <td>0.000410</td>\n",
       "      <td>0.000908</td>\n",
       "      <td>0.000206</td>\n",
       "      <td>entropy</td>\n",
       "      <td>9</td>\n",
       "      <td>{'criterion': 'entropy', 'max_depth': 9}</td>\n",
       "      <td>0.848804</td>\n",
       "      <td>0.831763</td>\n",
       "      <td>0.814269</td>\n",
       "      <td>0.831612</td>\n",
       "      <td>0.014099</td>\n",
       "      <td>2</td>\n",
       "    </tr>\n",
       "  </tbody>\n",
       "</table>\n",
       "</div>"
      ],
      "text/plain": [
       "   mean_fit_time  std_fit_time  mean_score_time  std_score_time  \\\n",
       "0       0.004134      0.000373         0.001567        0.000296   \n",
       "1       0.006280      0.000894         0.001168        0.000536   \n",
       "2       0.006988      0.000543         0.001123        0.000267   \n",
       "3       0.003495      0.000031         0.000788        0.000058   \n",
       "4       0.007621      0.000586         0.000888        0.000074   \n",
       "5       0.007531      0.000410         0.000908        0.000206   \n",
       "\n",
       "  param_criterion param_max_depth                                    params  \\\n",
       "0            gini               3     {'criterion': 'gini', 'max_depth': 3}   \n",
       "1            gini               7     {'criterion': 'gini', 'max_depth': 7}   \n",
       "2            gini               9     {'criterion': 'gini', 'max_depth': 9}   \n",
       "3         entropy               3  {'criterion': 'entropy', 'max_depth': 3}   \n",
       "4         entropy               7  {'criterion': 'entropy', 'max_depth': 7}   \n",
       "5         entropy               9  {'criterion': 'entropy', 'max_depth': 9}   \n",
       "\n",
       "   split0_test_score  split1_test_score  split2_test_score  mean_test_score  \\\n",
       "0           0.392302           0.399268           0.335068         0.375546   \n",
       "1           0.804895           0.832615           0.763954         0.800488   \n",
       "2           0.818441           0.825838           0.819734         0.821338   \n",
       "3           0.476919           0.472255           0.505168         0.484781   \n",
       "4           0.843832           0.839254           0.825670         0.836252   \n",
       "5           0.848804           0.831763           0.814269         0.831612   \n",
       "\n",
       "   std_test_score  rank_test_score  \n",
       "0        0.028763                6  \n",
       "1        0.028204                4  \n",
       "2        0.003226                3  \n",
       "3        0.014541                5  \n",
       "4        0.007712                1  \n",
       "5        0.014099                2  "
      ]
     },
     "execution_count": 125,
     "metadata": {},
     "output_type": "execute_result"
    }
   ],
   "source": [
    "df_dig = pd.DataFrame(best_tree_dig.cv_results_)\n",
    "df_dig"
   ]
  },
  {
   "cell_type": "code",
   "execution_count": null,
   "id": "9f48a689",
   "metadata": {},
   "outputs": [
    {
     "name": "stdout",
     "output_type": "stream",
     "text": [
      "[0.37554628 0.80048818 0.82133765 0.4847805  0.83625194 0.83161203]\n",
      "DecisionTreeClassifier(criterion='entropy', max_depth=7, random_state=0)\n",
      "{'criterion': 'entropy', 'max_depth': 7}\n",
      "0.8362519422682277\n"
     ]
    }
   ],
   "source": [
    "print(best_tree_dig.cv_results_['mean_test_score'])\n",
    "print(best_tree_dig.best_estimator_)\n",
    "print(best_tree_dig.best_params_)\n",
    "print(best_tree_dig.best_score_)"
   ]
  },
  {
   "cell_type": "code",
   "execution_count": null,
   "id": "696fd2ef",
   "metadata": {},
   "outputs": [
    {
     "name": "stdout",
     "output_type": "stream",
     "text": [
      "              precision    recall  f1-score   support\n",
      "\n",
      "           0       0.93      0.93      0.93        45\n",
      "           1       0.79      0.96      0.87        52\n",
      "           2       0.74      0.74      0.74        53\n",
      "           3       0.79      0.78      0.79        54\n",
      "           4       0.77      0.90      0.83        48\n",
      "           5       0.87      0.84      0.86        57\n",
      "           6       0.95      0.92      0.93        60\n",
      "           7       0.77      0.89      0.82        53\n",
      "           8       0.73      0.54      0.62        61\n",
      "           9       0.82      0.74      0.78        57\n",
      "\n",
      "    accuracy                           0.82       540\n",
      "   macro avg       0.82      0.82      0.82       540\n",
      "weighted avg       0.82      0.82      0.81       540\n",
      "\n"
     ]
    }
   ],
   "source": [
    "from sklearn.metrics import classification_report\n",
    "\n",
    "y_true_dig, y_pred_dig = y_test_dig, best_tree_dig.predict(X_test_dig)\n",
    "print(classification_report(y_true_dig, y_pred_dig))"
   ]
  },
  {
   "cell_type": "code",
   "execution_count": null,
   "id": "f1631399",
   "metadata": {},
   "outputs": [
    {
     "data": {
      "text/plain": [
       "0.8131625711164533"
      ]
     },
     "execution_count": 128,
     "metadata": {},
     "output_type": "execute_result"
    }
   ],
   "source": [
    "from sklearn.metrics import f1_score\n",
    "f1_score(y_true_dig, y_pred_dig, average='weighted')"
   ]
  },
  {
   "cell_type": "markdown",
   "id": "222a04b6",
   "metadata": {},
   "source": [
    "# Breast Cancer"
   ]
  },
  {
   "cell_type": "code",
   "execution_count": null,
   "id": "9b141d89",
   "metadata": {},
   "outputs": [
    {
     "data": {
      "text/plain": [
       "GridSearchCV(cv=3, estimator=DecisionTreeClassifier(random_state=0),\n",
       "             param_grid={'criterion': ['gini', 'entropy'],\n",
       "                         'max_depth': [3, 7, 9]},\n",
       "             scoring='f1_weighted')"
      ]
     },
     "execution_count": 133,
     "metadata": {},
     "output_type": "execute_result"
    }
   ],
   "source": [
    "X_train_bre, X_test_bre, y_train_bre, y_test_bre = train_test_split(xbre, ybre, test_size=0.3, random_state=0)\n",
    "\n",
    "param_grid_bre = {'criterion':['gini', 'entropy'], 'max_depth':[3, 7, 9]}\n",
    "best_tree_bre = GridSearchCV(clf_tree, param_grid_bre, scoring=('f1_weighted'), cv=3)\n",
    "best_tree_bre.fit(X_train_bre, y_train_bre)"
   ]
  },
  {
   "cell_type": "code",
   "execution_count": null,
   "id": "5716d932",
   "metadata": {},
   "outputs": [
    {
     "data": {
      "text/html": [
       "<div>\n",
       "<style scoped>\n",
       "    .dataframe tbody tr th:only-of-type {\n",
       "        vertical-align: middle;\n",
       "    }\n",
       "\n",
       "    .dataframe tbody tr th {\n",
       "        vertical-align: top;\n",
       "    }\n",
       "\n",
       "    .dataframe thead th {\n",
       "        text-align: right;\n",
       "    }\n",
       "</style>\n",
       "<table border=\"1\" class=\"dataframe\">\n",
       "  <thead>\n",
       "    <tr style=\"text-align: right;\">\n",
       "      <th></th>\n",
       "      <th>mean_fit_time</th>\n",
       "      <th>std_fit_time</th>\n",
       "      <th>mean_score_time</th>\n",
       "      <th>std_score_time</th>\n",
       "      <th>param_criterion</th>\n",
       "      <th>param_max_depth</th>\n",
       "      <th>params</th>\n",
       "      <th>split0_test_score</th>\n",
       "      <th>split1_test_score</th>\n",
       "      <th>split2_test_score</th>\n",
       "      <th>mean_test_score</th>\n",
       "      <th>std_test_score</th>\n",
       "      <th>rank_test_score</th>\n",
       "    </tr>\n",
       "  </thead>\n",
       "  <tbody>\n",
       "    <tr>\n",
       "      <th>0</th>\n",
       "      <td>0.002880</td>\n",
       "      <td>0.000344</td>\n",
       "      <td>0.001138</td>\n",
       "      <td>0.000343</td>\n",
       "      <td>gini</td>\n",
       "      <td>3</td>\n",
       "      <td>{'criterion': 'gini', 'max_depth': 3}</td>\n",
       "      <td>0.938979</td>\n",
       "      <td>0.924492</td>\n",
       "      <td>0.923093</td>\n",
       "      <td>0.928855</td>\n",
       "      <td>0.007182</td>\n",
       "      <td>3</td>\n",
       "    </tr>\n",
       "    <tr>\n",
       "      <th>1</th>\n",
       "      <td>0.002630</td>\n",
       "      <td>0.000494</td>\n",
       "      <td>0.000637</td>\n",
       "      <td>0.000057</td>\n",
       "      <td>gini</td>\n",
       "      <td>7</td>\n",
       "      <td>{'criterion': 'gini', 'max_depth': 7}</td>\n",
       "      <td>0.932192</td>\n",
       "      <td>0.909391</td>\n",
       "      <td>0.894353</td>\n",
       "      <td>0.911979</td>\n",
       "      <td>0.015555</td>\n",
       "      <td>5</td>\n",
       "    </tr>\n",
       "    <tr>\n",
       "      <th>2</th>\n",
       "      <td>0.002459</td>\n",
       "      <td>0.000102</td>\n",
       "      <td>0.000878</td>\n",
       "      <td>0.000315</td>\n",
       "      <td>gini</td>\n",
       "      <td>9</td>\n",
       "      <td>{'criterion': 'gini', 'max_depth': 9}</td>\n",
       "      <td>0.932192</td>\n",
       "      <td>0.909391</td>\n",
       "      <td>0.894353</td>\n",
       "      <td>0.911979</td>\n",
       "      <td>0.015555</td>\n",
       "      <td>5</td>\n",
       "    </tr>\n",
       "    <tr>\n",
       "      <th>3</th>\n",
       "      <td>0.003012</td>\n",
       "      <td>0.000614</td>\n",
       "      <td>0.001134</td>\n",
       "      <td>0.000390</td>\n",
       "      <td>entropy</td>\n",
       "      <td>3</td>\n",
       "      <td>{'criterion': 'entropy', 'max_depth': 3}</td>\n",
       "      <td>0.931885</td>\n",
       "      <td>0.924492</td>\n",
       "      <td>0.917395</td>\n",
       "      <td>0.924591</td>\n",
       "      <td>0.005916</td>\n",
       "      <td>4</td>\n",
       "    </tr>\n",
       "    <tr>\n",
       "      <th>4</th>\n",
       "      <td>0.002446</td>\n",
       "      <td>0.000063</td>\n",
       "      <td>0.000742</td>\n",
       "      <td>0.000130</td>\n",
       "      <td>entropy</td>\n",
       "      <td>7</td>\n",
       "      <td>{'criterion': 'entropy', 'max_depth': 7}</td>\n",
       "      <td>0.939594</td>\n",
       "      <td>0.916748</td>\n",
       "      <td>0.946855</td>\n",
       "      <td>0.934399</td>\n",
       "      <td>0.012828</td>\n",
       "      <td>1</td>\n",
       "    </tr>\n",
       "    <tr>\n",
       "      <th>5</th>\n",
       "      <td>0.002447</td>\n",
       "      <td>0.000173</td>\n",
       "      <td>0.000628</td>\n",
       "      <td>0.000030</td>\n",
       "      <td>entropy</td>\n",
       "      <td>9</td>\n",
       "      <td>{'criterion': 'entropy', 'max_depth': 9}</td>\n",
       "      <td>0.939594</td>\n",
       "      <td>0.916748</td>\n",
       "      <td>0.946855</td>\n",
       "      <td>0.934399</td>\n",
       "      <td>0.012828</td>\n",
       "      <td>1</td>\n",
       "    </tr>\n",
       "  </tbody>\n",
       "</table>\n",
       "</div>"
      ],
      "text/plain": [
       "   mean_fit_time  std_fit_time  mean_score_time  std_score_time  \\\n",
       "0       0.002880      0.000344         0.001138        0.000343   \n",
       "1       0.002630      0.000494         0.000637        0.000057   \n",
       "2       0.002459      0.000102         0.000878        0.000315   \n",
       "3       0.003012      0.000614         0.001134        0.000390   \n",
       "4       0.002446      0.000063         0.000742        0.000130   \n",
       "5       0.002447      0.000173         0.000628        0.000030   \n",
       "\n",
       "  param_criterion param_max_depth                                    params  \\\n",
       "0            gini               3     {'criterion': 'gini', 'max_depth': 3}   \n",
       "1            gini               7     {'criterion': 'gini', 'max_depth': 7}   \n",
       "2            gini               9     {'criterion': 'gini', 'max_depth': 9}   \n",
       "3         entropy               3  {'criterion': 'entropy', 'max_depth': 3}   \n",
       "4         entropy               7  {'criterion': 'entropy', 'max_depth': 7}   \n",
       "5         entropy               9  {'criterion': 'entropy', 'max_depth': 9}   \n",
       "\n",
       "   split0_test_score  split1_test_score  split2_test_score  mean_test_score  \\\n",
       "0           0.938979           0.924492           0.923093         0.928855   \n",
       "1           0.932192           0.909391           0.894353         0.911979   \n",
       "2           0.932192           0.909391           0.894353         0.911979   \n",
       "3           0.931885           0.924492           0.917395         0.924591   \n",
       "4           0.939594           0.916748           0.946855         0.934399   \n",
       "5           0.939594           0.916748           0.946855         0.934399   \n",
       "\n",
       "   std_test_score  rank_test_score  \n",
       "0        0.007182                3  \n",
       "1        0.015555                5  \n",
       "2        0.015555                5  \n",
       "3        0.005916                4  \n",
       "4        0.012828                1  \n",
       "5        0.012828                1  "
      ]
     },
     "execution_count": 134,
     "metadata": {},
     "output_type": "execute_result"
    }
   ],
   "source": [
    "df_bre = pd.DataFrame(best_tree_bre.cv_results_)\n",
    "df_bre"
   ]
  },
  {
   "cell_type": "code",
   "execution_count": null,
   "id": "9f48a689",
   "metadata": {},
   "outputs": [
    {
     "name": "stdout",
     "output_type": "stream",
     "text": [
      "[0.92885495 0.91197859 0.91197859 0.9245909  0.93439912 0.93439912]\n",
      "DecisionTreeClassifier(criterion='entropy', max_depth=7, random_state=0)\n",
      "{'criterion': 'entropy', 'max_depth': 7}\n",
      "0.9343991157035817\n"
     ]
    }
   ],
   "source": [
    "print(best_tree_bre.cv_results_['mean_test_score'])\n",
    "print(best_tree_bre.best_estimator_)\n",
    "print(best_tree_bre.best_params_)\n",
    "print(best_tree_bre.best_score_)"
   ]
  },
  {
   "cell_type": "code",
   "execution_count": null,
   "id": "696fd2ef",
   "metadata": {},
   "outputs": [
    {
     "name": "stdout",
     "output_type": "stream",
     "text": [
      "              precision    recall  f1-score   support\n",
      "\n",
      "           0       0.90      0.97      0.93        63\n",
      "           1       0.98      0.94      0.96       108\n",
      "\n",
      "    accuracy                           0.95       171\n",
      "   macro avg       0.94      0.95      0.94       171\n",
      "weighted avg       0.95      0.95      0.95       171\n",
      "\n"
     ]
    }
   ],
   "source": [
    "y_true_bre, y_pred_bre = y_test_bre, best_tree_bre.predict(X_test_bre)\n",
    "print(classification_report(y_true_bre, y_pred_bre))"
   ]
  },
  {
   "cell_type": "code",
   "execution_count": null,
   "id": "f1631399",
   "metadata": {},
   "outputs": [
    {
     "data": {
      "text/plain": [
       "0.9477492435912328"
      ]
     },
     "execution_count": 137,
     "metadata": {},
     "output_type": "execute_result"
    }
   ],
   "source": [
    "f1_score(y_true_bre, y_pred_bre, average='weighted')"
   ]
  },
  {
   "cell_type": "markdown",
   "id": "24d14cec",
   "metadata": {},
   "source": [
    "# Wine"
   ]
  },
  {
   "cell_type": "code",
   "execution_count": 152,
   "id": "9b141d89",
   "metadata": {},
   "outputs": [
    {
     "data": {
      "text/plain": [
       "GridSearchCV(cv=3, estimator=DecisionTreeClassifier(random_state=0),\n",
       "             param_grid={'criterion': ['gini', 'entropy'],\n",
       "                         'max_depth': [3, 7, 9]},\n",
       "             scoring='f1_weighted')"
      ]
     },
     "execution_count": 152,
     "metadata": {},
     "output_type": "execute_result"
    }
   ],
   "source": [
    "X_train_wine, X_test_wine, y_train_wine, y_test_wine = train_test_split(xwine, ywine, test_size=0.3, random_state=0)\n",
    "\n",
    "param_grid_wine = {'criterion':['gini', 'entropy'], 'max_depth':[3, 7, 9]}\n",
    "best_tree_wine = GridSearchCV(clf_tree, param_grid_wine, scoring=('f1_weighted'), cv=3)\n",
    "best_tree_wine.fit(X_train_wine, y_train_wine)"
   ]
  },
  {
   "cell_type": "code",
   "execution_count": null,
   "id": "5716d932",
   "metadata": {},
   "outputs": [
    {
     "data": {
      "text/html": [
       "<div>\n",
       "<style scoped>\n",
       "    .dataframe tbody tr th:only-of-type {\n",
       "        vertical-align: middle;\n",
       "    }\n",
       "\n",
       "    .dataframe tbody tr th {\n",
       "        vertical-align: top;\n",
       "    }\n",
       "\n",
       "    .dataframe thead th {\n",
       "        text-align: right;\n",
       "    }\n",
       "</style>\n",
       "<table border=\"1\" class=\"dataframe\">\n",
       "  <thead>\n",
       "    <tr style=\"text-align: right;\">\n",
       "      <th></th>\n",
       "      <th>mean_fit_time</th>\n",
       "      <th>std_fit_time</th>\n",
       "      <th>mean_score_time</th>\n",
       "      <th>std_score_time</th>\n",
       "      <th>param_criterion</th>\n",
       "      <th>param_max_depth</th>\n",
       "      <th>params</th>\n",
       "      <th>split0_test_score</th>\n",
       "      <th>split1_test_score</th>\n",
       "      <th>split2_test_score</th>\n",
       "      <th>mean_test_score</th>\n",
       "      <th>std_test_score</th>\n",
       "      <th>rank_test_score</th>\n",
       "    </tr>\n",
       "  </thead>\n",
       "  <tbody>\n",
       "    <tr>\n",
       "      <th>0</th>\n",
       "      <td>0.002880</td>\n",
       "      <td>0.000344</td>\n",
       "      <td>0.001138</td>\n",
       "      <td>0.000343</td>\n",
       "      <td>gini</td>\n",
       "      <td>3</td>\n",
       "      <td>{'criterion': 'gini', 'max_depth': 3}</td>\n",
       "      <td>0.938979</td>\n",
       "      <td>0.924492</td>\n",
       "      <td>0.923093</td>\n",
       "      <td>0.928855</td>\n",
       "      <td>0.007182</td>\n",
       "      <td>3</td>\n",
       "    </tr>\n",
       "    <tr>\n",
       "      <th>1</th>\n",
       "      <td>0.002630</td>\n",
       "      <td>0.000494</td>\n",
       "      <td>0.000637</td>\n",
       "      <td>0.000057</td>\n",
       "      <td>gini</td>\n",
       "      <td>7</td>\n",
       "      <td>{'criterion': 'gini', 'max_depth': 7}</td>\n",
       "      <td>0.932192</td>\n",
       "      <td>0.909391</td>\n",
       "      <td>0.894353</td>\n",
       "      <td>0.911979</td>\n",
       "      <td>0.015555</td>\n",
       "      <td>5</td>\n",
       "    </tr>\n",
       "    <tr>\n",
       "      <th>2</th>\n",
       "      <td>0.002459</td>\n",
       "      <td>0.000102</td>\n",
       "      <td>0.000878</td>\n",
       "      <td>0.000315</td>\n",
       "      <td>gini</td>\n",
       "      <td>9</td>\n",
       "      <td>{'criterion': 'gini', 'max_depth': 9}</td>\n",
       "      <td>0.932192</td>\n",
       "      <td>0.909391</td>\n",
       "      <td>0.894353</td>\n",
       "      <td>0.911979</td>\n",
       "      <td>0.015555</td>\n",
       "      <td>5</td>\n",
       "    </tr>\n",
       "    <tr>\n",
       "      <th>3</th>\n",
       "      <td>0.003012</td>\n",
       "      <td>0.000614</td>\n",
       "      <td>0.001134</td>\n",
       "      <td>0.000390</td>\n",
       "      <td>entropy</td>\n",
       "      <td>3</td>\n",
       "      <td>{'criterion': 'entropy', 'max_depth': 3}</td>\n",
       "      <td>0.931885</td>\n",
       "      <td>0.924492</td>\n",
       "      <td>0.917395</td>\n",
       "      <td>0.924591</td>\n",
       "      <td>0.005916</td>\n",
       "      <td>4</td>\n",
       "    </tr>\n",
       "    <tr>\n",
       "      <th>4</th>\n",
       "      <td>0.002446</td>\n",
       "      <td>0.000063</td>\n",
       "      <td>0.000742</td>\n",
       "      <td>0.000130</td>\n",
       "      <td>entropy</td>\n",
       "      <td>7</td>\n",
       "      <td>{'criterion': 'entropy', 'max_depth': 7}</td>\n",
       "      <td>0.939594</td>\n",
       "      <td>0.916748</td>\n",
       "      <td>0.946855</td>\n",
       "      <td>0.934399</td>\n",
       "      <td>0.012828</td>\n",
       "      <td>1</td>\n",
       "    </tr>\n",
       "    <tr>\n",
       "      <th>5</th>\n",
       "      <td>0.002447</td>\n",
       "      <td>0.000173</td>\n",
       "      <td>0.000628</td>\n",
       "      <td>0.000030</td>\n",
       "      <td>entropy</td>\n",
       "      <td>9</td>\n",
       "      <td>{'criterion': 'entropy', 'max_depth': 9}</td>\n",
       "      <td>0.939594</td>\n",
       "      <td>0.916748</td>\n",
       "      <td>0.946855</td>\n",
       "      <td>0.934399</td>\n",
       "      <td>0.012828</td>\n",
       "      <td>1</td>\n",
       "    </tr>\n",
       "  </tbody>\n",
       "</table>\n",
       "</div>"
      ],
      "text/plain": [
       "   mean_fit_time  std_fit_time  mean_score_time  std_score_time  \\\n",
       "0       0.002880      0.000344         0.001138        0.000343   \n",
       "1       0.002630      0.000494         0.000637        0.000057   \n",
       "2       0.002459      0.000102         0.000878        0.000315   \n",
       "3       0.003012      0.000614         0.001134        0.000390   \n",
       "4       0.002446      0.000063         0.000742        0.000130   \n",
       "5       0.002447      0.000173         0.000628        0.000030   \n",
       "\n",
       "  param_criterion param_max_depth                                    params  \\\n",
       "0            gini               3     {'criterion': 'gini', 'max_depth': 3}   \n",
       "1            gini               7     {'criterion': 'gini', 'max_depth': 7}   \n",
       "2            gini               9     {'criterion': 'gini', 'max_depth': 9}   \n",
       "3         entropy               3  {'criterion': 'entropy', 'max_depth': 3}   \n",
       "4         entropy               7  {'criterion': 'entropy', 'max_depth': 7}   \n",
       "5         entropy               9  {'criterion': 'entropy', 'max_depth': 9}   \n",
       "\n",
       "   split0_test_score  split1_test_score  split2_test_score  mean_test_score  \\\n",
       "0           0.938979           0.924492           0.923093         0.928855   \n",
       "1           0.932192           0.909391           0.894353         0.911979   \n",
       "2           0.932192           0.909391           0.894353         0.911979   \n",
       "3           0.931885           0.924492           0.917395         0.924591   \n",
       "4           0.939594           0.916748           0.946855         0.934399   \n",
       "5           0.939594           0.916748           0.946855         0.934399   \n",
       "\n",
       "   std_test_score  rank_test_score  \n",
       "0        0.007182                3  \n",
       "1        0.015555                5  \n",
       "2        0.015555                5  \n",
       "3        0.005916                4  \n",
       "4        0.012828                1  \n",
       "5        0.012828                1  "
      ]
     },
     "metadata": {},
     "output_type": "display_data"
    }
   ],
   "source": [
    "df_wine = pd.DataFrame(best_tree_wine.cv_results_)\n",
    "df_wine"
   ]
  },
  {
   "cell_type": "code",
   "execution_count": null,
   "id": "9f48a689",
   "metadata": {},
   "outputs": [
    {
     "name": "stdout",
     "output_type": "stream",
     "text": [
      "[0.92885495 0.91197859 0.91197859 0.9245909  0.93439912 0.93439912]\n",
      "DecisionTreeClassifier(criterion='entropy', max_depth=7, random_state=0)\n",
      "{'criterion': 'entropy', 'max_depth': 7}\n",
      "0.9343991157035817\n"
     ]
    }
   ],
   "source": [
    "print(best_tree_wine.cv_results_['mean_test_score'])\n",
    "print(best_tree_wine.best_estimator_)\n",
    "print(best_tree_wine.best_params_)\n",
    "print(best_tree_wine.best_score_)"
   ]
  },
  {
   "cell_type": "code",
   "execution_count": null,
   "id": "696fd2ef",
   "metadata": {},
   "outputs": [
    {
     "name": "stdout",
     "output_type": "stream",
     "text": [
      "              precision    recall  f1-score   support\n",
      "\n",
      "           0       0.90      0.97      0.93        63\n",
      "           1       0.98      0.94      0.96       108\n",
      "\n",
      "    accuracy                           0.95       171\n",
      "   macro avg       0.94      0.95      0.94       171\n",
      "weighted avg       0.95      0.95      0.95       171\n",
      "\n"
     ]
    }
   ],
   "source": [
    "y_true_wine, y_pred_wine = y_test_wine, best_tree_wine.predict(X_test_wine)\n",
    "print(classification_report(y_true_wine, y_pred_wine))"
   ]
  },
  {
   "cell_type": "code",
   "execution_count": null,
   "id": "f1631399",
   "metadata": {},
   "outputs": [
    {
     "data": {
      "text/plain": [
       "0.9477492435912328"
      ]
     },
     "metadata": {},
     "output_type": "display_data"
    }
   ],
   "source": [
    "f1_score(y_true_wine, y_pred_wine, average='weighted')"
   ]
  },
  {
   "cell_type": "markdown",
   "id": "16230d43",
   "metadata": {},
   "source": [
    "# k-NN"
   ]
  },
  {
   "cell_type": "code",
   "execution_count": null,
   "id": "3f753840",
   "metadata": {},
   "outputs": [],
   "source": [
    "#https://scikit-learn.org/stable/modules/neighbors.html#neighbors\n",
    "#https://scikit-learn.org/stable/modules/generated/sklearn.neighbors.KNeighborsClassifier.html#sklearn.neighbors.KNeighborsClassifier\n"
   ]
  },
  {
   "cell_type": "code",
   "execution_count": null,
   "id": "6b1089ce",
   "metadata": {},
   "outputs": [
    {
     "ename": "NameError",
     "evalue": "name 'X' is not defined",
     "output_type": "error",
     "traceback": [
      "\u001b[0;31m---------------------------------------------------------------------------\u001b[0m",
      "\u001b[0;31mNameError\u001b[0m                                 Traceback (most recent call last)",
      "\u001b[1;32m/home/paulosantos/Downloads/ex veron/python/classificacao-e-regressao/Baseline-Classification.ipynb Cell 49'\u001b[0m in \u001b[0;36m<cell line: 4>\u001b[0;34m()\u001b[0m\n\u001b[1;32m      <a href='vscode-notebook-cell:/home/paulosantos/Downloads/ex%20veron/python/classificacao-e-regressao/Baseline-Classification.ipynb#ch0000053?line=0'>1</a>\u001b[0m \u001b[39mfrom\u001b[39;00m \u001b[39msklearn\u001b[39;00m\u001b[39m.\u001b[39;00m\u001b[39mneighbors\u001b[39;00m \u001b[39mimport\u001b[39;00m KNeighborsClassifier\n\u001b[1;32m      <a href='vscode-notebook-cell:/home/paulosantos/Downloads/ex%20veron/python/classificacao-e-regressao/Baseline-Classification.ipynb#ch0000053?line=2'>3</a>\u001b[0m clf_knn \u001b[39m=\u001b[39m KNeighborsClassifier(n_neighbors\u001b[39m=\u001b[39m\u001b[39m3\u001b[39m)\n\u001b[0;32m----> <a href='vscode-notebook-cell:/home/paulosantos/Downloads/ex%20veron/python/classificacao-e-regressao/Baseline-Classification.ipynb#ch0000053?line=3'>4</a>\u001b[0m clf_knn\u001b[39m.\u001b[39mfit(X, y)\n\u001b[1;32m      <a href='vscode-notebook-cell:/home/paulosantos/Downloads/ex%20veron/python/classificacao-e-regressao/Baseline-Classification.ipynb#ch0000053?line=5'>6</a>\u001b[0m scores \u001b[39m=\u001b[39m cross_val_score(clf_knn, X, y, cv\u001b[39m=\u001b[39m\u001b[39m3\u001b[39m, scoring\u001b[39m=\u001b[39m\u001b[39m'\u001b[39m\u001b[39mf1_weighted\u001b[39m\u001b[39m'\u001b[39m)\n\u001b[1;32m      <a href='vscode-notebook-cell:/home/paulosantos/Downloads/ex%20veron/python/classificacao-e-regressao/Baseline-Classification.ipynb#ch0000053?line=6'>7</a>\u001b[0m scores\n",
      "\u001b[0;31mNameError\u001b[0m: name 'X' is not defined"
     ]
    }
   ],
   "source": [
    "from sklearn.neighbors import KNeighborsClassifier\n",
    "\n",
    "clf_knn = KNeighborsClassifier(n_neighbors=3)\n",
    "clf_knn.fit(X, y)\n",
    "\n",
    "scores = cross_val_score(clf_knn, X, y, cv=3, scoring='f1_weighted')\n",
    "scores"
   ]
  },
  {
   "cell_type": "code",
   "execution_count": null,
   "id": "1044ff04",
   "metadata": {},
   "outputs": [],
   "source": [
    "results[\"knn\"] = np.mean(scores)"
   ]
  },
  {
   "cell_type": "code",
   "execution_count": null,
   "id": "c5212c6f",
   "metadata": {},
   "outputs": [
    {
     "data": {
      "text/plain": [
       "array([1])"
      ]
     },
     "execution_count": 30,
     "metadata": {},
     "output_type": "execute_result"
    }
   ],
   "source": [
    "clf_knn.predict([[2., 2., 3., 3.]])"
   ]
  },
  {
   "cell_type": "markdown",
   "id": "798a6aa2",
   "metadata": {},
   "source": [
    "# Naive Bayes"
   ]
  },
  {
   "cell_type": "code",
   "execution_count": null,
   "id": "92800341",
   "metadata": {},
   "outputs": [],
   "source": [
    "#https://scikit-learn.org/stable/modules/naive_bayes.html\n",
    "#https://scikit-learn.org/stable/modules/generated/sklearn.naive_bayes.GaussianNB.html#sklearn.naive_bayes.GaussianNB\n",
    "\n",
    "#https://towardsdatascience.com/how-i-was-using-naive-bayes-incorrectly-till-now-part-1-4ed2a7e2212b\n",
    "#GaussianNB → When you have continuous features\n",
    "#CategoricalNB →When you have categorical data\n",
    "#MultinomialNB → Applied to text data"
   ]
  },
  {
   "cell_type": "code",
   "execution_count": null,
   "id": "23334c28",
   "metadata": {},
   "outputs": [
    {
     "data": {
      "text/plain": [
       "array([0.91985294, 0.9398894 , 0.95986111])"
      ]
     },
     "execution_count": 31,
     "metadata": {},
     "output_type": "execute_result"
    }
   ],
   "source": [
    "from sklearn.naive_bayes import GaussianNB\n",
    "\n",
    "clf_nb = GaussianNB()\n",
    "clf_nb.fit(X, y)\n",
    "\n",
    "scores = cross_val_score(clf_nb, X, y, cv=3, scoring='f1_weighted')\n",
    "scores"
   ]
  },
  {
   "cell_type": "code",
   "execution_count": null,
   "id": "daf7df7d",
   "metadata": {},
   "outputs": [],
   "source": [
    "results[\"nb\"] = np.mean(scores)"
   ]
  },
  {
   "cell_type": "code",
   "execution_count": null,
   "id": "68fd472a",
   "metadata": {},
   "outputs": [
    {
     "data": {
      "text/plain": [
       "array([2])"
      ]
     },
     "execution_count": 33,
     "metadata": {},
     "output_type": "execute_result"
    }
   ],
   "source": [
    "clf_nb.predict([[2., 2., 3., 3.]])"
   ]
  },
  {
   "cell_type": "markdown",
   "id": "58e650e5",
   "metadata": {},
   "source": [
    "# SVM"
   ]
  },
  {
   "cell_type": "code",
   "execution_count": null,
   "id": "a1455849",
   "metadata": {},
   "outputs": [],
   "source": [
    "#https://scikit-learn.org/stable/modules/svm.html#svm\n",
    "#SVC and NuSVC implement the “one-versus-one” approach for multi-class classification.\n",
    "#https://scikit-learn.org/stable/modules/generated/sklearn.svm.SVC.html#sklearn.svm.SVC"
   ]
  },
  {
   "cell_type": "code",
   "execution_count": null,
   "id": "666c5632",
   "metadata": {},
   "outputs": [
    {
     "data": {
      "text/plain": [
       "array([0.96      , 0.97996313, 0.93994805])"
      ]
     },
     "execution_count": 34,
     "metadata": {},
     "output_type": "execute_result"
    }
   ],
   "source": [
    "from sklearn.svm import SVC\n",
    "\n",
    "clf_svm = SVC()\n",
    "clf_svm.fit(X, y)\n",
    "\n",
    "scores = cross_val_score(clf_svm, X, y, cv=3, scoring='f1_weighted')\n",
    "scores"
   ]
  },
  {
   "cell_type": "code",
   "execution_count": null,
   "id": "4560f340",
   "metadata": {},
   "outputs": [],
   "source": [
    "results[\"svm\"] = np.mean(scores)"
   ]
  },
  {
   "cell_type": "code",
   "execution_count": null,
   "id": "8795d944",
   "metadata": {},
   "outputs": [
    {
     "data": {
      "text/plain": [
       "array([2])"
      ]
     },
     "execution_count": 36,
     "metadata": {},
     "output_type": "execute_result"
    }
   ],
   "source": [
    "clf_svm.predict([[2., 2., 3., 3.]])"
   ]
  },
  {
   "cell_type": "code",
   "execution_count": null,
   "id": "b955c730",
   "metadata": {},
   "outputs": [
    {
     "name": "stdout",
     "output_type": "stream",
     "text": [
      "[[5.7 3.8 1.7 0.3]\n",
      " [5.4 3.4 1.7 0.2]\n",
      " [5.1 3.3 1.7 0.5]\n",
      " [4.8 3.4 1.9 0.2]\n",
      " [5.  3.  1.6 0.2]\n",
      " [4.5 2.3 1.3 0.3]\n",
      " [5.1 3.8 1.9 0.4]\n",
      " [7.  3.2 4.7 1.4]\n",
      " [6.4 3.2 4.5 1.5]\n",
      " [6.9 3.1 4.9 1.5]\n",
      " [6.5 2.8 4.6 1.5]\n",
      " [5.7 2.8 4.5 1.3]\n",
      " [6.3 3.3 4.7 1.6]\n",
      " [4.9 2.4 3.3 1. ]\n",
      " [6.6 2.9 4.6 1.3]\n",
      " [6.1 2.9 4.7 1.4]\n",
      " [5.6 2.9 3.6 1.3]\n",
      " [5.6 3.  4.5 1.5]\n",
      " [6.2 2.2 4.5 1.5]\n",
      " [5.9 3.2 4.8 1.8]\n",
      " [6.3 2.5 4.9 1.5]\n",
      " [6.1 2.8 4.7 1.2]\n",
      " [6.6 3.  4.4 1.4]\n",
      " [6.8 2.8 4.8 1.4]\n",
      " [6.7 3.  5.  1.7]\n",
      " [6.  2.9 4.5 1.5]\n",
      " [5.7 2.6 3.5 1. ]\n",
      " [6.  2.7 5.1 1.6]\n",
      " [5.4 3.  4.5 1.5]\n",
      " [6.  3.4 4.5 1.6]\n",
      " [6.7 3.1 4.7 1.5]\n",
      " [6.3 2.3 4.4 1.3]\n",
      " [5.5 2.6 4.4 1.2]\n",
      " [6.1 3.  4.6 1.4]\n",
      " [5.  2.3 3.3 1. ]\n",
      " [5.1 2.5 3.  1.1]\n",
      " [5.8 2.7 5.1 1.9]\n",
      " [4.9 2.5 4.5 1.7]\n",
      " [6.5 3.2 5.1 2. ]\n",
      " [6.4 2.7 5.3 1.9]\n",
      " [5.7 2.5 5.  2. ]\n",
      " [6.5 3.  5.5 1.8]\n",
      " [6.  2.2 5.  1.5]\n",
      " [5.6 2.8 4.9 2. ]\n",
      " [6.3 2.7 4.9 1.8]\n",
      " [6.2 2.8 4.8 1.8]\n",
      " [6.1 3.  4.9 1.8]\n",
      " [7.2 3.  5.8 1.6]\n",
      " [7.9 3.8 6.4 2. ]\n",
      " [6.3 2.8 5.1 1.5]\n",
      " [6.1 2.6 5.6 1.4]\n",
      " [6.4 3.1 5.5 1.8]\n",
      " [6.  3.  4.8 1.8]\n",
      " [6.9 3.1 5.4 2.1]\n",
      " [6.9 3.1 5.1 2.3]\n",
      " [5.8 2.7 5.1 1.9]\n",
      " [6.7 3.  5.2 2.3]\n",
      " [6.3 2.5 5.  1.9]\n",
      " [6.5 3.  5.2 2. ]\n",
      " [5.9 3.  5.1 1.8]]\n",
      "[ 18  20  23  24  25  41  44  50  51  52  54  55  56  57  58  63  64  66\n",
      "  68  70  72  73  75  76  77  78  79  83  84  85  86  87  90  91  93  98\n",
      " 101 106 110 111 113 116 119 121 123 126 127 129 131 133 134 137 138 139\n",
      " 141 142 145 146 147 149]\n",
      "[ 7 29 24]\n"
     ]
    }
   ],
   "source": [
    "# get support vectors\n",
    "print(clf_svm.support_vectors_)\n",
    "\n",
    "# get indices of support vectors\n",
    "print(clf_svm.support_)\n",
    "\n",
    "# get number of support vectors for each class\n",
    "print(clf_svm.n_support_)"
   ]
  },
  {
   "cell_type": "markdown",
   "id": "cf10c6c4",
   "metadata": {},
   "source": [
    "# MLP CLASSIFIER"
   ]
  },
  {
   "cell_type": "code",
   "execution_count": null,
   "id": "44d8a2e4",
   "metadata": {},
   "outputs": [],
   "source": [
    "#https://scikit-learn.org/stable/modules/neural_networks_supervised.html#neural-networks-supervised\n",
    "#https://scikit-learn.org/stable/modules/generated/sklearn.neural_network.MLPClassifier.html#sklearn.neural_network.MLPClassifier\n"
   ]
  },
  {
   "cell_type": "code",
   "execution_count": null,
   "id": "836ece84",
   "metadata": {},
   "outputs": [],
   "source": [
    "#Class MLPClassifier implements a multi-layer perceptron (MLP) algorithm that trains using Backpropagation.\n",
    "#Currently, MLPClassifier supports only the Cross-Entropy loss function, which allows probability estimates by running the predict_proba method.\n",
    "#MLP trains using Backpropagation. More precisely, it trains using some form of gradient descent and the gradients are calculated using Backpropagation.\n",
    "#MLPClassifier supports multi-class classification by applying Softmax as the output function.\n"
   ]
  },
  {
   "cell_type": "code",
   "execution_count": null,
   "id": "3461dbe6",
   "metadata": {},
   "outputs": [
    {
     "data": {
      "text/plain": [
       "array([1.        , 0.95977778, 0.96      ])"
      ]
     },
     "execution_count": 54,
     "metadata": {},
     "output_type": "execute_result"
    }
   ],
   "source": [
    "from sklearn.neural_network import MLPClassifier\n",
    "\n",
    "#3 camadas intermediárias, uma com 50, a outra com 30 e a outra com 20\n",
    "clf_mlp = MLPClassifier(hidden_layer_sizes=(50, 30, 20), max_iter=500, random_state=0)\n",
    "clf_mlp.fit(X, y)\n",
    "\n",
    "scores = cross_val_score(clf_mlp, X, y, cv=3, scoring='f1_weighted')\n",
    "scores"
   ]
  },
  {
   "cell_type": "code",
   "execution_count": null,
   "id": "1b43da6b",
   "metadata": {},
   "outputs": [],
   "source": [
    "results[\"ann\"] = np.mean(scores)"
   ]
  },
  {
   "cell_type": "code",
   "execution_count": null,
   "id": "fcfb68a6",
   "metadata": {},
   "outputs": [
    {
     "data": {
      "text/plain": [
       "array([2])"
      ]
     },
     "execution_count": 57,
     "metadata": {},
     "output_type": "execute_result"
    }
   ],
   "source": [
    "clf_mlp.predict([[2., 2., 3., 3.]])"
   ]
  },
  {
   "cell_type": "markdown",
   "id": "d7c61f36",
   "metadata": {},
   "source": [
    "# Ensemble (??? Não consta  no documento acho que não é necessário)"
   ]
  },
  {
   "cell_type": "code",
   "execution_count": null,
   "id": "243d39be",
   "metadata": {},
   "outputs": [],
   "source": [
    "#https://scikit-learn.org/stable/modules/ensemble.html#ensemble\n",
    "#https://scikit-learn.org/stable/modules/generated/sklearn.ensemble.AdaBoostClassifier.html#sklearn.ensemble.AdaBoostClassifier\n",
    "#https://scikit-learn.org/stable/modules/generated/sklearn.ensemble.BaggingClassifier.html#sklearn.ensemble.BaggingClassifier\n",
    "#https://scikit-learn.org/stable/modules/generated/sklearn.ensemble.RandomForestClassifier.html#sklearn.ensemble.RandomForestClassifier\n"
   ]
  },
  {
   "cell_type": "code",
   "execution_count": null,
   "id": "6f5c0466",
   "metadata": {},
   "outputs": [
    {
     "data": {
      "text/plain": [
       "array([0.97996313, 0.92      , 0.95986111])"
      ]
     },
     "execution_count": 41,
     "metadata": {},
     "output_type": "execute_result"
    }
   ],
   "source": [
    "from sklearn.ensemble import AdaBoostClassifier\n",
    "\n",
    "clf_AdaB = AdaBoostClassifier()\n",
    "clf_AdaB.fit(X, y)\n",
    "\n",
    "scores = cross_val_score(clf_AdaB, X, y, cv=3, scoring='f1_weighted')\n",
    "scores"
   ]
  },
  {
   "cell_type": "code",
   "execution_count": null,
   "id": "a1706561",
   "metadata": {},
   "outputs": [],
   "source": [
    "results[\"AdaB\"] = np.mean(scores)"
   ]
  },
  {
   "cell_type": "code",
   "execution_count": null,
   "id": "ba8e008d",
   "metadata": {},
   "outputs": [
    {
     "data": {
      "text/plain": [
       "array([2])"
      ]
     },
     "execution_count": 43,
     "metadata": {},
     "output_type": "execute_result"
    }
   ],
   "source": [
    "clf_AdaB.predict([[2., 2., 3., 3.]])"
   ]
  },
  {
   "cell_type": "code",
   "execution_count": null,
   "id": "d04951ce",
   "metadata": {},
   "outputs": [],
   "source": [
    "#e assim sucessivamente..."
   ]
  },
  {
   "cell_type": "markdown",
   "id": "fa94d8e3",
   "metadata": {},
   "source": [
    "# Resultados-Finais"
   ]
  },
  {
   "cell_type": "code",
   "execution_count": null,
   "id": "eb3f9516",
   "metadata": {},
   "outputs": [
    {
     "name": "stdout",
     "output_type": "stream",
     "text": [
      "tree 0.9532747482505547\n",
      "knn 0.9732411984670049\n",
      "nb 0.9398678177364136\n",
      "svm 0.9599703951962016\n",
      "ann 0.9732592592592592\n",
      "AdaB 0.9532747482505547\n"
     ]
    }
   ],
   "source": [
    "for key, value in results.items():\n",
    "    print(key, value)"
   ]
  },
  {
   "cell_type": "code",
   "execution_count": null,
   "id": "85232de0",
   "metadata": {},
   "outputs": [],
   "source": []
  }
 ],
 "metadata": {
  "kernelspec": {
   "display_name": "Python 3.8.10 64-bit",
   "language": "python",
   "name": "python3"
  },
  "language_info": {
   "codemirror_mode": {
    "name": "ipython",
    "version": 3
   },
   "file_extension": ".py",
   "mimetype": "text/x-python",
   "name": "python",
   "nbconvert_exporter": "python",
   "pygments_lexer": "ipython3",
   "version": "3.8.10"
  },
  "vscode": {
   "interpreter": {
    "hash": "916dbcbb3f70747c44a77c7bcd40155683ae19c65e1c03b4aa3499c5328201f1"
   }
  }
 },
 "nbformat": 4,
 "nbformat_minor": 5
}
