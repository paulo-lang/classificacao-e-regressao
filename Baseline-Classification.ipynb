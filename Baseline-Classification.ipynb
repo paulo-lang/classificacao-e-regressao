{
 "cells": [
  {
   "cell_type": "markdown",
   "id": "41e249b7",
   "metadata": {},
   "source": [
    "# Classificadores"
   ]
  },
  {
   "cell_type": "code",
   "execution_count": 245,
   "id": "8147365a",
   "metadata": {},
   "outputs": [
    {
     "ename": "SyntaxError",
     "evalue": "invalid syntax (1164511787.py, line 1)",
     "output_type": "error",
     "traceback": [
      "\u001b[1;36m  Input \u001b[1;32mIn [245]\u001b[1;36m\u001b[0m\n\u001b[1;33m    from sklearn.datasets import load_digits, load_breast_cancer, load_wine, load_diabetes()\u001b[0m\n\u001b[1;37m                                                                                          ^\u001b[0m\n\u001b[1;31mSyntaxError\u001b[0m\u001b[1;31m:\u001b[0m invalid syntax\n"
     ]
    }
   ],
   "source": [
    "from sklearn.datasets import load_digits, load_breast_cancer, load_wine, load_diabetes\n",
    "\n",
    "#Digits\n",
    "digits = load_digits()\n",
    "xdig, ydig = digits.data, digits.target\n",
    "\n",
    "#Breast Cancer\n",
    "breast_cancer = load_breast_cancer()\n",
    "xbre, ybre = breast_cancer.data, breast_cancer.target\n",
    "\n",
    "#Wine\n",
    "wine = load_wine()\n",
    "xwine, ywine = wine.data, wine.target\n",
    "\n",
    "diabetesData = load_diabetes()\n",
    "xDiabetes, yDiabetes = diabetesData.data, diabetesData.target"
   ]
  },
  {
   "cell_type": "code",
   "execution_count": null,
   "id": "37810c0a",
   "metadata": {},
   "outputs": [],
   "source": [
    "results_dig = {}\n",
    "results_bre = {}\n",
    "results_wine = {}\n",
    "results_diabetes = {}"
   ]
  },
  {
   "cell_type": "markdown",
   "id": "fa93d087",
   "metadata": {},
   "source": [
    "# DecisionTree\n",
    "#However scikit-learn implementation does not support categorical variables for now"
   ]
  },
  {
   "cell_type": "code",
   "execution_count": null,
   "id": "a5b8445f",
   "metadata": {},
   "outputs": [],
   "source": [
    "from sklearn.tree import DecisionTreeClassifier\n",
    "\n",
    "clf_tree = DecisionTreeClassifier(random_state=0)"
   ]
  },
  {
   "cell_type": "code",
   "execution_count": null,
   "id": "6f940b54",
   "metadata": {},
   "outputs": [],
   "source": [
    "from sklearn.model_selection import cross_val_score\n",
    "\n",
    "#Digits\n",
    "scores_dig = cross_val_score(clf_tree, xdig, ydig, cv=3, scoring='f1_weighted')\n",
    "#Breast Cancer\n",
    "scores_bre = cross_val_score(clf_tree, xbre, ybre, cv=3, scoring='f1_weighted')\n",
    "#Wine\n",
    "scores_wine = cross_val_score(clf_tree, xwine, ywine, cv=3, scoring='f1_weighted')\n"
   ]
  },
  {
   "cell_type": "code",
   "execution_count": null,
   "id": "c5f18040",
   "metadata": {},
   "outputs": [],
   "source": [
    "import numpy as np\n",
    "\n",
    "results_dig[\"tree\"] = np.mean(scores_dig)\n",
    "results_bre[\"tree\"] = np.mean(scores_bre)\n",
    "results_wine[\"tree\"] = np.mean(scores_wine)"
   ]
  },
  {
   "cell_type": "code",
   "execution_count": null,
   "id": "c27dcadc",
   "metadata": {},
   "outputs": [],
   "source": [
    "from sklearn.model_selection import cross_validate\n",
    "\n",
    "scores_dig = cross_validate(clf_tree, xdig, ydig, cv=3, scoring=('f1_weighted', 'precision_weighted', 'recall_weighted'), return_train_score=True)\n",
    "scores_bre = cross_validate(clf_tree, xbre, ybre, cv=3, scoring=('f1_weighted', 'precision_weighted', 'recall_weighted'), return_train_score=True)\n",
    "scores_wine = cross_validate(clf_tree, xwine, ywine, cv=3, scoring=('f1_weighted', 'precision_weighted', 'recall_weighted'), return_train_score=True)"
   ]
  },
  {
   "cell_type": "code",
   "execution_count": null,
   "id": "45963739",
   "metadata": {},
   "outputs": [],
   "source": [
    "#Digits\n",
    "model_trees_dig = clf_tree.fit(xdig, ydig)\n",
    "#Breast Cancer\n",
    "model_trees_bre = clf_tree.fit(xbre, ybre)\n",
    "#Wine\n",
    "model_trees_wine = clf_tree.fit(xwine, ywine)"
   ]
  },
  {
   "cell_type": "code",
   "execution_count": null,
   "id": "704521fd",
   "metadata": {},
   "outputs": [
    {
     "name": "stdout",
     "output_type": "stream",
     "text": [
      "{'criterion': 'gini', 'max_depth': 9}\n",
      "0.850427189256138\n"
     ]
    }
   ],
   "source": [
    "#Digits\n",
    "from sklearn.model_selection import GridSearchCV\n",
    "import pandas as pd\n",
    "\n",
    "param_grid = {'criterion':['gini', 'entropy'], 'max_depth':[3, 7, 9]}\n",
    "best_tree_dig = GridSearchCV(clf_tree, param_grid, scoring=('f1_weighted'), cv=3, refit=True)\n",
    "best_tree_dig.fit(xdig, ydig)\n",
    "\n",
    "\n",
    "\n",
    "best_model = best_tree_dig.best_estimator_\n",
    "best_model.fit(xdig, ydig)\n",
    "\n",
    "X_train, X_test, y_train, y_test = train_test_split(xdig, ydig, test_size=0.2, random_state=0)\n",
    "\n",
    "best_tree_dig = GridSearchCV(clf_tree, param_grid, scoring=('f1_weighted'), cv=3)\n",
    "best_tree_dig.fit(X_train, y_train)\n",
    "\n",
    "df = pd.DataFrame(best_tree_dig.cv_results_)\n",
    "\n",
    "print(best_tree_dig.best_params_)\n",
    "\n",
    "y_true, y_pred = y_test, best_tree_dig.predict(X_test)\n",
    "\n",
    "from sklearn.metrics import f1_score\n",
    "print(f1_score(y_true, y_pred, average='weighted'))"
   ]
  },
  {
   "cell_type": "code",
   "execution_count": null,
   "id": "a1187ec5",
   "metadata": {},
   "outputs": [
    {
     "name": "stdout",
     "output_type": "stream",
     "text": [
      "{'criterion': 'entropy', 'max_depth': 7}\n",
      "0.93884293641162\n"
     ]
    }
   ],
   "source": [
    "#Breast Cancer\n",
    "best_tree_bre = GridSearchCV(clf_tree, param_grid, scoring=('f1_weighted'), cv=3, refit=True)\n",
    "best_tree_bre.fit(xbre, ybre)\n",
    "\n",
    "best_model = best_tree_bre.best_estimator_\n",
    "best_model.fit(xbre, ybre)\n",
    "\n",
    "X_train, X_test, y_train, y_test = train_test_split(xbre, ybre, test_size=0.2, random_state=0)\n",
    "\n",
    "best_tree_bre = GridSearchCV(clf_tree, param_grid, scoring=('f1_weighted'), cv=3)\n",
    "best_tree_bre.fit(X_train, y_train)\n",
    "\n",
    "df = pd.DataFrame(best_tree_bre.cv_results_)\n",
    "\n",
    "print(best_tree_bre.best_params_)\n",
    "\n",
    "y_true, y_pred = y_test, best_tree_bre.predict(X_test)\n",
    "\n",
    "from sklearn.metrics import f1_score\n",
    "print(f1_score(y_true, y_pred, average='weighted'))"
   ]
  },
  {
   "cell_type": "code",
   "execution_count": null,
   "id": "70e447de",
   "metadata": {},
   "outputs": [
    {
     "name": "stdout",
     "output_type": "stream",
     "text": [
      "{'criterion': 'entropy', 'max_depth': 3}\n",
      "0.9449984172206395\n"
     ]
    }
   ],
   "source": [
    "#Wine\n",
    "best_tree_wine = GridSearchCV(clf_tree, param_grid, scoring=('f1_weighted'), cv=3, refit=True)\n",
    "best_tree_wine.fit(xwine, ywine)\n",
    "\n",
    "best_model = best_tree_wine.best_estimator_\n",
    "best_model.fit(xwine, ywine)\n",
    "\n",
    "X_train, X_test, y_train, y_test = train_test_split(xwine, ywine, test_size=0.2, random_state=0)\n",
    "\n",
    "best_tree_wine = GridSearchCV(clf_tree, param_grid, scoring=('f1_weighted'), cv=3)\n",
    "best_tree_wine.fit(X_train, y_train)\n",
    "\n",
    "df = pd.DataFrame(best_tree_wine.cv_results_)\n",
    "\n",
    "print(best_tree_wine.best_params_)\n",
    "\n",
    "y_true, y_pred = y_test, best_tree_wine.predict(X_test)\n",
    "\n",
    "from sklearn.metrics import f1_score\n",
    "print(f1_score(y_true, y_pred, average='weighted'))"
   ]
  },
  {
   "cell_type": "markdown",
   "id": "b2c31f00",
   "metadata": {},
   "source": [
    "# k-NN"
   ]
  },
  {
   "cell_type": "code",
   "execution_count": null,
   "id": "4839210e",
   "metadata": {},
   "outputs": [],
   "source": [
    "from sklearn.neighbors import KNeighborsClassifier\n",
    "\n",
    "clf_knn = KNeighborsClassifier()\n",
    "\n",
    "scores_dig = cross_val_score(clf_knn, xdig, ydig, cv=3, scoring='f1_weighted')\n",
    "scores_bre = cross_val_score(clf_knn, xbre, ybre, cv=3, scoring='f1_weighted')\n",
    "scores_wine = cross_val_score(clf_knn, xwine, ywine, cv=3, scoring='f1_weighted')\n",
    "\n",
    "results_dig[\"knn\"] = np.mean(scores_dig)\n",
    "results_bre[\"knn\"] = np.mean(scores_bre)\n",
    "results_wine[\"knn\"] = np.mean(scores_wine)"
   ]
  },
  {
   "cell_type": "code",
   "execution_count": null,
   "id": "4099ccce",
   "metadata": {},
   "outputs": [
    {
     "name": "stdout",
     "output_type": "stream",
     "text": [
      "{'n_neighbors': 3, 'p': 2}\n",
      "0.9833405264212088\n"
     ]
    }
   ],
   "source": [
    "#Digits\n",
    "param_neigh = {'n_neighbors':[1,3,5,7], 'p':[1,2]}\n",
    "\n",
    "best_knn = GridSearchCV(clf_knn, param_neigh, scoring=('f1_weighted'), cv=3, refit=True)\n",
    "best_knn.fit(xdig, ydig)\n",
    "\n",
    "best_model = best_knn.best_estimator_\n",
    "best_model.fit(xdig, ydig)\n",
    "\n",
    "X_train, X_test, y_train, y_test = train_test_split(xdig, ydig, test_size=0.2, random_state=0)\n",
    "\n",
    "best_knn = GridSearchCV(clf_knn, param_neigh, scoring=('f1_weighted'), cv=3)\n",
    "best_knn.fit(X_train, y_train)\n",
    "\n",
    "df = pd.DataFrame(best_knn.cv_results_)\n",
    "\n",
    "print(best_knn.best_params_)\n",
    "\n",
    "y_true, y_pred = y_test, best_knn.predict(X_test)\n",
    "\n",
    "print(f1_score(y_true, y_pred, average='weighted'))"
   ]
  },
  {
   "cell_type": "code",
   "execution_count": null,
   "id": "64edb831",
   "metadata": {},
   "outputs": [
    {
     "name": "stdout",
     "output_type": "stream",
     "text": [
      "{'n_neighbors': 5, 'p': 1}\n",
      "0.9560669894569158\n"
     ]
    }
   ],
   "source": [
    "#Breast Cancer\n",
    "param_neigh = {'n_neighbors':[1,3,5,7], 'p':[1,2]}\n",
    "\n",
    "best_knn = GridSearchCV(clf_knn, param_neigh, scoring=('f1_weighted'), cv=3, refit=True)\n",
    "best_knn.fit(xbre, ybre)\n",
    "\n",
    "best_model = best_knn.best_estimator_\n",
    "best_model.fit(xbre, ybre)\n",
    "\n",
    "X_train, X_test, y_train, y_test = train_test_split(xbre, ybre, test_size=0.2, random_state=0)\n",
    "\n",
    "best_knn = GridSearchCV(clf_knn, param_neigh, scoring=('f1_weighted'), cv=3)\n",
    "best_knn.fit(X_train, y_train)\n",
    "\n",
    "df = pd.DataFrame(best_knn.cv_results_)\n",
    "\n",
    "print(best_knn.best_params_)\n",
    "\n",
    "y_true, y_pred = y_test, best_knn.predict(X_test)\n",
    "\n",
    "print(f1_score(y_true, y_pred, average='weighted'))"
   ]
  },
  {
   "cell_type": "code",
   "execution_count": null,
   "id": "c9d915de",
   "metadata": {},
   "outputs": [
    {
     "name": "stdout",
     "output_type": "stream",
     "text": [
      "{'n_neighbors': 1, 'p': 1}\n",
      "0.8364350703060381\n"
     ]
    }
   ],
   "source": [
    "#Wine\n",
    "param_neigh = {'n_neighbors':[1,3,5,7], 'p':[1,2]}\n",
    "\n",
    "best_knn = GridSearchCV(clf_knn, param_neigh, scoring=('f1_weighted'), cv=3, refit=True)\n",
    "best_knn.fit(xwine, ywine)\n",
    "\n",
    "best_model = best_knn.best_estimator_\n",
    "best_model.fit(xwine, ywine)\n",
    "\n",
    "X_train, X_test, y_train, y_test = train_test_split(xwine, ywine, test_size=0.2, random_state=0)\n",
    "\n",
    "best_knn = GridSearchCV(clf_knn, param_neigh, scoring=('f1_weighted'), cv=3)\n",
    "best_knn.fit(X_train, y_train)\n",
    "\n",
    "df = pd.DataFrame(best_knn.cv_results_)\n",
    "\n",
    "print(best_knn.best_params_)\n",
    "\n",
    "y_true, y_pred = y_test, best_knn.predict(X_test)\n",
    "\n",
    "print(f1_score(y_true, y_pred, average='weighted'))"
   ]
  },
  {
   "cell_type": "markdown",
   "id": "f7551a4f",
   "metadata": {},
   "source": [
    "# Naive Bayes"
   ]
  },
  {
   "cell_type": "code",
   "execution_count": null,
   "id": "86957f2c",
   "metadata": {},
   "outputs": [
    {
     "name": "stdout",
     "output_type": "stream",
     "text": [
      "tree 0.8455842322485002\n",
      "knn 0.6577805467035208\n",
      "svm 0.6220278265230366\n",
      "nb 0.9604749386595953\n"
     ]
    }
   ],
   "source": [
    "from sklearn.naive_bayes import GaussianNB\n",
    "\n",
    "clf_nb = GaussianNB()\n",
    "\n",
    "scores_dig = cross_val_score(clf_nb, xdig, ydig, cv=3, scoring='f1_weighted')\n",
    "scores_bre = cross_val_score(clf_nb, xbre, ybre, cv=3, scoring='f1_weighted')\n",
    "scores_wine = cross_val_score(clf_nb, xwine, ywine, cv=3, scoring='f1_weighted')\n",
    "\n",
    "results_dig[\"nb\"] = np.mean(scores_dig)\n",
    "results_bre[\"nb\"] = np.mean(scores_bre)\n",
    "results_wine[\"nb\"] = np.mean(scores_wine)"
   ]
  },
  {
   "cell_type": "code",
   "execution_count": null,
   "id": "1356770d",
   "metadata": {},
   "outputs": [
    {
     "name": "stdout",
     "output_type": "stream",
     "text": [
      "0.8252819198016837\n"
     ]
    }
   ],
   "source": [
    "#Digits\n",
    "param_nb = {}\n",
    "\n",
    "best_nb = GridSearchCV(clf_nb, param_nb, scoring=('f1_weighted'), cv=3, refit=True)\n",
    "best_nb.fit(xdig, ydig)\n",
    "\n",
    "best_model = best_nb.best_estimator_\n",
    "best_model.fit(xdig, ydig)\n",
    "\n",
    "X_train, X_test, y_train, y_test = train_test_split(xdig, ydig, test_size=0.2, random_state=0)\n",
    "\n",
    "best_nb = GridSearchCV(clf_nb, param_nb, scoring=('f1_weighted'), cv=3)\n",
    "best_nb.fit(X_train, y_train)\n",
    "\n",
    "df = pd.DataFrame(best_nb.cv_results_)\n",
    "\n",
    "y_true, y_pred = y_test, best_nb.predict(X_test)\n",
    "\n",
    "print(f1_score(y_true, y_pred, average='weighted'))"
   ]
  },
  {
   "cell_type": "code",
   "execution_count": null,
   "id": "fb55cdc8",
   "metadata": {},
   "outputs": [
    {
     "name": "stdout",
     "output_type": "stream",
     "text": [
      "0.9298245614035088\n"
     ]
    }
   ],
   "source": [
    "#Breast Cancer\n",
    "param_nb = {}\n",
    "\n",
    "best_nb = GridSearchCV(clf_nb, param_nb, scoring=('f1_weighted'), cv=3, refit=True)\n",
    "best_nb.fit(xbre, ybre)\n",
    "\n",
    "best_model = best_nb.best_estimator_\n",
    "best_model.fit(xbre, ybre)\n",
    "\n",
    "X_train, X_test, y_train, y_test = train_test_split(xbre, ybre, test_size=0.2, random_state=0)\n",
    "\n",
    "best_nb = GridSearchCV(clf_nb, param_nb, scoring=('f1_weighted'), cv=3)\n",
    "best_nb.fit(X_train, y_train)\n",
    "\n",
    "df = pd.DataFrame(best_nb.cv_results_)\n",
    "\n",
    "y_true, y_pred = y_test, best_nb.predict(X_test)\n",
    "\n",
    "print(f1_score(y_true, y_pred, average='weighted'))"
   ]
  },
  {
   "cell_type": "code",
   "execution_count": null,
   "id": "204f7412",
   "metadata": {},
   "outputs": [
    {
     "name": "stdout",
     "output_type": "stream",
     "text": [
      "0.9152765497593083\n"
     ]
    }
   ],
   "source": [
    "#Wine\n",
    "param_nb = {}\n",
    "\n",
    "best_nb = GridSearchCV(clf_nb, param_nb, scoring=('f1_weighted'), cv=3, refit=True)\n",
    "best_nb.fit(xwine, ywine)\n",
    "\n",
    "best_model = best_nb.best_estimator_\n",
    "best_model.fit(xwine, ywine)\n",
    "\n",
    "X_train, X_test, y_train, y_test = train_test_split(xwine, ywine, test_size=0.2, random_state=0)\n",
    "\n",
    "best_nb = GridSearchCV(clf_nb, param_nb, scoring=('f1_weighted'), cv=3)\n",
    "best_nb.fit(X_train, y_train)\n",
    "\n",
    "df = pd.DataFrame(best_nb.cv_results_)\n",
    "\n",
    "y_true, y_pred = y_test, best_nb.predict(X_test)\n",
    "\n",
    "print(f1_score(y_true, y_pred, average='weighted'))"
   ]
  },
  {
   "cell_type": "markdown",
   "id": "ead6101b",
   "metadata": {},
   "source": [
    "# SVM"
   ]
  },
  {
   "cell_type": "code",
   "execution_count": null,
   "id": "0b870e8d",
   "metadata": {},
   "outputs": [],
   "source": [
    "from sklearn.svm import SVC\n",
    "\n",
    "clf_svm = SVC()\n",
    "\n",
    "scores_dig = cross_val_score(clf_svm, xdig, ydig, cv=3, scoring='f1_weighted')\n",
    "scores_bre = cross_val_score(clf_svm, xbre, ybre, cv=3, scoring='f1_weighted')\n",
    "scores_wine = cross_val_score(clf_svm, xwine, ywine, cv=3, scoring='f1_weighted')\n",
    "\n",
    "results_dig[\"svm\"] = np.mean(scores_dig)\n",
    "results_bre[\"svm\"] = np.mean(scores_bre)\n",
    "results_wine[\"svm\"] = np.mean(scores_wine)"
   ]
  },
  {
   "cell_type": "code",
   "execution_count": null,
   "id": "7420e4d7",
   "metadata": {},
   "outputs": [
    {
     "name": "stdout",
     "output_type": "stream",
     "text": [
      "{'C': 3, 'kernel': 'rbf'}\n",
      "0.9916681909639657\n"
     ]
    }
   ],
   "source": [
    "#Digits\n",
    "param_svm = {'kernel':['linear', 'poly', 'rbf', 'sigmoid'], 'C':[1, 3, 7]}\n",
    "\n",
    "best_svm = GridSearchCV(clf_svm, param_svm, scoring=('f1_weighted'), cv=3, refit=True)\n",
    "best_svm.fit(xdig, ydig)\n",
    "\n",
    "best_model = best_svm.best_estimator_\n",
    "best_model.fit(xdig, ydig)\n",
    "\n",
    "X_train, X_test, y_train, y_test = train_test_split(xdig, ydig, test_size=0.2, random_state=0)\n",
    "\n",
    "best_svm = GridSearchCV(clf_svm, param_svm, scoring=('f1_weighted'), cv=3)\n",
    "best_svm.fit(X_train, y_train)\n",
    "\n",
    "df = pd.DataFrame(best_svm.cv_results_)\n",
    "\n",
    "print(best_svm.best_params_)\n",
    "\n",
    "y_true, y_pred = y_test, best_svm.predict(X_test)\n",
    "\n",
    "print(f1_score(y_true, y_pred, average='weighted'))"
   ]
  },
  {
   "cell_type": "code",
   "execution_count": null,
   "id": "1160081a",
   "metadata": {},
   "outputs": [
    {
     "name": "stdout",
     "output_type": "stream",
     "text": [
      "{'C': 3, 'kernel': 'linear'}\n",
      "0.9650119617224879\n"
     ]
    }
   ],
   "source": [
    "#Breast Cancer\n",
    "param_svm = {'kernel':['linear', 'poly', 'rbf', 'sigmoid'], 'C':[1, 3, 7]}\n",
    "\n",
    "best_svm = GridSearchCV(clf_svm, param_svm, scoring=('f1_weighted'), cv=3, refit=True)\n",
    "best_svm.fit(xbre, ybre)\n",
    "\n",
    "best_model = best_svm.best_estimator_\n",
    "best_model.fit(xbre, ybre)\n",
    "\n",
    "X_train, X_test, y_train, y_test = train_test_split(xbre, ybre, test_size=0.2, random_state=0)\n",
    "\n",
    "best_svm = GridSearchCV(clf_svm, param_svm, scoring=('f1_weighted'), cv=3)\n",
    "best_svm.fit(X_train, y_train)\n",
    "\n",
    "df = pd.DataFrame(best_svm.cv_results_)\n",
    "\n",
    "print(best_svm.best_params_)\n",
    "\n",
    "y_true, y_pred = y_test, best_svm.predict(X_test)\n",
    "\n",
    "print(f1_score(y_true, y_pred, average='weighted'))"
   ]
  },
  {
   "cell_type": "code",
   "execution_count": null,
   "id": "29b0b556",
   "metadata": {},
   "outputs": [
    {
     "name": "stdout",
     "output_type": "stream",
     "text": [
      "{'C': 1, 'kernel': 'linear'}\n",
      "0.9728425696167632\n"
     ]
    }
   ],
   "source": [
    "#Wine\n",
    "param_svm = {'kernel':['linear', 'poly', 'rbf', 'sigmoid'], 'C':[1, 3, 7]}\n",
    "\n",
    "best_svm = GridSearchCV(clf_svm, param_svm, scoring=('f1_weighted'), cv=3, refit=True)\n",
    "best_svm.fit(xwine, ywine)\n",
    "\n",
    "best_model = best_svm.best_estimator_\n",
    "best_model.fit(xwine, ywine)\n",
    "\n",
    "X_train, X_test, y_train, y_test = train_test_split(xwine, ywine, test_size=0.2, random_state=0)\n",
    "\n",
    "best_svm = GridSearchCV(clf_svm, param_svm, scoring=('f1_weighted'), cv=3)\n",
    "best_svm.fit(X_train, y_train)\n",
    "\n",
    "df = pd.DataFrame(best_svm.cv_results_)\n",
    "\n",
    "print(best_svm.best_params_)\n",
    "\n",
    "y_true, y_pred = y_test, best_svm.predict(X_test)\n",
    "\n",
    "print(f1_score(y_true, y_pred, average='weighted'))"
   ]
  },
  {
   "cell_type": "markdown",
   "id": "3497e454",
   "metadata": {},
   "source": [
    "# MLP CLASSIFIER"
   ]
  },
  {
   "cell_type": "code",
   "execution_count": null,
   "id": "10528bf2",
   "metadata": {},
   "outputs": [],
   "source": [
    "from sklearn.neural_network import MLPClassifier\n",
    "\n",
    "#3 camadas intermediárias, uma com 50, a outra com 30 e a outra com 20\n",
    "clf_mlp = MLPClassifier(hidden_layer_sizes=(50, 30, 10), max_iter=5000, random_state=0)\n",
    "clf_mlp.fit(xdig, ydig)\n",
    "\n",
    "scores_dig = cross_val_score(clf_mlp, xdig, ydig, cv=3, scoring='f1_weighted')\n",
    "scores_bre = cross_val_score(clf_mlp, xbre, ybre, cv=3, scoring='f1_weighted')\n",
    "scores_wine = cross_val_score(clf_mlp, xwine, ywine, cv=3, scoring='f1_weighted')\n",
    "\n",
    "results_dig[\"mlp\"] = np.mean(scores_dig)\n",
    "results_bre[\"mlp\"] = np.mean(scores_bre)\n",
    "results_wine[\"mlp\"] = np.mean(scores_wine)"
   ]
  },
  {
   "cell_type": "code",
   "execution_count": null,
   "id": "2dff3eba",
   "metadata": {},
   "outputs": [
    {
     "name": "stdout",
     "output_type": "stream",
     "text": [
      "0.9611593612622309\n"
     ]
    }
   ],
   "source": [
    "#Digits\n",
    "param_mlp = {}\n",
    "\n",
    "best_mlp = GridSearchCV(clf_mlp, param_mlp, scoring=('f1_weighted'), cv=3, refit=True)\n",
    "best_mlp.fit(xdig, ydig)\n",
    "\n",
    "best_model = best_mlp.best_estimator_\n",
    "best_model.fit(xdig, ydig)\n",
    "\n",
    "X_train, X_test, y_train, y_test = train_test_split(xdig, ydig, test_size=0.2, random_state=0)\n",
    "\n",
    "best_mlp = GridSearchCV(clf_mlp, param_mlp, scoring=('f1_weighted'), cv=3)\n",
    "best_mlp.fit(X_train, y_train)\n",
    "\n",
    "df = pd.DataFrame(best_mlp.cv_results_)\n",
    "\n",
    "y_true, y_pred = y_test, best_mlp.predict(X_test)\n",
    "\n",
    "print(f1_score(y_true, y_pred, average='weighted'))"
   ]
  },
  {
   "cell_type": "code",
   "execution_count": null,
   "id": "cec94337",
   "metadata": {},
   "outputs": [
    {
     "name": "stdout",
     "output_type": "stream",
     "text": [
      "0.9125299043062202\n"
     ]
    }
   ],
   "source": [
    "#Breast Cancer\n",
    "param_mlp = {}\n",
    "\n",
    "best_mlp = GridSearchCV(clf_mlp, param_mlp, scoring=('f1_weighted'), cv=3, refit=True)\n",
    "best_mlp.fit(xbre, ybre)\n",
    "\n",
    "best_model = best_mlp.best_estimator_\n",
    "best_model.fit(xbre, ybre)\n",
    "\n",
    "X_train, X_test, y_train, y_test = train_test_split(xbre, ybre, test_size=0.2, random_state=0)\n",
    "\n",
    "best_mlp = GridSearchCV(clf_mlp, param_mlp, scoring=('f1_weighted'), cv=3)\n",
    "best_mlp.fit(X_train, y_train)\n",
    "\n",
    "df = pd.DataFrame(best_mlp.cv_results_)\n",
    "\n",
    "y_true, y_pred = y_test, best_mlp.predict(X_test)\n",
    "\n",
    "print(f1_score(y_true, y_pred, average='weighted'))"
   ]
  },
  {
   "cell_type": "code",
   "execution_count": null,
   "id": "0536af26",
   "metadata": {},
   "outputs": [
    {
     "name": "stdout",
     "output_type": "stream",
     "text": [
      "0.9449984172206395\n"
     ]
    }
   ],
   "source": [
    "#Wine\n",
    "param_mlp = {}\n",
    "\n",
    "best_mlp = GridSearchCV(clf_mlp, param_mlp, scoring=('f1_weighted'), cv=3, refit=True)\n",
    "best_mlp.fit(xwine, ywine)\n",
    "\n",
    "best_model = best_mlp.best_estimator_\n",
    "best_model.fit(xwine, ywine)\n",
    "\n",
    "X_train, X_test, y_train, y_test = train_test_split(xwine, ywine, test_size=0.2, random_state=0)\n",
    "\n",
    "best_mlp = GridSearchCV(clf_mlp, param_mlp, scoring=('f1_weighted'), cv=3)\n",
    "best_mlp.fit(X_train, y_train)\n",
    "\n",
    "df = pd.DataFrame(best_mlp.cv_results_)\n",
    "\n",
    "y_true, y_pred = y_test, best_mlp.predict(X_test)\n",
    "\n",
    "print(f1_score(y_true, y_pred, average='weighted'))"
   ]
  },
  {
   "cell_type": "markdown",
   "id": "4e55c92f",
   "metadata": {},
   "source": [
    "# Resultados-Finais"
   ]
  },
  {
   "cell_type": "code",
   "execution_count": null,
   "id": "10b3d060",
   "metadata": {},
   "outputs": [
    {
     "name": "stdout",
     "output_type": "stream",
     "text": [
      "tree 0.8987033350306769\n",
      "knn 0.9219125373254524\n",
      "svm 0.9074414574059992\n"
     ]
    }
   ],
   "source": [
    "print(\"---------------Digits----------------\")\n",
    "for key, value in results_dig.items():\n",
    "    print(key, value)\n",
    "print(\"-------------------------------------\")\n",
    "\n",
    "print(\"------------Breast Cancer------------\")\n",
    "for key, value in results_bre.items():\n",
    "    print(key, value)\n",
    "print(\"-------------------------------------\")\n",
    "\n",
    "print(\"----------------Wine-----------------\")\n",
    "for key, value in results_wine.items():\n",
    "    print(key, value)\n",
    "print(\"-------------------------------------\")"
   ]
  },
  {
   "cell_type": "markdown",
   "id": "9bba0792",
   "metadata": {},
   "source": [
    "# Regressão"
   ]
  },
  {
   "cell_type": "code",
   "execution_count": null,
   "id": "d33fe1ea",
   "metadata": {},
   "outputs": [],
   "source": [
    "from sklearn.tree import DecisionTreeRegressor\n",
    "from sklearn.model_selection import cross_val_score\n",
    "\n",
    "treeRegressor = DecisionTreeRegressor(random_state=0)\n"
   ]
  }
 ],
 "metadata": {
  "interpreter": {
   "hash": "56fba5a93d342786a90ffe95e361da1e255182c8d0ccdc23e57ce80b634b9f83"
  },
  "kernelspec": {
   "display_name": "Python 3.9.12 ('base')",
   "language": "python",
   "name": "python3"
  },
  "language_info": {
   "codemirror_mode": {
    "name": "ipython",
    "version": 3
   },
   "file_extension": ".py",
   "mimetype": "text/x-python",
   "name": "python",
   "nbconvert_exporter": "python",
   "pygments_lexer": "ipython3",
   "version": "3.9.12"
  },
  "vscode": {
   "interpreter": {
    "hash": "916dbcbb3f70747c44a77c7bcd40155683ae19c65e1c03b4aa3499c5328201f1"
   }
  }
 },
 "nbformat": 4,
 "nbformat_minor": 5
}
