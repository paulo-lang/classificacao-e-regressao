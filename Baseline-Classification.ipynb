{
 "cells": [
  {
   "cell_type": "markdown",
   "id": "41e249b7",
   "metadata": {},
   "source": [
    "# Classificadores"
   ]
  },
  {
   "cell_type": "code",
   "execution_count": 13,
   "id": "8147365a",
   "metadata": {},
   "outputs": [],
   "source": [
    "from sklearn.datasets import load_digits, load_breast_cancer, load_wine\n",
    "\n",
    "#Digits\n",
    "digits = load_digits()\n",
    "xdig, ydig = digits.data, digits.target\n",
    "\n",
    "#Breast Cancer\n",
    "breast_cancer = load_breast_cancer()\n",
    "xbre, ybre = breast_cancer.data, breast_cancer.target\n",
    "\n",
    "#Wine\n",
    "wine = load_wine()\n",
    "xwine, ywine = wine.data, wine.target\n",
    "\n"
   ]
  },
  {
   "cell_type": "code",
   "execution_count": 14,
   "id": "4da8ea59",
   "metadata": {},
   "outputs": [
    {
     "name": "stdout",
     "output_type": "stream",
     "text": [
      "Digits: \n",
      "[ 0.  0.  0. 12. 13.  5.  0.  0.  0.  0.  0. 11. 16.  9.  0.  0.  0.  0.\n",
      "  3. 15. 16.  6.  0.  0.  0.  7. 15. 16. 16.  2.  0.  0.  0.  0.  1. 16.\n",
      " 16.  3.  0.  0.  0.  0.  1. 16. 16.  6.  0.  0.  0.  0.  1. 16. 16.  6.\n",
      "  0.  0.  0.  0.  0. 11. 16. 10.  0.  0.]\n",
      "----------------------------------\n",
      "Breast Cancer: \n",
      "[2.057e+01 1.777e+01 1.329e+02 1.326e+03 8.474e-02 7.864e-02 8.690e-02\n",
      " 7.017e-02 1.812e-01 5.667e-02 5.435e-01 7.339e-01 3.398e+00 7.408e+01\n",
      " 5.225e-03 1.308e-02 1.860e-02 1.340e-02 1.389e-02 3.532e-03 2.499e+01\n",
      " 2.341e+01 1.588e+02 1.956e+03 1.238e-01 1.866e-01 2.416e-01 1.860e-01\n",
      " 2.750e-01 8.902e-02]\n",
      "----------------------------------\n",
      "Wine: \n",
      "[1.32e+01 1.78e+00 2.14e+00 1.12e+01 1.00e+02 2.65e+00 2.76e+00 2.60e-01\n",
      " 1.28e+00 4.38e+00 1.05e+00 3.40e+00 1.05e+03]\n",
      "----------------------------------\n"
     ]
    }
   ],
   "source": [
    "#Digits\n",
    "print(\"Digits: \")\n",
    "print(xdig[1])\n",
    "print(\"----------------------------------\")\n",
    "\n",
    "#Breast Cancer\n",
    "print(\"Breast Cancer: \")\n",
    "print(xbre[1])\n",
    "print(\"----------------------------------\")\n",
    "\n",
    "#Wine\n",
    "print(\"Wine: \")\n",
    "print(xwine[1])\n",
    "print(\"----------------------------------\")"
   ]
  },
  {
   "cell_type": "code",
   "execution_count": 15,
   "id": "48604937",
   "metadata": {},
   "outputs": [
    {
     "name": "stdout",
     "output_type": "stream",
     "text": [
      "Digits: \n",
      "[0 1 2 ... 8 9 8]\n",
      "----------------------------------\n",
      "Breast Cancer: \n",
      "[0 0 0 0 0 0 0 0 0 0 0 0 0 0 0 0 0 0 0 1 1 1 0 0 0 0 0 0 0 0 0 0 0 0 0 0 0\n",
      " 1 0 0 0 0 0 0 0 0 1 0 1 1 1 1 1 0 0 1 0 0 1 1 1 1 0 1 0 0 1 1 1 1 0 1 0 0\n",
      " 1 0 1 0 0 1 1 1 0 0 1 0 0 0 1 1 1 0 1 1 0 0 1 1 1 0 0 1 1 1 1 0 1 1 0 1 1\n",
      " 1 1 1 1 1 1 0 0 0 1 0 0 1 1 1 0 0 1 0 1 0 0 1 0 0 1 1 0 1 1 0 1 1 1 1 0 1\n",
      " 1 1 1 1 1 1 1 1 0 1 1 1 1 0 0 1 0 1 1 0 0 1 1 0 0 1 1 1 1 0 1 1 0 0 0 1 0\n",
      " 1 0 1 1 1 0 1 1 0 0 1 0 0 0 0 1 0 0 0 1 0 1 0 1 1 0 1 0 0 0 0 1 1 0 0 1 1\n",
      " 1 0 1 1 1 1 1 0 0 1 1 0 1 1 0 0 1 0 1 1 1 1 0 1 1 1 1 1 0 1 0 0 0 0 0 0 0\n",
      " 0 0 0 0 0 0 0 1 1 1 1 1 1 0 1 0 1 1 0 1 1 0 1 0 0 1 1 1 1 1 1 1 1 1 1 1 1\n",
      " 1 0 1 1 0 1 0 1 1 1 1 1 1 1 1 1 1 1 1 1 1 0 1 1 1 0 1 0 1 1 1 1 0 0 0 1 1\n",
      " 1 1 0 1 0 1 0 1 1 1 0 1 1 1 1 1 1 1 0 0 0 1 1 1 1 1 1 1 1 1 1 1 0 0 1 0 0\n",
      " 0 1 0 0 1 1 1 1 1 0 1 1 1 1 1 0 1 1 1 0 1 1 0 0 1 1 1 1 1 1 0 1 1 1 1 1 1\n",
      " 1 0 1 1 1 1 1 0 1 1 0 1 1 1 1 1 1 1 1 1 1 1 1 0 1 0 0 1 0 1 1 1 1 1 0 1 1\n",
      " 0 1 0 1 1 0 1 0 1 1 1 1 1 1 1 1 0 0 1 1 1 1 1 1 0 1 1 1 1 1 1 1 1 1 1 0 1\n",
      " 1 1 1 1 1 1 0 1 0 1 1 0 1 1 1 1 1 0 0 1 0 1 0 1 1 1 1 1 0 1 1 0 1 0 1 0 0\n",
      " 1 1 1 0 1 1 1 1 1 1 1 1 1 1 1 0 1 0 0 1 1 1 1 1 1 1 1 1 1 1 1 1 1 1 1 1 1\n",
      " 1 1 1 1 1 1 1 0 0 0 0 0 0 1]\n",
      "----------------------------------\n",
      "Wine: \n",
      "[0 0 0 0 0 0 0 0 0 0 0 0 0 0 0 0 0 0 0 0 0 0 0 0 0 0 0 0 0 0 0 0 0 0 0 0 0\n",
      " 0 0 0 0 0 0 0 0 0 0 0 0 0 0 0 0 0 0 0 0 0 0 1 1 1 1 1 1 1 1 1 1 1 1 1 1 1\n",
      " 1 1 1 1 1 1 1 1 1 1 1 1 1 1 1 1 1 1 1 1 1 1 1 1 1 1 1 1 1 1 1 1 1 1 1 1 1\n",
      " 1 1 1 1 1 1 1 1 1 1 1 1 1 1 1 1 1 1 1 2 2 2 2 2 2 2 2 2 2 2 2 2 2 2 2 2 2\n",
      " 2 2 2 2 2 2 2 2 2 2 2 2 2 2 2 2 2 2 2 2 2 2 2 2 2 2 2 2 2 2]\n",
      "----------------------------------\n"
     ]
    }
   ],
   "source": [
    "#Digits\n",
    "print(\"Digits: \")\n",
    "print(ydig)\n",
    "print(\"----------------------------------\")\n",
    "#Breast Cancer\n",
    "print(\"Breast Cancer: \")\n",
    "print(ybre)\n",
    "print(\"----------------------------------\")\n",
    "#Wine\n",
    "print(\"Wine: \")\n",
    "print(ywine)\n",
    "print(\"----------------------------------\")"
   ]
  },
  {
   "cell_type": "code",
   "execution_count": 16,
   "id": "37810c0a",
   "metadata": {},
   "outputs": [],
   "source": [
    "results_dig = {}\n",
    "results_bre = {}\n",
    "results_wine = {}"
   ]
  },
  {
   "cell_type": "markdown",
   "id": "fa93d087",
   "metadata": {},
   "source": [
    "# DecisionTree\n",
    "#However scikit-learn implementation does not support categorical variables for now"
   ]
  },
  {
   "cell_type": "code",
   "execution_count": 17,
   "id": "a5b8445f",
   "metadata": {},
   "outputs": [],
   "source": [
    "from sklearn.tree import DecisionTreeClassifier\n",
    "\n",
    "clf_tree = DecisionTreeClassifier(random_state=0)"
   ]
  },
  {
   "cell_type": "code",
   "execution_count": 18,
   "id": "6f940b54",
   "metadata": {},
   "outputs": [
    {
     "name": "stdout",
     "output_type": "stream",
     "text": [
      "Digits: \n",
      "[0.74453567 0.81254834 0.75393027]\n",
      "----------------------------------\n",
      "Breast Cancer: \n",
      "[0.88962696 0.94184084 0.8646422 ]\n",
      "----------------------------------\n",
      "Wine: \n",
      "[0.77468631 0.83042814 0.93163825]\n",
      "----------------------------------\n"
     ]
    }
   ],
   "source": [
    "from sklearn.model_selection import cross_val_score\n",
    "\n",
    "#Digits\n",
    "print(\"Digits: \")\n",
    "scores_dig = cross_val_score(clf_tree, xdig, ydig, cv=3, scoring='f1_weighted')\n",
    "print(scores_dig)\n",
    "print(\"----------------------------------\")\n",
    "#Breast Cancer\n",
    "print(\"Breast Cancer: \")\n",
    "scores_bre = cross_val_score(clf_tree, xbre, ybre, cv=3, scoring='f1_weighted')\n",
    "print(scores_bre)\n",
    "print(\"----------------------------------\")\n",
    "#Wine\n",
    "print(\"Wine: \")\n",
    "scores_wine = cross_val_score(clf_tree, xwine, ywine, cv=3, scoring='f1_weighted')\n",
    "print(scores_wine)\n",
    "print(\"----------------------------------\")"
   ]
  },
  {
   "cell_type": "code",
   "execution_count": 19,
   "id": "c5f18040",
   "metadata": {},
   "outputs": [],
   "source": [
    "import numpy as np\n",
    "\n",
    "results_dig[\"tree\"] = np.mean(scores_dig)\n",
    "results_bre[\"tree\"] = np.mean(scores_bre)\n",
    "results_wine[\"tree\"] = np.mean(scores_wine)"
   ]
  },
  {
   "cell_type": "code",
   "execution_count": 20,
   "id": "c27dcadc",
   "metadata": {},
   "outputs": [],
   "source": [
    "from sklearn.model_selection import cross_validate\n",
    "\n",
    "scores_dig = cross_validate(clf_tree, xdig, ydig, cv=3, scoring=('f1_weighted', 'precision_weighted', 'recall_weighted'), return_train_score=True)\n",
    "scores_bre = cross_validate(clf_tree, xbre, ybre, cv=3, scoring=('f1_weighted', 'precision_weighted', 'recall_weighted'), return_train_score=True)\n",
    "scores_wine = cross_validate(clf_tree, xwine, ywine, cv=3, scoring=('f1_weighted', 'precision_weighted', 'recall_weighted'), return_train_score=True)"
   ]
  },
  {
   "cell_type": "code",
   "execution_count": 21,
   "id": "3b38c395",
   "metadata": {},
   "outputs": [
    {
     "name": "stdout",
     "output_type": "stream",
     "text": [
      "Digits: \n",
      "test_f1_weighted\n",
      "0.7703380959648253 [0.74453567 0.81254834 0.75393027]\n",
      "\n",
      "test_precision_weighted\n",
      "0.7769341419978434 [0.74868978 0.82067877 0.76143387]\n",
      "\n",
      "test_recall_weighted\n",
      "0.7707289927657207 [0.74457429 0.8130217  0.75459098]\n",
      "----------------------------------\n",
      "Breast Cancer: \n",
      "test_f1_weighted\n",
      "0.8987033350306769 [0.88962696 0.94184084 0.8646422 ]\n",
      "\n",
      "test_precision_weighted\n",
      "0.9047952506451478 [0.88983175 0.94208242 0.88247158]\n",
      "\n",
      "test_recall_weighted\n",
      "0.8980042699340944 [0.88947368 0.94210526 0.86243386]\n",
      "----------------------------------\n",
      "Wine: \n",
      "test_f1_weighted\n",
      "0.8455842322485002 [0.77468631 0.83042814 0.93163825]\n",
      "\n",
      "test_precision_weighted\n",
      "0.8717270278009318 [0.79995706 0.88186954 0.93335448]\n",
      "\n",
      "test_recall_weighted\n",
      "0.8486817325800375 [0.78333333 0.83050847 0.93220339]\n",
      "----------------------------------\n"
     ]
    }
   ],
   "source": [
    "print(\"Digits: \")\n",
    "print('test_f1_weighted')\n",
    "print(np.mean(scores_dig['test_f1_weighted']),scores_dig['test_f1_weighted'])\n",
    "print()\n",
    "\n",
    "print('test_precision_weighted')\n",
    "print(np.mean(scores_dig['test_precision_weighted']),scores_dig['test_precision_weighted'])\n",
    "print()\n",
    "\n",
    "print('test_recall_weighted')\n",
    "print(np.mean(scores_dig['test_recall_weighted']),scores_dig['test_recall_weighted'])\n",
    "print(\"----------------------------------\")\n",
    "\n",
    "print(\"Breast Cancer: \")\n",
    "print('test_f1_weighted')\n",
    "print(np.mean(scores_bre['test_f1_weighted']),scores_bre['test_f1_weighted'])\n",
    "print()\n",
    "\n",
    "print('test_precision_weighted')\n",
    "print(np.mean(scores_bre['test_precision_weighted']),scores_bre['test_precision_weighted'])\n",
    "print()\n",
    "\n",
    "print('test_recall_weighted')\n",
    "print(np.mean(scores_bre['test_recall_weighted']),scores_bre['test_recall_weighted'])\n",
    "print(\"----------------------------------\")\n",
    "\n",
    "print(\"Wine: \")\n",
    "print('test_f1_weighted')\n",
    "print(np.mean(scores_wine['test_f1_weighted']),scores_wine['test_f1_weighted'])\n",
    "print()\n",
    "\n",
    "print('test_precision_weighted')\n",
    "print(np.mean(scores_wine['test_precision_weighted']),scores_wine['test_precision_weighted'])\n",
    "print()\n",
    "\n",
    "print('test_recall_weighted')\n",
    "print(np.mean(scores_wine['test_recall_weighted']),scores_wine['test_recall_weighted'])\n",
    "print(\"----------------------------------\")"
   ]
  },
  {
   "cell_type": "code",
   "execution_count": 22,
   "id": "2f44d43f",
   "metadata": {},
   "outputs": [
    {
     "name": "stdout",
     "output_type": "stream",
     "text": [
      "Digits: \n",
      "train_f1_weighted\n",
      "1.0 [1. 1. 1.]\n",
      "train_precision_weighted\n",
      "1.0 [1. 1. 1.]\n",
      "train_recall_weighted\n",
      "1.0 [1. 1. 1.]\n",
      "----------------------------------\n",
      "Breast Cancer: \n",
      "train_f1_weighted\n",
      "1.0 [1. 1. 1.]\n",
      "train_precision_weighted\n",
      "1.0 [1. 1. 1.]\n",
      "train_recall_weighted\n",
      "1.0 [1. 1. 1.]\n",
      "----------------------------------\n",
      "Wine: \n",
      "train_f1_weighted\n",
      "1.0 [1. 1. 1.]\n",
      "train_precision_weighted\n",
      "1.0 [1. 1. 1.]\n",
      "train_recall_weighted\n",
      "1.0 [1. 1. 1.]\n",
      "----------------------------------\n"
     ]
    }
   ],
   "source": [
    "print(\"Digits: \")\n",
    "print('train_f1_weighted')\n",
    "print(np.mean(scores_dig['train_f1_weighted']),scores_dig['train_f1_weighted'])\n",
    "\n",
    "print('train_precision_weighted')\n",
    "print(np.mean(scores_dig['train_precision_weighted']),scores_dig['train_precision_weighted'])\n",
    "\n",
    "print('train_recall_weighted')\n",
    "print(np.mean(scores_dig['train_recall_weighted']),scores_dig['train_recall_weighted'])\n",
    "print(\"----------------------------------\")\n",
    "\n",
    "print(\"Breast Cancer: \")\n",
    "print('train_f1_weighted')\n",
    "print(np.mean(scores_bre['train_f1_weighted']),scores_bre['train_f1_weighted'])\n",
    "\n",
    "print('train_precision_weighted')\n",
    "print(np.mean(scores_bre['train_precision_weighted']),scores_bre['train_precision_weighted'])\n",
    "\n",
    "print('train_recall_weighted')\n",
    "print(np.mean(scores_bre['train_recall_weighted']),scores_bre['train_recall_weighted'])\n",
    "print(\"----------------------------------\")\n",
    "\n",
    "print(\"Wine: \")\n",
    "print('train_f1_weighted')\n",
    "print(np.mean(scores_wine['train_f1_weighted']),scores_wine['train_f1_weighted'])\n",
    "\n",
    "print('train_precision_weighted')\n",
    "print(np.mean(scores_wine['train_precision_weighted']),scores_wine['train_precision_weighted'])\n",
    "\n",
    "print('train_recall_weighted')\n",
    "print(np.mean(scores_wine['train_recall_weighted']),scores_wine['train_recall_weighted'])\n",
    "print(\"----------------------------------\")"
   ]
  },
  {
   "cell_type": "code",
   "execution_count": 23,
   "id": "45963739",
   "metadata": {},
   "outputs": [],
   "source": [
    "#Digits\n",
    "model_trees_dig = clf_tree.fit(xdig, ydig)\n",
    "#Breast Cancer\n",
    "model_trees_bre = clf_tree.fit(xbre, ybre)\n",
    "#Wine\n",
    "model_trees_wine = clf_tree.fit(xwine, ywine)"
   ]
  },
  {
   "cell_type": "code",
   "execution_count": 12,
   "id": "3ee35ae7",
   "metadata": {},
   "outputs": [
    {
     "name": "stdout",
     "output_type": "stream",
     "text": [
      "Digits: \n"
     ]
    },
    {
     "ename": "ValueError",
     "evalue": "X has 64 features, but DecisionTreeClassifier is expecting 13 features as input.",
     "output_type": "error",
     "traceback": [
      "\u001b[0;31m---------------------------------------------------------------------------\u001b[0m",
      "\u001b[0;31mValueError\u001b[0m                                Traceback (most recent call last)",
      "\u001b[0;32m/var/folders/4f/vql8hr393zl31m5g_f0n_86r0000gn/T/ipykernel_32528/2835320296.py\u001b[0m in \u001b[0;36m<module>\u001b[0;34m\u001b[0m\n\u001b[1;32m      1\u001b[0m \u001b[0mprint\u001b[0m\u001b[0;34m(\u001b[0m\u001b[0;34m\"Digits: \"\u001b[0m\u001b[0;34m)\u001b[0m\u001b[0;34m\u001b[0m\u001b[0;34m\u001b[0m\u001b[0m\n\u001b[0;32m----> 2\u001b[0;31m \u001b[0mmodel_trees_dig\u001b[0m\u001b[0;34m.\u001b[0m\u001b[0mpredict\u001b[0m\u001b[0;34m(\u001b[0m\u001b[0mxdig\u001b[0m\u001b[0;34m,\u001b[0m \u001b[0;32mTrue\u001b[0m\u001b[0;34m)\u001b[0m\u001b[0;34m\u001b[0m\u001b[0;34m\u001b[0m\u001b[0m\n\u001b[0m\u001b[1;32m      3\u001b[0m \u001b[0mprint\u001b[0m\u001b[0;34m(\u001b[0m\u001b[0;34m\"----------------------------------\"\u001b[0m\u001b[0;34m)\u001b[0m\u001b[0;34m\u001b[0m\u001b[0;34m\u001b[0m\u001b[0m\n\u001b[1;32m      4\u001b[0m \u001b[0;34m\u001b[0m\u001b[0m\n\u001b[1;32m      5\u001b[0m \u001b[0mprint\u001b[0m\u001b[0;34m(\u001b[0m\u001b[0;34m\"Breast Cancer: \"\u001b[0m\u001b[0;34m)\u001b[0m\u001b[0;34m\u001b[0m\u001b[0;34m\u001b[0m\u001b[0m\n",
      "\u001b[0;32m~/opt/anaconda3/lib/python3.9/site-packages/sklearn/tree/_classes.py\u001b[0m in \u001b[0;36mpredict\u001b[0;34m(self, X, check_input)\u001b[0m\n\u001b[1;32m    440\u001b[0m         \"\"\"\n\u001b[1;32m    441\u001b[0m         \u001b[0mcheck_is_fitted\u001b[0m\u001b[0;34m(\u001b[0m\u001b[0mself\u001b[0m\u001b[0;34m)\u001b[0m\u001b[0;34m\u001b[0m\u001b[0;34m\u001b[0m\u001b[0m\n\u001b[0;32m--> 442\u001b[0;31m         \u001b[0mX\u001b[0m \u001b[0;34m=\u001b[0m \u001b[0mself\u001b[0m\u001b[0;34m.\u001b[0m\u001b[0m_validate_X_predict\u001b[0m\u001b[0;34m(\u001b[0m\u001b[0mX\u001b[0m\u001b[0;34m,\u001b[0m \u001b[0mcheck_input\u001b[0m\u001b[0;34m)\u001b[0m\u001b[0;34m\u001b[0m\u001b[0;34m\u001b[0m\u001b[0m\n\u001b[0m\u001b[1;32m    443\u001b[0m         \u001b[0mproba\u001b[0m \u001b[0;34m=\u001b[0m \u001b[0mself\u001b[0m\u001b[0;34m.\u001b[0m\u001b[0mtree_\u001b[0m\u001b[0;34m.\u001b[0m\u001b[0mpredict\u001b[0m\u001b[0;34m(\u001b[0m\u001b[0mX\u001b[0m\u001b[0;34m)\u001b[0m\u001b[0;34m\u001b[0m\u001b[0;34m\u001b[0m\u001b[0m\n\u001b[1;32m    444\u001b[0m         \u001b[0mn_samples\u001b[0m \u001b[0;34m=\u001b[0m \u001b[0mX\u001b[0m\u001b[0;34m.\u001b[0m\u001b[0mshape\u001b[0m\u001b[0;34m[\u001b[0m\u001b[0;36m0\u001b[0m\u001b[0;34m]\u001b[0m\u001b[0;34m\u001b[0m\u001b[0;34m\u001b[0m\u001b[0m\n",
      "\u001b[0;32m~/opt/anaconda3/lib/python3.9/site-packages/sklearn/tree/_classes.py\u001b[0m in \u001b[0;36m_validate_X_predict\u001b[0;34m(self, X, check_input)\u001b[0m\n\u001b[1;32m    405\u001b[0m         \u001b[0;34m\"\"\"Validate the training data on predict (probabilities).\"\"\"\u001b[0m\u001b[0;34m\u001b[0m\u001b[0;34m\u001b[0m\u001b[0m\n\u001b[1;32m    406\u001b[0m         \u001b[0;32mif\u001b[0m \u001b[0mcheck_input\u001b[0m\u001b[0;34m:\u001b[0m\u001b[0;34m\u001b[0m\u001b[0;34m\u001b[0m\u001b[0m\n\u001b[0;32m--> 407\u001b[0;31m             X = self._validate_data(X, dtype=DTYPE, accept_sparse=\"csr\",\n\u001b[0m\u001b[1;32m    408\u001b[0m                                     reset=False)\n\u001b[1;32m    409\u001b[0m             if issparse(X) and (X.indices.dtype != np.intc or\n",
      "\u001b[0;32m~/opt/anaconda3/lib/python3.9/site-packages/sklearn/base.py\u001b[0m in \u001b[0;36m_validate_data\u001b[0;34m(self, X, y, reset, validate_separately, **check_params)\u001b[0m\n\u001b[1;32m    435\u001b[0m \u001b[0;34m\u001b[0m\u001b[0m\n\u001b[1;32m    436\u001b[0m         \u001b[0;32mif\u001b[0m \u001b[0mcheck_params\u001b[0m\u001b[0;34m.\u001b[0m\u001b[0mget\u001b[0m\u001b[0;34m(\u001b[0m\u001b[0;34m'ensure_2d'\u001b[0m\u001b[0;34m,\u001b[0m \u001b[0;32mTrue\u001b[0m\u001b[0;34m)\u001b[0m\u001b[0;34m:\u001b[0m\u001b[0;34m\u001b[0m\u001b[0;34m\u001b[0m\u001b[0m\n\u001b[0;32m--> 437\u001b[0;31m             \u001b[0mself\u001b[0m\u001b[0;34m.\u001b[0m\u001b[0m_check_n_features\u001b[0m\u001b[0;34m(\u001b[0m\u001b[0mX\u001b[0m\u001b[0;34m,\u001b[0m \u001b[0mreset\u001b[0m\u001b[0;34m=\u001b[0m\u001b[0mreset\u001b[0m\u001b[0;34m)\u001b[0m\u001b[0;34m\u001b[0m\u001b[0;34m\u001b[0m\u001b[0m\n\u001b[0m\u001b[1;32m    438\u001b[0m \u001b[0;34m\u001b[0m\u001b[0m\n\u001b[1;32m    439\u001b[0m         \u001b[0;32mreturn\u001b[0m \u001b[0mout\u001b[0m\u001b[0;34m\u001b[0m\u001b[0;34m\u001b[0m\u001b[0m\n",
      "\u001b[0;32m~/opt/anaconda3/lib/python3.9/site-packages/sklearn/base.py\u001b[0m in \u001b[0;36m_check_n_features\u001b[0;34m(self, X, reset)\u001b[0m\n\u001b[1;32m    363\u001b[0m \u001b[0;34m\u001b[0m\u001b[0m\n\u001b[1;32m    364\u001b[0m         \u001b[0;32mif\u001b[0m \u001b[0mn_features\u001b[0m \u001b[0;34m!=\u001b[0m \u001b[0mself\u001b[0m\u001b[0;34m.\u001b[0m\u001b[0mn_features_in_\u001b[0m\u001b[0;34m:\u001b[0m\u001b[0;34m\u001b[0m\u001b[0;34m\u001b[0m\u001b[0m\n\u001b[0;32m--> 365\u001b[0;31m             raise ValueError(\n\u001b[0m\u001b[1;32m    366\u001b[0m                 \u001b[0;34mf\"X has {n_features} features, but {self.__class__.__name__} \"\u001b[0m\u001b[0;34m\u001b[0m\u001b[0;34m\u001b[0m\u001b[0m\n\u001b[1;32m    367\u001b[0m                 f\"is expecting {self.n_features_in_} features as input.\")\n",
      "\u001b[0;31mValueError\u001b[0m: X has 64 features, but DecisionTreeClassifier is expecting 13 features as input."
     ]
    }
   ],
   "source": [
    "\n",
    "print(\"Digits: \")\n",
    "model_trees_dig.predict(xdig, True)\n",
    "print(\"----------------------------------\")\n",
    "\n",
    "print(\"Breast Cancer: \")\n",
    "model_trees_bre.predict(xbre, True)\n",
    "print(\"----------------------------------\")\n",
    "\n",
    "print(\"Wine: \")\n",
    "model_trees_wine.predict(xwine, True)\n",
    "print(\"----------------------------------\")\n"
   ]
  },
  {
   "cell_type": "code",
   "execution_count": null,
   "id": "8f7885d7",
   "metadata": {},
   "outputs": [],
   "source": [
    "model_trees_dig.predict_proba_proba([[2., 2., 3., 3.]])\n",
    "\n",
    "\n",
    "print(\"Digits: \")\n",
    "model_trees_dig.predict_proba([[2., 2., 3., 3.]])\n",
    "print(\"----------------------------------\")\n",
    "\n",
    "print(\"Breast Cancer: \")\n",
    "model_trees_bre.predict_proba([[2., 2., 3., 3.]])\n",
    "print(\"----------------------------------\")\n",
    "\n",
    "print(\"Wine: \")\n",
    "model_trees_wine.predict_proba([[2., 2., 3., 3.]])\n",
    "print(\"----------------------------------\")"
   ]
  },
  {
   "cell_type": "code",
   "execution_count": null,
   "id": "34663e80",
   "metadata": {},
   "outputs": [],
   "source": [
    "#Digits\n",
    "from sklearn.tree import plot_tree\n",
    "import matplotlib.pyplot as plt\n",
    "\n",
    "plt.figure()\n",
    "plt.rcParams[\"figure.figsize\"] = (20,20)\n",
    "plot_tree(model_trees_dig, filled=True)\n",
    "plt.title(\"Decision tree trained on all the digits features\")\n",
    "plt.show()"
   ]
  },
  {
   "cell_type": "code",
   "execution_count": null,
   "id": "611a108d",
   "metadata": {},
   "outputs": [],
   "source": [
    "#Breast Cancer\n",
    "from sklearn.tree import plot_tree\n",
    "import matplotlib.pyplot as plt\n",
    "\n",
    "plt.figure()\n",
    "plt.rcParams[\"figure.figsize\"] = (20,20)\n",
    "plot_tree(model_trees_bre, filled=True)\n",
    "plt.title(\"Decision tree trained on all the Breast_Cancer features\")\n",
    "plt.show()"
   ]
  },
  {
   "cell_type": "code",
   "execution_count": null,
   "id": "f15e3d61",
   "metadata": {},
   "outputs": [],
   "source": [
    "#Wine\n",
    "from sklearn.tree import plot_tree\n",
    "import matplotlib.pyplot as plt\n",
    "\n",
    "plt.figure()\n",
    "plt.rcParams[\"figure.figsize\"] = (20,20)\n",
    "plot_tree(model_trees_wine, filled=True)\n",
    "plt.title(\"Decision tree trained on all the Wine features\")\n",
    "plt.show()"
   ]
  },
  {
   "cell_type": "code",
   "execution_count": null,
   "id": "704521fd",
   "metadata": {},
   "outputs": [],
   "source": [
    "#Digits\n",
    "from sklearn.model_selection import GridSearchCV\n",
    "\n",
    "param_grid = {'criterion':['gini', 'entropy'], 'max_depth':[3, 7, 9]}\n",
    "best_tree_dig = GridSearchCV(clf_tree, param_grid, scoring=('f1_weighted'), cv=3, refit=True)\n",
    "best_tree_dig.fit(xdig, ydig)\n"
   ]
  },
  {
   "cell_type": "code",
   "execution_count": null,
   "id": "a1187ec5",
   "metadata": {},
   "outputs": [],
   "source": [
    "#Breast Cancer\n",
    "from sklearn.model_selection import GridSearchCV\n",
    "\n",
    "param_grid = {'criterion':['gini', 'entropy'], 'max_depth':[3, 7, 9]}\n",
    "best_tree_bre = GridSearchCV(clf_tree_bre, param_grid, scoring=('f1_weighted'), cv=3, refit=True)\n",
    "best_tree_bre.fit(xbre, ybre)"
   ]
  },
  {
   "cell_type": "code",
   "execution_count": null,
   "id": "70e447de",
   "metadata": {},
   "outputs": [],
   "source": [
    "#Wine\n",
    "from sklearn.model_selection import GridSearchCV\n",
    "\n",
    "param_grid = {'criterion':['gini', 'entropy'], 'max_depth':[3, 7, 9]}\n",
    "best_tree_wine = GridSearchCV(clf_tree_wine, param_grid, scoring=('f1_weighted'), cv=3, refit=True)\n",
    "best_tree_wine.fit(xwine, ywine)"
   ]
  },
  {
   "cell_type": "markdown",
   "id": "d7d3a6df",
   "metadata": {},
   "source": [
    "# Digits"
   ]
  },
  {
   "cell_type": "code",
   "execution_count": null,
   "id": "0c8f1ca3",
   "metadata": {},
   "outputs": [],
   "source": [
    "import pandas as pd\n",
    "\n",
    "df_dig = pd.DataFrame(best_tree_dig.cv_results_)\n",
    "df_dig"
   ]
  },
  {
   "cell_type": "code",
   "execution_count": null,
   "id": "2bfe6f87",
   "metadata": {},
   "outputs": [],
   "source": [
    "best_model_dig = best_tree_dig.best_estimator_\n",
    "best_model_dig.fit(xdig, ydig)\n",
    "\n",
    "df_dig = pd.DataFrame(best_tree_dig.cv_results_)\n",
    "df_dig"
   ]
  },
  {
   "cell_type": "code",
   "execution_count": null,
   "id": "8babff93",
   "metadata": {},
   "outputs": [],
   "source": [
    "print(best_tree_dig.cv_results_['mean_test_score'])\n",
    "print(best_tree_dig.best_estimator_)\n",
    "print(best_tree_dig.best_params_)\n",
    "print(best_tree_dig.best_score_)"
   ]
  },
  {
   "cell_type": "markdown",
   "id": "fbf190b9",
   "metadata": {},
   "source": [
    "# Breast_Cancer"
   ]
  },
  {
   "cell_type": "code",
   "execution_count": null,
   "id": "ac67b4a4",
   "metadata": {},
   "outputs": [],
   "source": [
    "import pandas as pd\n",
    "\n",
    "df_bre = pd.DataFrame(best_tree_bre.cv_results_)\n",
    "df_bre"
   ]
  },
  {
   "cell_type": "code",
   "execution_count": null,
   "id": "279a7f3c",
   "metadata": {},
   "outputs": [],
   "source": [
    "best_model_bre = best_tree_bre.best_estimator_\n",
    "best_model_bre.fit(xbre, ybre)\n",
    "\n",
    "df_bre = pd.DataFrame(best_tree_bre.cv_results_)\n",
    "df_bre"
   ]
  },
  {
   "cell_type": "code",
   "execution_count": null,
   "id": "f31170a7",
   "metadata": {},
   "outputs": [],
   "source": [
    "print(best_tree_bre.cv_results_['mean_test_score'])\n",
    "print(best_tree_bre.best_estimator_)\n",
    "print(best_tree_bre.best_params_)\n",
    "print(best_tree_bre.best_score_)"
   ]
  },
  {
   "cell_type": "markdown",
   "id": "9e1423aa",
   "metadata": {},
   "source": [
    "# Wine"
   ]
  },
  {
   "cell_type": "code",
   "execution_count": null,
   "id": "c579bae8",
   "metadata": {},
   "outputs": [],
   "source": [
    "import pandas as pd\n",
    "\n",
    "df_dig = pd.DataFrame(best_tree_dig.cv_results_)\n",
    "df_dig"
   ]
  },
  {
   "cell_type": "code",
   "execution_count": null,
   "id": "27950288",
   "metadata": {},
   "outputs": [],
   "source": [
    "best_model_wine = best_tree_wine.best_estimator_\n",
    "best_model_wine.fit(xwine, ywine)\n",
    "\n",
    "df_wine = pd.DataFrame(best_tree_wine.cv_results_)\n",
    "df_wine"
   ]
  },
  {
   "cell_type": "code",
   "execution_count": null,
   "id": "49cb20c9",
   "metadata": {},
   "outputs": [],
   "source": [
    "print(best_tree_wine.cv_results_['mean_test_score'])\n",
    "print(best_tree_wine.best_estimator_)\n",
    "print(best_tree_wine.best_params_)\n",
    "print(best_tree_wine.best_score_)"
   ]
  },
  {
   "cell_type": "markdown",
   "id": "b4f4577d",
   "metadata": {},
   "source": [
    "# Seleção e avaliação no teste"
   ]
  },
  {
   "cell_type": "markdown",
   "id": "236c57c4",
   "metadata": {},
   "source": [
    "# Digits"
   ]
  },
  {
   "cell_type": "code",
   "execution_count": null,
   "id": "f5e203ee",
   "metadata": {},
   "outputs": [],
   "source": [
    "from sklearn.model_selection import train_test_split\n",
    "\n",
    "X_train_dig, X_test_dig, y_train_dig, y_test_dig = train_test_split(xdig, ydig, test_size=0.3, random_state=0)\n",
    "\n",
    "param_grid_dig = {'criterion':['gini', 'entropy'], 'max_depth':[3, 7, 9]}\n",
    "best_tree_dig = GridSearchCV(clf_tree, param_grid_dig, scoring=('f1_weighted'), cv=3)\n",
    "best_tree_dig.fit(X_train_dig, y_train_dig)"
   ]
  },
  {
   "cell_type": "code",
   "execution_count": null,
   "id": "7119f9c1",
   "metadata": {},
   "outputs": [],
   "source": [
    "df_dig = pd.DataFrame(best_tree_dig.cv_results_)\n",
    "df_dig"
   ]
  },
  {
   "cell_type": "code",
   "execution_count": null,
   "id": "9a5d9516",
   "metadata": {},
   "outputs": [],
   "source": [
    "print(best_tree_dig.cv_results_['mean_test_score'])\n",
    "print(best_tree_dig.best_estimator_)\n",
    "print(best_tree_dig.best_params_)\n",
    "print(best_tree_dig.best_score_)"
   ]
  },
  {
   "cell_type": "code",
   "execution_count": null,
   "id": "40da5583",
   "metadata": {},
   "outputs": [],
   "source": [
    "from sklearn.metrics import classification_report\n",
    "\n",
    "y_true_dig, y_pred_dig = y_test_dig, best_tree_dig.predict(X_test_dig)\n",
    "print(classification_report(y_true_dig, y_pred_dig))"
   ]
  },
  {
   "cell_type": "code",
   "execution_count": null,
   "id": "29f3def1",
   "metadata": {},
   "outputs": [],
   "source": [
    "from sklearn.metrics import f1_score\n",
    "f1_score(y_true_dig, y_pred_dig, average='weighted')"
   ]
  },
  {
   "cell_type": "markdown",
   "id": "a11d4f08",
   "metadata": {},
   "source": [
    "# Breast Cancer"
   ]
  },
  {
   "cell_type": "code",
   "execution_count": null,
   "id": "c0f5dd88",
   "metadata": {},
   "outputs": [],
   "source": [
    "X_train_bre, X_test_bre, y_train_bre, y_test_bre = train_test_split(xbre, ybre, test_size=0.3, random_state=0)\n",
    "\n",
    "param_grid_bre = {'criterion':['gini', 'entropy'], 'max_depth':[3, 7, 9]}\n",
    "best_tree_bre = GridSearchCV(clf_tree, param_grid_bre, scoring=('f1_weighted'), cv=3)\n",
    "best_tree_bre.fit(X_train_bre, y_train_bre)"
   ]
  },
  {
   "cell_type": "code",
   "execution_count": null,
   "id": "ee9d8339",
   "metadata": {},
   "outputs": [],
   "source": [
    "df_bre = pd.DataFrame(best_tree_bre.cv_results_)\n",
    "df_bre"
   ]
  },
  {
   "cell_type": "code",
   "execution_count": null,
   "id": "bbcda0e1",
   "metadata": {},
   "outputs": [],
   "source": [
    "print(best_tree_bre.cv_results_['mean_test_score'])\n",
    "print(best_tree_bre.best_estimator_)\n",
    "print(best_tree_bre.best_params_)\n",
    "print(best_tree_bre.best_score_)"
   ]
  },
  {
   "cell_type": "code",
   "execution_count": null,
   "id": "b01594fe",
   "metadata": {},
   "outputs": [],
   "source": [
    "y_true_bre, y_pred_bre = y_test_bre, best_tree_bre.predict(X_test_bre)\n",
    "print(classification_report(y_true_bre, y_pred_bre))"
   ]
  },
  {
   "cell_type": "code",
   "execution_count": null,
   "id": "99bd9aa3",
   "metadata": {},
   "outputs": [],
   "source": [
    "f1_score(y_true_bre, y_pred_bre, average='weighted')"
   ]
  },
  {
   "cell_type": "markdown",
   "id": "35080302",
   "metadata": {},
   "source": [
    "# Wine"
   ]
  },
  {
   "cell_type": "code",
   "execution_count": null,
   "id": "15c92d7a",
   "metadata": {},
   "outputs": [],
   "source": [
    "X_train_wine, X_test_wine, y_train_wine, y_test_wine = train_test_split(xwine, ywine, test_size=0.3, random_state=0)\n",
    "\n",
    "param_grid_wine = {'criterion':['gini', 'entropy'], 'max_depth':[3, 7, 9]}\n",
    "best_tree_wine = GridSearchCV(clf_tree, param_grid_wine, scoring=('f1_weighted'), cv=3)\n",
    "best_tree_wine.fit(X_train_wine, y_train_wine)"
   ]
  },
  {
   "cell_type": "code",
   "execution_count": null,
   "id": "e635a1a7",
   "metadata": {},
   "outputs": [],
   "source": [
    "df_wine = pd.DataFrame(best_tree_wine.cv_results_)\n",
    "df_wine"
   ]
  },
  {
   "cell_type": "code",
   "execution_count": null,
   "id": "870ef7a4",
   "metadata": {},
   "outputs": [],
   "source": [
    "print(best_tree_wine.cv_results_['mean_test_score'])\n",
    "print(best_tree_wine.best_estimator_)\n",
    "print(best_tree_wine.best_params_)\n",
    "print(best_tree_wine.best_score_)"
   ]
  },
  {
   "cell_type": "code",
   "execution_count": null,
   "id": "8843815c",
   "metadata": {},
   "outputs": [],
   "source": [
    "y_true_wine, y_pred_wine = y_test_wine, best_tree_wine.predict(X_test_wine)\n",
    "print(classification_report(y_true_wine, y_pred_wine))"
   ]
  },
  {
   "cell_type": "code",
   "execution_count": null,
   "id": "06856ea9",
   "metadata": {},
   "outputs": [],
   "source": [
    "f1_score(y_true_wine, y_pred_wine, average='weighted')"
   ]
  },
  {
   "cell_type": "markdown",
   "id": "b2c31f00",
   "metadata": {},
   "source": [
    "# k-NN"
   ]
  },
  {
   "cell_type": "code",
   "execution_count": null,
   "id": "141e5074",
   "metadata": {},
   "outputs": [],
   "source": [
    "#https://scikit-learn.org/stable/modules/neighbors.html#neighbors\n",
    "#https://scikit-learn.org/stable/modules/generated/sklearn.neighbors.KNeighborsClassifier.html#sklearn.neighbors.KNeighborsClassifier\n"
   ]
  },
  {
   "cell_type": "code",
   "execution_count": null,
   "id": "4839210e",
   "metadata": {},
   "outputs": [],
   "source": [
    "from sklearn.neighbors import KNeighborsClassifier\n",
    "\n",
    "clf_knn = KNeighborsClassifier(n_neighbors=3)\n",
    "clf_knn.fit(X, y)\n",
    "\n",
    "scores = cross_val_score(clf_knn, X, y, cv=3, scoring='f1_weighted')\n",
    "scores"
   ]
  },
  {
   "cell_type": "code",
   "execution_count": null,
   "id": "7ce910a7",
   "metadata": {},
   "outputs": [],
   "source": [
    "results[\"knn\"] = np.mean(scores)"
   ]
  },
  {
   "cell_type": "code",
   "execution_count": null,
   "id": "4688670a",
   "metadata": {},
   "outputs": [],
   "source": [
    "clf_knn.predict([[2., 2., 3., 3.]])"
   ]
  },
  {
   "cell_type": "markdown",
   "id": "f7551a4f",
   "metadata": {},
   "source": [
    "# Naive Bayes"
   ]
  },
  {
   "cell_type": "code",
   "execution_count": null,
   "id": "ea5e6111",
   "metadata": {},
   "outputs": [],
   "source": [
    "#https://scikit-learn.org/stable/modules/naive_bayes.html\n",
    "#https://scikit-learn.org/stable/modules/generated/sklearn.naive_bayes.GaussianNB.html#sklearn.naive_bayes.GaussianNB\n",
    "\n",
    "#https://towardsdatascience.com/how-i-was-using-naive-bayes-incorrectly-till-now-part-1-4ed2a7e2212b\n",
    "#GaussianNB → When you have continuous features\n",
    "#CategoricalNB →When you have categorical data\n",
    "#MultinomialNB → Applied to text data"
   ]
  },
  {
   "cell_type": "code",
   "execution_count": 26,
   "id": "86957f2c",
   "metadata": {},
   "outputs": [
    {
     "data": {
      "text/plain": [
       "array([0.82409571, 0.80427195, 0.81918411])"
      ]
     },
     "execution_count": 26,
     "metadata": {},
     "output_type": "execute_result"
    }
   ],
   "source": [
    "from sklearn.naive_bayes import GaussianNB\n",
    "\n",
    "clf_nb = GaussianNB()\n",
    "clf_nb.fit(xdig, ydig)\n",
    "\n",
    "scoresDig = cross_val_score(clf_nb, xdig, ydig, cv=3, scoring='f1_weighted')\n",
    "scoresDig"
   ]
  },
  {
   "cell_type": "code",
   "execution_count": 27,
   "id": "ebf99fdc",
   "metadata": {},
   "outputs": [
    {
     "data": {
      "text/plain": [
       "array([0.91496726, 0.94665313, 0.94723836])"
      ]
     },
     "execution_count": 27,
     "metadata": {},
     "output_type": "execute_result"
    }
   ],
   "source": [
    "clf_nb.fit(xbre, ybre)\n",
    "\n",
    "scoresBre = cross_val_score(clf_nb, xbre, ybre, cv=3, scoring='f1_weighted')\n",
    "scoresBre"
   ]
  },
  {
   "cell_type": "code",
   "execution_count": 28,
   "id": "d4d326a0",
   "metadata": {},
   "outputs": [
    {
     "data": {
      "text/plain": [
       "array([0.94937951, 0.96591585, 0.96612946])"
      ]
     },
     "execution_count": 28,
     "metadata": {},
     "output_type": "execute_result"
    }
   ],
   "source": [
    "clf_nb.fit(xwine, ywine)\n",
    "\n",
    "scoresWine = cross_val_score(clf_nb, xwine, ywine, cv=3, scoring='f1_weighted')\n",
    "scoresWine"
   ]
  },
  {
   "cell_type": "code",
   "execution_count": 29,
   "id": "13646614",
   "metadata": {},
   "outputs": [
    {
     "ename": "NameError",
     "evalue": "name 'results' is not defined",
     "output_type": "error",
     "traceback": [
      "\u001b[0;31m---------------------------------------------------------------------------\u001b[0m",
      "\u001b[0;31mNameError\u001b[0m                                 Traceback (most recent call last)",
      "\u001b[0;32m/var/folders/4f/vql8hr393zl31m5g_f0n_86r0000gn/T/ipykernel_32528/4086525040.py\u001b[0m in \u001b[0;36m<module>\u001b[0;34m\u001b[0m\n\u001b[0;32m----> 1\u001b[0;31m \u001b[0mresults\u001b[0m\u001b[0;34m[\u001b[0m\u001b[0;34m\"nb\"\u001b[0m\u001b[0;34m]\u001b[0m \u001b[0;34m=\u001b[0m \u001b[0mnp\u001b[0m\u001b[0;34m.\u001b[0m\u001b[0mmean\u001b[0m\u001b[0;34m(\u001b[0m\u001b[0mscores\u001b[0m\u001b[0;34m)\u001b[0m\u001b[0;34m\u001b[0m\u001b[0;34m\u001b[0m\u001b[0m\n\u001b[0m",
      "\u001b[0;31mNameError\u001b[0m: name 'results' is not defined"
     ]
    }
   ],
   "source": [
    "results[\"nb\"] = np.mean(scores)"
   ]
  },
  {
   "cell_type": "code",
   "execution_count": 30,
   "id": "cdbe4e73",
   "metadata": {},
   "outputs": [
    {
     "ename": "ValueError",
     "evalue": "operands could not be broadcast together with shapes (1,4) (13,) ",
     "output_type": "error",
     "traceback": [
      "\u001b[0;31m---------------------------------------------------------------------------\u001b[0m",
      "\u001b[0;31mValueError\u001b[0m                                Traceback (most recent call last)",
      "\u001b[0;32m/var/folders/4f/vql8hr393zl31m5g_f0n_86r0000gn/T/ipykernel_32528/3301258831.py\u001b[0m in \u001b[0;36m<module>\u001b[0;34m\u001b[0m\n\u001b[0;32m----> 1\u001b[0;31m \u001b[0mclf_nb\u001b[0m\u001b[0;34m.\u001b[0m\u001b[0mpredict\u001b[0m\u001b[0;34m(\u001b[0m\u001b[0;34m[\u001b[0m\u001b[0;34m[\u001b[0m\u001b[0;36m2.\u001b[0m\u001b[0;34m,\u001b[0m \u001b[0;36m2.\u001b[0m\u001b[0;34m,\u001b[0m \u001b[0;36m3.\u001b[0m\u001b[0;34m,\u001b[0m \u001b[0;36m3.\u001b[0m\u001b[0;34m]\u001b[0m\u001b[0;34m]\u001b[0m\u001b[0;34m)\u001b[0m\u001b[0;34m\u001b[0m\u001b[0;34m\u001b[0m\u001b[0m\n\u001b[0m",
      "\u001b[0;32m~/opt/anaconda3/lib/python3.9/site-packages/sklearn/naive_bayes.py\u001b[0m in \u001b[0;36mpredict\u001b[0;34m(self, X)\u001b[0m\n\u001b[1;32m     73\u001b[0m         \u001b[0mcheck_is_fitted\u001b[0m\u001b[0;34m(\u001b[0m\u001b[0mself\u001b[0m\u001b[0;34m)\u001b[0m\u001b[0;34m\u001b[0m\u001b[0;34m\u001b[0m\u001b[0m\n\u001b[1;32m     74\u001b[0m         \u001b[0mX\u001b[0m \u001b[0;34m=\u001b[0m \u001b[0mself\u001b[0m\u001b[0;34m.\u001b[0m\u001b[0m_check_X\u001b[0m\u001b[0;34m(\u001b[0m\u001b[0mX\u001b[0m\u001b[0;34m)\u001b[0m\u001b[0;34m\u001b[0m\u001b[0;34m\u001b[0m\u001b[0m\n\u001b[0;32m---> 75\u001b[0;31m         \u001b[0mjll\u001b[0m \u001b[0;34m=\u001b[0m \u001b[0mself\u001b[0m\u001b[0;34m.\u001b[0m\u001b[0m_joint_log_likelihood\u001b[0m\u001b[0;34m(\u001b[0m\u001b[0mX\u001b[0m\u001b[0;34m)\u001b[0m\u001b[0;34m\u001b[0m\u001b[0;34m\u001b[0m\u001b[0m\n\u001b[0m\u001b[1;32m     76\u001b[0m         \u001b[0;32mreturn\u001b[0m \u001b[0mself\u001b[0m\u001b[0;34m.\u001b[0m\u001b[0mclasses_\u001b[0m\u001b[0;34m[\u001b[0m\u001b[0mnp\u001b[0m\u001b[0;34m.\u001b[0m\u001b[0margmax\u001b[0m\u001b[0;34m(\u001b[0m\u001b[0mjll\u001b[0m\u001b[0;34m,\u001b[0m \u001b[0maxis\u001b[0m\u001b[0;34m=\u001b[0m\u001b[0;36m1\u001b[0m\u001b[0;34m)\u001b[0m\u001b[0;34m]\u001b[0m\u001b[0;34m\u001b[0m\u001b[0;34m\u001b[0m\u001b[0m\n\u001b[1;32m     77\u001b[0m \u001b[0;34m\u001b[0m\u001b[0m\n",
      "\u001b[0;32m~/opt/anaconda3/lib/python3.9/site-packages/sklearn/naive_bayes.py\u001b[0m in \u001b[0;36m_joint_log_likelihood\u001b[0;34m(self, X)\u001b[0m\n\u001b[1;32m    451\u001b[0m             \u001b[0mjointi\u001b[0m \u001b[0;34m=\u001b[0m \u001b[0mnp\u001b[0m\u001b[0;34m.\u001b[0m\u001b[0mlog\u001b[0m\u001b[0;34m(\u001b[0m\u001b[0mself\u001b[0m\u001b[0;34m.\u001b[0m\u001b[0mclass_prior_\u001b[0m\u001b[0;34m[\u001b[0m\u001b[0mi\u001b[0m\u001b[0;34m]\u001b[0m\u001b[0;34m)\u001b[0m\u001b[0;34m\u001b[0m\u001b[0;34m\u001b[0m\u001b[0m\n\u001b[1;32m    452\u001b[0m             \u001b[0mn_ij\u001b[0m \u001b[0;34m=\u001b[0m \u001b[0;34m-\u001b[0m \u001b[0;36m0.5\u001b[0m \u001b[0;34m*\u001b[0m \u001b[0mnp\u001b[0m\u001b[0;34m.\u001b[0m\u001b[0msum\u001b[0m\u001b[0;34m(\u001b[0m\u001b[0mnp\u001b[0m\u001b[0;34m.\u001b[0m\u001b[0mlog\u001b[0m\u001b[0;34m(\u001b[0m\u001b[0;36m2.\u001b[0m \u001b[0;34m*\u001b[0m \u001b[0mnp\u001b[0m\u001b[0;34m.\u001b[0m\u001b[0mpi\u001b[0m \u001b[0;34m*\u001b[0m \u001b[0mself\u001b[0m\u001b[0;34m.\u001b[0m\u001b[0msigma_\u001b[0m\u001b[0;34m[\u001b[0m\u001b[0mi\u001b[0m\u001b[0;34m,\u001b[0m \u001b[0;34m:\u001b[0m\u001b[0;34m]\u001b[0m\u001b[0;34m)\u001b[0m\u001b[0;34m)\u001b[0m\u001b[0;34m\u001b[0m\u001b[0;34m\u001b[0m\u001b[0m\n\u001b[0;32m--> 453\u001b[0;31m             n_ij -= 0.5 * np.sum(((X - self.theta_[i, :]) ** 2) /\n\u001b[0m\u001b[1;32m    454\u001b[0m                                  (self.sigma_[i, :]), 1)\n\u001b[1;32m    455\u001b[0m             \u001b[0mjoint_log_likelihood\u001b[0m\u001b[0;34m.\u001b[0m\u001b[0mappend\u001b[0m\u001b[0;34m(\u001b[0m\u001b[0mjointi\u001b[0m \u001b[0;34m+\u001b[0m \u001b[0mn_ij\u001b[0m\u001b[0;34m)\u001b[0m\u001b[0;34m\u001b[0m\u001b[0;34m\u001b[0m\u001b[0m\n",
      "\u001b[0;31mValueError\u001b[0m: operands could not be broadcast together with shapes (1,4) (13,) "
     ]
    }
   ],
   "source": [
    "clf_nb.predict([[2., 2., 3., 3.]])"
   ]
  },
  {
   "cell_type": "markdown",
   "id": "ead6101b",
   "metadata": {},
   "source": [
    "# SVM"
   ]
  },
  {
   "cell_type": "code",
   "execution_count": null,
   "id": "74d61eba",
   "metadata": {},
   "outputs": [],
   "source": [
    "#https://scikit-learn.org/stable/modules/svm.html#svm\n",
    "#SVC and NuSVC implement the “one-versus-one” approach for multi-class classification.\n",
    "#https://scikit-learn.org/stable/modules/generated/sklearn.svm.SVC.html#sklearn.svm.SVC"
   ]
  },
  {
   "cell_type": "code",
   "execution_count": null,
   "id": "0b870e8d",
   "metadata": {},
   "outputs": [],
   "source": [
    "from sklearn.svm import SVC\n",
    "\n",
    "clf_svm = SVC()\n",
    "clf_svm.fit(X, y)\n",
    "\n",
    "scores = cross_val_score(clf_svm, X, y, cv=3, scoring='f1_weighted')\n",
    "scores"
   ]
  },
  {
   "cell_type": "code",
   "execution_count": null,
   "id": "29b0b556",
   "metadata": {},
   "outputs": [],
   "source": [
    "results[\"svm\"] = np.mean(scores)"
   ]
  },
  {
   "cell_type": "code",
   "execution_count": null,
   "id": "9946f753",
   "metadata": {},
   "outputs": [],
   "source": [
    "clf_svm.predict([[2., 2., 3., 3.]])"
   ]
  },
  {
   "cell_type": "code",
   "execution_count": null,
   "id": "9009b65c",
   "metadata": {},
   "outputs": [],
   "source": [
    "# get support vectors\n",
    "print(clf_svm.support_vectors_)\n",
    "\n",
    "# get indices of support vectors\n",
    "print(clf_svm.support_)\n",
    "\n",
    "# get number of support vectors for each class\n",
    "print(clf_svm.n_support_)"
   ]
  },
  {
   "cell_type": "markdown",
   "id": "3497e454",
   "metadata": {},
   "source": [
    "# MLP CLASSIFIER"
   ]
  },
  {
   "cell_type": "code",
   "execution_count": null,
   "id": "b86b2042",
   "metadata": {},
   "outputs": [],
   "source": [
    "#https://scikit-learn.org/stable/modules/neural_networks_supervised.html#neural-networks-supervised\n",
    "#https://scikit-learn.org/stable/modules/generated/sklearn.neural_network.MLPClassifier.html#sklearn.neural_network.MLPClassifier\n"
   ]
  },
  {
   "cell_type": "code",
   "execution_count": null,
   "id": "e6ac865f",
   "metadata": {},
   "outputs": [],
   "source": [
    "#Class MLPClassifier implements a multi-layer perceptron (MLP) algorithm that trains using Backpropagation.\n",
    "#Currently, MLPClassifier supports only the Cross-Entropy loss function, which allows probability estimates by running the predict_proba method.\n",
    "#MLP trains using Backpropagation. More precisely, it trains using some form of gradient descent and the gradients are calculated using Backpropagation.\n",
    "#MLPClassifier supports multi-class classification by applying Softmax as the output function.\n"
   ]
  },
  {
   "cell_type": "code",
   "execution_count": 37,
   "id": "10528bf2",
   "metadata": {},
   "outputs": [
    {
     "data": {
      "text/plain": [
       "array([0.92218953, 0.91016275, 0.89276324])"
      ]
     },
     "execution_count": 37,
     "metadata": {},
     "output_type": "execute_result"
    }
   ],
   "source": [
    "from sklearn.neural_network import MLPClassifier\n",
    "\n",
    "#3 camadas intermediárias, uma com 50, a outra com 30 e a outra com 20\n",
    "clf_mlp = MLPClassifier(hidden_layer_sizes=(50, 30, 10), max_iter=5000, random_state=0)\n",
    "clf_mlp.fit(xdig, ydig)\n",
    "\n",
    "scoresDig = cross_val_score(clf_mlp, xdig, ydig, cv=3, scoring='f1_weighted')\n",
    "scoresDig"
   ]
  },
  {
   "cell_type": "code",
   "execution_count": 38,
   "id": "05b25910",
   "metadata": {},
   "outputs": [
    {
     "data": {
      "text/plain": [
       "array([0.91981979, 0.94685454, 0.92074892])"
      ]
     },
     "execution_count": 38,
     "metadata": {},
     "output_type": "execute_result"
    }
   ],
   "source": [
    "clf_mlp.fit(xbre, ybre)\n",
    "\n",
    "scoresBre = cross_val_score(clf_mlp, xbre, ybre, cv=3, scoring='f1_weighted')\n",
    "scoresBre"
   ]
  },
  {
   "cell_type": "code",
   "execution_count": 39,
   "id": "5fb0b797",
   "metadata": {},
   "outputs": [
    {
     "data": {
      "text/plain": [
       "array([0.31062271, 0.36916868, 0.40886571])"
      ]
     },
     "execution_count": 39,
     "metadata": {},
     "output_type": "execute_result"
    }
   ],
   "source": [
    "clf_mlp.fit(xwine, ywine)\n",
    "\n",
    "scoresWine = cross_val_score(clf_mlp, xwine, ywine, cv=3, scoring='f1_weighted')\n",
    "scoresWine"
   ]
  },
  {
   "cell_type": "code",
   "execution_count": 40,
   "id": "eeb5e32d",
   "metadata": {},
   "outputs": [
    {
     "ename": "NameError",
     "evalue": "name 'results' is not defined",
     "output_type": "error",
     "traceback": [
      "\u001b[0;31m---------------------------------------------------------------------------\u001b[0m",
      "\u001b[0;31mNameError\u001b[0m                                 Traceback (most recent call last)",
      "\u001b[0;32m/var/folders/4f/vql8hr393zl31m5g_f0n_86r0000gn/T/ipykernel_32528/1230499914.py\u001b[0m in \u001b[0;36m<module>\u001b[0;34m\u001b[0m\n\u001b[0;32m----> 1\u001b[0;31m \u001b[0mresults\u001b[0m\u001b[0;34m[\u001b[0m\u001b[0;34m\"ann\"\u001b[0m\u001b[0;34m]\u001b[0m \u001b[0;34m=\u001b[0m \u001b[0mnp\u001b[0m\u001b[0;34m.\u001b[0m\u001b[0mmean\u001b[0m\u001b[0;34m(\u001b[0m\u001b[0mscores\u001b[0m\u001b[0;34m)\u001b[0m\u001b[0;34m\u001b[0m\u001b[0;34m\u001b[0m\u001b[0m\n\u001b[0m",
      "\u001b[0;31mNameError\u001b[0m: name 'results' is not defined"
     ]
    }
   ],
   "source": [
    "results[\"ann\"] = np.mean(scores)"
   ]
  },
  {
   "cell_type": "code",
   "execution_count": 41,
   "id": "5ce8b883",
   "metadata": {},
   "outputs": [
    {
     "ename": "ValueError",
     "evalue": "X has 4 features, but MLPClassifier is expecting 13 features as input.",
     "output_type": "error",
     "traceback": [
      "\u001b[0;31m---------------------------------------------------------------------------\u001b[0m",
      "\u001b[0;31mValueError\u001b[0m                                Traceback (most recent call last)",
      "\u001b[0;32m/var/folders/4f/vql8hr393zl31m5g_f0n_86r0000gn/T/ipykernel_32528/3639202160.py\u001b[0m in \u001b[0;36m<module>\u001b[0;34m\u001b[0m\n\u001b[0;32m----> 1\u001b[0;31m \u001b[0mclf_mlp\u001b[0m\u001b[0;34m.\u001b[0m\u001b[0mpredict\u001b[0m\u001b[0;34m(\u001b[0m\u001b[0;34m[\u001b[0m\u001b[0;34m[\u001b[0m\u001b[0;36m2.\u001b[0m\u001b[0;34m,\u001b[0m \u001b[0;36m2.\u001b[0m\u001b[0;34m,\u001b[0m \u001b[0;36m3.\u001b[0m\u001b[0;34m,\u001b[0m \u001b[0;36m3.\u001b[0m\u001b[0;34m]\u001b[0m\u001b[0;34m]\u001b[0m\u001b[0;34m)\u001b[0m\u001b[0;34m\u001b[0m\u001b[0;34m\u001b[0m\u001b[0m\n\u001b[0m",
      "\u001b[0;32m~/opt/anaconda3/lib/python3.9/site-packages/sklearn/neural_network/_multilayer_perceptron.py\u001b[0m in \u001b[0;36mpredict\u001b[0;34m(self, X)\u001b[0m\n\u001b[1;32m   1035\u001b[0m         \"\"\"\n\u001b[1;32m   1036\u001b[0m         \u001b[0mcheck_is_fitted\u001b[0m\u001b[0;34m(\u001b[0m\u001b[0mself\u001b[0m\u001b[0;34m)\u001b[0m\u001b[0;34m\u001b[0m\u001b[0;34m\u001b[0m\u001b[0m\n\u001b[0;32m-> 1037\u001b[0;31m         \u001b[0my_pred\u001b[0m \u001b[0;34m=\u001b[0m \u001b[0mself\u001b[0m\u001b[0;34m.\u001b[0m\u001b[0m_forward_pass_fast\u001b[0m\u001b[0;34m(\u001b[0m\u001b[0mX\u001b[0m\u001b[0;34m)\u001b[0m\u001b[0;34m\u001b[0m\u001b[0;34m\u001b[0m\u001b[0m\n\u001b[0m\u001b[1;32m   1038\u001b[0m \u001b[0;34m\u001b[0m\u001b[0m\n\u001b[1;32m   1039\u001b[0m         \u001b[0;32mif\u001b[0m \u001b[0mself\u001b[0m\u001b[0;34m.\u001b[0m\u001b[0mn_outputs_\u001b[0m \u001b[0;34m==\u001b[0m \u001b[0;36m1\u001b[0m\u001b[0;34m:\u001b[0m\u001b[0;34m\u001b[0m\u001b[0;34m\u001b[0m\u001b[0m\n",
      "\u001b[0;32m~/opt/anaconda3/lib/python3.9/site-packages/sklearn/neural_network/_multilayer_perceptron.py\u001b[0m in \u001b[0;36m_forward_pass_fast\u001b[0;34m(self, X)\u001b[0m\n\u001b[1;32m    132\u001b[0m             \u001b[0mThe\u001b[0m \u001b[0mdecision\u001b[0m \u001b[0mfunction\u001b[0m \u001b[0mof\u001b[0m \u001b[0mthe\u001b[0m \u001b[0msamples\u001b[0m \u001b[0;32mfor\u001b[0m \u001b[0meach\u001b[0m \u001b[0;32mclass\u001b[0m \u001b[0;32min\u001b[0m \u001b[0mthe\u001b[0m \u001b[0mmodel\u001b[0m\u001b[0;34m.\u001b[0m\u001b[0;34m\u001b[0m\u001b[0;34m\u001b[0m\u001b[0m\n\u001b[1;32m    133\u001b[0m         \"\"\"\n\u001b[0;32m--> 134\u001b[0;31m         \u001b[0mX\u001b[0m \u001b[0;34m=\u001b[0m \u001b[0mself\u001b[0m\u001b[0;34m.\u001b[0m\u001b[0m_validate_data\u001b[0m\u001b[0;34m(\u001b[0m\u001b[0mX\u001b[0m\u001b[0;34m,\u001b[0m \u001b[0maccept_sparse\u001b[0m\u001b[0;34m=\u001b[0m\u001b[0;34m[\u001b[0m\u001b[0;34m'csr'\u001b[0m\u001b[0;34m,\u001b[0m \u001b[0;34m'csc'\u001b[0m\u001b[0;34m]\u001b[0m\u001b[0;34m,\u001b[0m \u001b[0mreset\u001b[0m\u001b[0;34m=\u001b[0m\u001b[0;32mFalse\u001b[0m\u001b[0;34m)\u001b[0m\u001b[0;34m\u001b[0m\u001b[0;34m\u001b[0m\u001b[0m\n\u001b[0m\u001b[1;32m    135\u001b[0m \u001b[0;34m\u001b[0m\u001b[0m\n\u001b[1;32m    136\u001b[0m         \u001b[0;31m# Initialize first layer\u001b[0m\u001b[0;34m\u001b[0m\u001b[0;34m\u001b[0m\u001b[0m\n",
      "\u001b[0;32m~/opt/anaconda3/lib/python3.9/site-packages/sklearn/base.py\u001b[0m in \u001b[0;36m_validate_data\u001b[0;34m(self, X, y, reset, validate_separately, **check_params)\u001b[0m\n\u001b[1;32m    435\u001b[0m \u001b[0;34m\u001b[0m\u001b[0m\n\u001b[1;32m    436\u001b[0m         \u001b[0;32mif\u001b[0m \u001b[0mcheck_params\u001b[0m\u001b[0;34m.\u001b[0m\u001b[0mget\u001b[0m\u001b[0;34m(\u001b[0m\u001b[0;34m'ensure_2d'\u001b[0m\u001b[0;34m,\u001b[0m \u001b[0;32mTrue\u001b[0m\u001b[0;34m)\u001b[0m\u001b[0;34m:\u001b[0m\u001b[0;34m\u001b[0m\u001b[0;34m\u001b[0m\u001b[0m\n\u001b[0;32m--> 437\u001b[0;31m             \u001b[0mself\u001b[0m\u001b[0;34m.\u001b[0m\u001b[0m_check_n_features\u001b[0m\u001b[0;34m(\u001b[0m\u001b[0mX\u001b[0m\u001b[0;34m,\u001b[0m \u001b[0mreset\u001b[0m\u001b[0;34m=\u001b[0m\u001b[0mreset\u001b[0m\u001b[0;34m)\u001b[0m\u001b[0;34m\u001b[0m\u001b[0;34m\u001b[0m\u001b[0m\n\u001b[0m\u001b[1;32m    438\u001b[0m \u001b[0;34m\u001b[0m\u001b[0m\n\u001b[1;32m    439\u001b[0m         \u001b[0;32mreturn\u001b[0m \u001b[0mout\u001b[0m\u001b[0;34m\u001b[0m\u001b[0;34m\u001b[0m\u001b[0m\n",
      "\u001b[0;32m~/opt/anaconda3/lib/python3.9/site-packages/sklearn/base.py\u001b[0m in \u001b[0;36m_check_n_features\u001b[0;34m(self, X, reset)\u001b[0m\n\u001b[1;32m    363\u001b[0m \u001b[0;34m\u001b[0m\u001b[0m\n\u001b[1;32m    364\u001b[0m         \u001b[0;32mif\u001b[0m \u001b[0mn_features\u001b[0m \u001b[0;34m!=\u001b[0m \u001b[0mself\u001b[0m\u001b[0;34m.\u001b[0m\u001b[0mn_features_in_\u001b[0m\u001b[0;34m:\u001b[0m\u001b[0;34m\u001b[0m\u001b[0;34m\u001b[0m\u001b[0m\n\u001b[0;32m--> 365\u001b[0;31m             raise ValueError(\n\u001b[0m\u001b[1;32m    366\u001b[0m                 \u001b[0;34mf\"X has {n_features} features, but {self.__class__.__name__} \"\u001b[0m\u001b[0;34m\u001b[0m\u001b[0;34m\u001b[0m\u001b[0m\n\u001b[1;32m    367\u001b[0m                 f\"is expecting {self.n_features_in_} features as input.\")\n",
      "\u001b[0;31mValueError\u001b[0m: X has 4 features, but MLPClassifier is expecting 13 features as input."
     ]
    }
   ],
   "source": [
    "clf_mlp.predict([[2., 2., 3., 3.]])"
   ]
  },
  {
   "cell_type": "markdown",
   "id": "691d9dff",
   "metadata": {},
   "source": [
    "# Ensemble (??? Não consta  no documento acho que não é necessário)"
   ]
  },
  {
   "cell_type": "code",
   "execution_count": null,
   "id": "6644a223",
   "metadata": {},
   "outputs": [],
   "source": [
    "#https://scikit-learn.org/stable/modules/ensemble.html#ensemble\n",
    "#https://scikit-learn.org/stable/modules/generated/sklearn.ensemble.AdaBoostClassifier.html#sklearn.ensemble.AdaBoostClassifier\n",
    "#https://scikit-learn.org/stable/modules/generated/sklearn.ensemble.BaggingClassifier.html#sklearn.ensemble.BaggingClassifier\n",
    "#https://scikit-learn.org/stable/modules/generated/sklearn.ensemble.RandomForestClassifier.html#sklearn.ensemble.RandomForestClassifier\n"
   ]
  },
  {
   "cell_type": "code",
   "execution_count": null,
   "id": "d79076e7",
   "metadata": {},
   "outputs": [],
   "source": [
    "from sklearn.ensemble import AdaBoostClassifier\n",
    "\n",
    "clf_AdaB = AdaBoostClassifier()\n",
    "clf_AdaB.fit(X, y)\n",
    "\n",
    "scores = cross_val_score(clf_AdaB, X, y, cv=3, scoring='f1_weighted')\n",
    "scores"
   ]
  },
  {
   "cell_type": "code",
   "execution_count": null,
   "id": "5a4cfc3c",
   "metadata": {},
   "outputs": [],
   "source": [
    "results[\"AdaB\"] = np.mean(scores)"
   ]
  },
  {
   "cell_type": "code",
   "execution_count": null,
   "id": "e9b4fc91",
   "metadata": {},
   "outputs": [],
   "source": [
    "clf_AdaB.predict([[2., 2., 3., 3.]])"
   ]
  },
  {
   "cell_type": "code",
   "execution_count": null,
   "id": "0bd22c92",
   "metadata": {},
   "outputs": [],
   "source": [
    "#e assim sucessivamente..."
   ]
  },
  {
   "cell_type": "markdown",
   "id": "4e55c92f",
   "metadata": {},
   "source": [
    "# Resultados-Finais"
   ]
  },
  {
   "cell_type": "code",
   "execution_count": null,
   "id": "10b3d060",
   "metadata": {},
   "outputs": [],
   "source": [
    "for key, value in results.items():\n",
    "    print(key, value)"
   ]
  },
  {
   "cell_type": "code",
   "execution_count": null,
   "id": "d98639ec",
   "metadata": {},
   "outputs": [],
   "source": []
  },
  {
   "cell_type": "code",
   "execution_count": null,
   "id": "dd766047",
   "metadata": {},
   "outputs": [],
   "source": []
  },
  {
   "cell_type": "code",
   "execution_count": null,
   "id": "5f8488d3",
   "metadata": {},
   "outputs": [],
   "source": []
  },
  {
   "cell_type": "code",
   "execution_count": null,
   "id": "f71bc70f",
   "metadata": {},
   "outputs": [],
   "source": []
  },
  {
   "cell_type": "code",
   "execution_count": null,
   "id": "fc7e2afe",
   "metadata": {},
   "outputs": [],
   "source": []
  },
  {
   "cell_type": "code",
   "execution_count": null,
   "id": "4cf91d07",
   "metadata": {},
   "outputs": [],
   "source": []
  },
  {
   "cell_type": "code",
   "execution_count": null,
   "id": "16540552",
   "metadata": {},
   "outputs": [],
   "source": []
  }
 ],
 "metadata": {
  "kernelspec": {
   "display_name": "Python 3 (ipykernel)",
   "language": "python",
   "name": "python3"
  },
  "language_info": {
   "codemirror_mode": {
    "name": "ipython",
    "version": 3
   },
   "file_extension": ".py",
   "mimetype": "text/x-python",
   "name": "python",
   "nbconvert_exporter": "python",
   "pygments_lexer": "ipython3",
   "version": "3.9.7"
  },
  "vscode": {
   "interpreter": {
    "hash": "916dbcbb3f70747c44a77c7bcd40155683ae19c65e1c03b4aa3499c5328201f1"
   }
  }
 },
 "nbformat": 4,
 "nbformat_minor": 5
}
